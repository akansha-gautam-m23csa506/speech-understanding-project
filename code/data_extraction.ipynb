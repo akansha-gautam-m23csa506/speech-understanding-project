{
 "cells": [
  {
   "cell_type": "markdown",
   "metadata": {},
   "source": [
    "# Speech Understanding\n",
    "## Robust Automatic Speech Recognition in Noisy Environment with Lip-Reading Assistance\n",
    "### Akansha Gautam    (M23CSA506)\n",
    "### Anchit Mulye      (M23CSA507)"
   ]
  },
  {
   "cell_type": "markdown",
   "metadata": {},
   "source": [
    "# Import Libraries"
   ]
  },
  {
   "cell_type": "code",
   "execution_count": 2,
   "metadata": {},
   "outputs": [],
   "source": [
    "import numpy as np\n",
    "import pandas as pd\n",
    "from pytube import YouTube\n",
    "from datasets import load_dataset\n",
    "from youtube_transcript_api import YouTubeTranscriptApi\n",
    "from urllib.parse import urlparse, parse_qs\n",
    "import subprocess\n",
    "import whisper\n",
    "import os\n",
    "import torch"
   ]
  },
  {
   "cell_type": "markdown",
   "metadata": {},
   "source": [
    "# Set Device"
   ]
  },
  {
   "cell_type": "code",
   "execution_count": 3,
   "metadata": {},
   "outputs": [
    {
     "name": "stdout",
     "output_type": "stream",
     "text": [
      "Using device: mps\n"
     ]
    }
   ],
   "source": [
    "if torch.backends.mps.is_available():\n",
    "    device = 'mps'\n",
    "elif torch.cuda.is_available():\n",
    "    device = 'cuda'\n",
    "else:\n",
    "    device = 'cpu'\n",
    "\n",
    "print(f\"Using device: {device}\")"
   ]
  },
  {
   "cell_type": "markdown",
   "metadata": {},
   "source": [
    "# Load AVSpeech Dataset"
   ]
  },
  {
   "cell_type": "code",
   "execution_count": 4,
   "metadata": {},
   "outputs": [
    {
     "name": "stdout",
     "output_type": "stream",
     "text": [
      "AVSpeech Train Dataset Shape: (2621845, 5)\n",
      "AVSpeech Test Dataset Shape: (183273, 5)\n"
     ]
    },
    {
     "data": {
      "text/html": [
       "<div>\n",
       "<style scoped>\n",
       "    .dataframe tbody tr th:only-of-type {\n",
       "        vertical-align: middle;\n",
       "    }\n",
       "\n",
       "    .dataframe tbody tr th {\n",
       "        vertical-align: top;\n",
       "    }\n",
       "\n",
       "    .dataframe thead th {\n",
       "        text-align: right;\n",
       "    }\n",
       "</style>\n",
       "<table border=\"1\" class=\"dataframe\">\n",
       "  <thead>\n",
       "    <tr style=\"text-align: right;\">\n",
       "      <th></th>\n",
       "      <th>youtube_id</th>\n",
       "      <th>start_segment</th>\n",
       "      <th>end_segment</th>\n",
       "      <th>x_coordinate</th>\n",
       "      <th>y_coordinate</th>\n",
       "    </tr>\n",
       "  </thead>\n",
       "  <tbody>\n",
       "    <tr>\n",
       "      <th>0</th>\n",
       "      <td>CJoOwXcjhds</td>\n",
       "      <td>233.266</td>\n",
       "      <td>239.367000</td>\n",
       "      <td>0.780469</td>\n",
       "      <td>0.670833</td>\n",
       "    </tr>\n",
       "    <tr>\n",
       "      <th>1</th>\n",
       "      <td>AvWWVOgaMlk</td>\n",
       "      <td>90.000</td>\n",
       "      <td>93.566667</td>\n",
       "      <td>0.586719</td>\n",
       "      <td>0.311111</td>\n",
       "    </tr>\n",
       "  </tbody>\n",
       "</table>\n",
       "</div>"
      ],
      "text/plain": [
       "    youtube_id  start_segment  end_segment  x_coordinate  y_coordinate\n",
       "0  CJoOwXcjhds        233.266   239.367000      0.780469      0.670833\n",
       "1  AvWWVOgaMlk         90.000    93.566667      0.586719      0.311111"
      ]
     },
     "execution_count": 4,
     "metadata": {},
     "output_type": "execute_result"
    }
   ],
   "source": [
    "avspeech_train_path = '/Users/akanshagautam/Documents/MTech/Speech Understanding/Project/dataset/avspeech/avspeech_train.csv'\n",
    "avspeech_test_path = '/Users/akanshagautam/Documents/MTech/Speech Understanding/Project/dataset/avspeech/avspeech_test.csv'\n",
    "names = [\"youtube_id\", \"start_segment\", \"end_segment\", \"x_coordinate\", \"y_coordinate\"]\n",
    "\n",
    "avspeech_train_df = pd.read_csv(avspeech_train_path, names=names)\n",
    "avspeech_test_df = pd.read_csv(avspeech_test_path, names=names)\n",
    "\n",
    "print(f\"AVSpeech Train Dataset Shape: {avspeech_train_df.shape}\")\n",
    "print(f\"AVSpeech Test Dataset Shape: {avspeech_test_df.shape}\")\n",
    "\n",
    "avspeech_train_df.head(2)"
   ]
  },
  {
   "cell_type": "markdown",
   "metadata": {},
   "source": [
    "# Extract Youtube data"
   ]
  },
  {
   "cell_type": "code",
   "execution_count": 5,
   "metadata": {},
   "outputs": [],
   "source": [
    "TRAIN_DIR = \"/Users/akanshagautam/Documents/MTech/Speech Understanding/Project/dataset/avspeech/train\"\n",
    "MAX_VIDEOS = 100"
   ]
  },
  {
   "cell_type": "code",
   "execution_count": 7,
   "metadata": {},
   "outputs": [],
   "source": [
    "def extract_youtube_id(url):\n",
    "    \"\"\"Extracts video ID from a YouTube URL.\"\"\"\n",
    "    query = urlparse(url).query\n",
    "    return parse_qs(query).get('v', ['video'])[0]\n",
    "\n",
    "def build_youtube_url(youtube_id):\n",
    "    return f\"https://www.youtube.com/watch?v={youtube_id}\"\n",
    "\n",
    "def download_youtube_media(base_dir, url):\n",
    "    video_id = extract_youtube_id(url)\n",
    "    output_dir = os.path.join(base_dir, video_id)\n",
    "\n",
    "    # Create directory if it doesn't exist\n",
    "    os.makedirs(output_dir, exist_ok=True)\n",
    "\n",
    "    # Download video + audio + captions into the folder\n",
    "    video_command = (\n",
    "        f'yt-dlp '\n",
    "        f'-f \"bestvideo[ext=mp4]+bestaudio[ext=m4a]/best\" '\n",
    "        f'--merge-output-format mp4 '\n",
    "        f'--output \"{output_dir}/{video_id}.%(ext)s\" '\n",
    "        f'--write-auto-sub '\n",
    "        f'--sub-lang en '\n",
    "        f'--convert-subs srt '\n",
    "        f'{url}'\n",
    "    )\n",
    "\n",
    "    # Download audio-only as .wav into the same folder\n",
    "    audio_command = (\n",
    "        f'yt-dlp '\n",
    "        f'--extract-audio '\n",
    "        f'--audio-format wav '\n",
    "        f'--output \"{output_dir}/{video_id}_audio.%(ext)s\" '\n",
    "        f'{url}'\n",
    "    )\n",
    "\n",
    "    # Run the commands\n",
    "    subprocess.run(video_command, shell=True)\n",
    "    subprocess.run(audio_command, shell=True)"
   ]
  },
  {
   "cell_type": "code",
   "execution_count": 9,
   "metadata": {},
   "outputs": [],
   "source": [
    "def build_youtube_url(youtube_id):\n",
    "    return f\"https://www.youtube.com/watch?v={youtube_id}\"\n",
    "\n",
    "def download_youtube_media(youtube_id):\n",
    "    url = build_youtube_url(youtube_id)\n",
    "    output_dir = os.path.join(TRAIN_DIR, youtube_id)\n",
    "    os.makedirs(output_dir, exist_ok=True)\n",
    "\n",
    "    try:\n",
    "\n",
    "        # Download audio-only as .wav\n",
    "        audio_command = (\n",
    "            f'yt-dlp '\n",
    "            f'--extract-audio '\n",
    "            f'--audio-format wav '\n",
    "            f'--output \"{output_dir}/{youtube_id}_audio.%(ext)s\" '\n",
    "            f'{url}'\n",
    "        )\n",
    "\n",
    "        # Download video + captions\n",
    "        video_command = (\n",
    "            f'yt-dlp '\n",
    "            f'-f \"bestvideo[ext=mp4]+bestaudio[ext=m4a]/best\" '\n",
    "            f'--merge-output-format mp4 '\n",
    "            f'--output \"{output_dir}/{youtube_id}.%(ext)s\" '\n",
    "            f'--write-auto-sub '\n",
    "            f'--sub-lang en '\n",
    "            f'--convert-subs srt '\n",
    "            f'{url}'\n",
    "        )\n",
    "\n",
    "        subprocess.run(audio_command, shell=True, check=True)\n",
    "        audio_file = os.path.join(output_dir, f\"{youtube_id}_audio.wav\")\n",
    "\n",
    "        if not is_english_audio(audio_file):\n",
    "            print(f\"Skipping non-English audio: {youtube_id}\")\n",
    "            cleanup(output_dir)\n",
    "            return False\n",
    "\n",
    "        subprocess.run(video_command, shell=True, check=True)\n",
    "        video_file = os.path.join(output_dir, f\"{youtube_id}.mp4\")\n",
    "        caption_file = os.path.join(output_dir, f\"{youtube_id}.en.srt\")\n",
    "\n",
    "        if not (os.path.exists(video_file) and os.path.exists(audio_file) and os.path.exists(caption_file)):\n",
    "            print(f\"Missing file(s) for {youtube_id}, cleaning up.\")\n",
    "            cleanup(output_dir)\n",
    "            return False\n",
    "\n",
    "        print(f\"✅ Downloaded: {youtube_id}\")\n",
    "        return True\n",
    "\n",
    "    except subprocess.CalledProcessError as e:\n",
    "        print(f\"Error downloading {youtube_id}: {e}\")\n",
    "        cleanup(output_dir)\n",
    "        return False\n",
    "\n",
    "def cleanup(folder_path):\n",
    "    \"\"\"Delete all files in a folder and the folder itself.\"\"\"\n",
    "    if os.path.exists(folder_path):\n",
    "        for f in os.listdir(folder_path):\n",
    "            os.remove(os.path.join(folder_path, f))\n",
    "        os.rmdir(folder_path)\n",
    "\n",
    "def download_dataset(df):\n",
    "    os.makedirs(TRAIN_DIR, exist_ok=True)\n",
    "\n",
    "    downloaded_count = len([f for f in os.listdir(TRAIN_DIR) if os.path.isdir(os.path.join(TRAIN_DIR, f))])\n",
    "    \n",
    "    for _, row in df.iterrows():\n",
    "        if downloaded_count >= MAX_VIDEOS:\n",
    "            print(f\"Reached the max limit of {MAX_VIDEOS}.\")\n",
    "            break\n",
    "\n",
    "        youtube_id = row['youtube_id']\n",
    "        output_dir = os.path.join(TRAIN_DIR, youtube_id)\n",
    "\n",
    "        if os.path.exists(output_dir):\n",
    "            print(f\"Skipping existing folder: {youtube_id}\")\n",
    "            continue\n",
    "\n",
    "        success = download_youtube_media(youtube_id)\n",
    "        if success:\n",
    "            downloaded_count += 1\n",
    "\n",
    "def is_english_audio(audio_path):\n",
    "    \"\"\"Returns True if detected audio language is English.\"\"\"\n",
    "    try:\n",
    "        model = whisper.load_model(\"tiny\")  # or \"base\" for better accuracy\n",
    "        result = model.transcribe(audio_path, language=None, task=\"transcribe\")\n",
    "        detected_lang = result.get(\"language\", \"\")\n",
    "        return detected_lang == \"en\"\n",
    "    except Exception as e:\n",
    "        print(f\"⚠️ Language detection failed: {e}\")\n",
    "        return False"
   ]
  },
  {
   "cell_type": "code",
   "execution_count": null,
   "metadata": {},
   "outputs": [
    {
     "name": "stderr",
     "output_type": "stream",
     "text": [
      "/Users/akanshagautam/Documents/MTech/ml_env/lib/python3.9/site-packages/urllib3/__init__.py:35: NotOpenSSLWarning: urllib3 v2 only supports OpenSSL 1.1.1+, currently the 'ssl' module is compiled with 'LibreSSL 2.8.3'. See: https://github.com/urllib3/urllib3/issues/3020\n",
      "  warnings.warn(\n"
     ]
    },
    {
     "name": "stdout",
     "output_type": "stream",
     "text": [
      "[youtube] Extracting URL: https://www.youtube.com/watch?v=CJoOwXcjhds\n",
      "[youtube] CJoOwXcjhds: Downloading webpage\n",
      "[youtube] CJoOwXcjhds: Downloading tv client config\n",
      "[youtube] CJoOwXcjhds: Downloading player 179bab65\n",
      "[youtube] CJoOwXcjhds: Downloading tv player API JSON\n",
      "[youtube] CJoOwXcjhds: Downloading ios player API JSON\n"
     ]
    },
    {
     "name": "stderr",
     "output_type": "stream",
     "text": [
      "ERROR: [youtube] CJoOwXcjhds: Video unavailable. This video is no longer available because the YouTube account associated with this video has been terminated.\n",
      "/Users/akanshagautam/Documents/MTech/ml_env/lib/python3.9/site-packages/urllib3/__init__.py:35: NotOpenSSLWarning: urllib3 v2 only supports OpenSSL 1.1.1+, currently the 'ssl' module is compiled with 'LibreSSL 2.8.3'. See: https://github.com/urllib3/urllib3/issues/3020\n",
      "  warnings.warn(\n"
     ]
    },
    {
     "name": "stdout",
     "output_type": "stream",
     "text": [
      "Error downloading CJoOwXcjhds: Command 'yt-dlp --extract-audio --audio-format wav --output \"/Users/akanshagautam/Documents/MTech/Speech Understanding/Project/dataset/avspeech/train/CJoOwXcjhds/CJoOwXcjhds_audio.%(ext)s\" https://www.youtube.com/watch?v=CJoOwXcjhds' returned non-zero exit status 1.\n",
      "[youtube] Extracting URL: https://www.youtube.com/watch?v=AvWWVOgaMlk\n",
      "[youtube] AvWWVOgaMlk: Downloading webpage\n",
      "[youtube] AvWWVOgaMlk: Downloading tv client config\n",
      "[youtube] AvWWVOgaMlk: Downloading player 179bab65\n",
      "[youtube] AvWWVOgaMlk: Downloading tv player API JSON\n",
      "[youtube] AvWWVOgaMlk: Downloading ios player API JSON\n",
      "[youtube] AvWWVOgaMlk: Downloading m3u8 information\n",
      "[info] AvWWVOgaMlk: Downloading 1 format(s): 251\n",
      "[download] Destination: /Users/akanshagautam/Documents/MTech/Speech Understanding/Project/dataset/avspeech/train/AvWWVOgaMlk/AvWWVOgaMlk_audio.webm\n",
      "[download] 100% of   15.92MiB in 00:00:21 at 763.65KiB/s   \n",
      "[ExtractAudio] Destination: /Users/akanshagautam/Documents/MTech/Speech Understanding/Project/dataset/avspeech/train/AvWWVOgaMlk/AvWWVOgaMlk_audio.wav\n",
      "Deleting original file /Users/akanshagautam/Documents/MTech/Speech Understanding/Project/dataset/avspeech/train/AvWWVOgaMlk/AvWWVOgaMlk_audio.webm (pass -k to keep)\n"
     ]
    },
    {
     "name": "stderr",
     "output_type": "stream",
     "text": [
      "100%|█████████████████████████████████████| 72.1M/72.1M [00:03<00:00, 25.0MiB/s]\n",
      "/Users/akanshagautam/Documents/MTech/ml_env/lib/python3.9/site-packages/whisper/transcribe.py:126: UserWarning: FP16 is not supported on CPU; using FP32 instead\n",
      "  warnings.warn(\"FP16 is not supported on CPU; using FP32 instead\")\n"
     ]
    },
    {
     "name": "stdout",
     "output_type": "stream",
     "text": [
      "Skipping non-English audio: AvWWVOgaMlk\n"
     ]
    },
    {
     "name": "stderr",
     "output_type": "stream",
     "text": [
      "/Users/akanshagautam/Documents/MTech/ml_env/lib/python3.9/site-packages/urllib3/__init__.py:35: NotOpenSSLWarning: urllib3 v2 only supports OpenSSL 1.1.1+, currently the 'ssl' module is compiled with 'LibreSSL 2.8.3'. See: https://github.com/urllib3/urllib3/issues/3020\n",
      "  warnings.warn(\n"
     ]
    },
    {
     "name": "stdout",
     "output_type": "stream",
     "text": [
      "[youtube] Extracting URL: https://www.youtube.com/watch?v=Y8HMIm8mdns\n",
      "[youtube] Y8HMIm8mdns: Downloading webpage\n",
      "[youtube] Y8HMIm8mdns: Downloading tv client config\n",
      "[youtube] Y8HMIm8mdns: Downloading player 179bab65\n",
      "[youtube] Y8HMIm8mdns: Downloading tv player API JSON\n",
      "[youtube] Y8HMIm8mdns: Downloading ios player API JSON\n",
      "[youtube] Y8HMIm8mdns: Downloading m3u8 information\n",
      "[info] Y8HMIm8mdns: Downloading 1 format(s): 140\n",
      "[download] Destination: /Users/akanshagautam/Documents/MTech/Speech Understanding/Project/dataset/avspeech/train/Y8HMIm8mdns/Y8HMIm8mdns_audio.m4a\n",
      "[download] 100% of    6.27MiB in 00:00:20 at 306.97KiB/s   \n",
      "[FixupM4a] Correcting container of \"/Users/akanshagautam/Documents/MTech/Speech Understanding/Project/dataset/avspeech/train/Y8HMIm8mdns/Y8HMIm8mdns_audio.m4a\"\n",
      "[ExtractAudio] Destination: /Users/akanshagautam/Documents/MTech/Speech Understanding/Project/dataset/avspeech/train/Y8HMIm8mdns/Y8HMIm8mdns_audio.wav\n",
      "Deleting original file /Users/akanshagautam/Documents/MTech/Speech Understanding/Project/dataset/avspeech/train/Y8HMIm8mdns/Y8HMIm8mdns_audio.m4a (pass -k to keep)\n"
     ]
    },
    {
     "name": "stderr",
     "output_type": "stream",
     "text": [
      "/Users/akanshagautam/Documents/MTech/ml_env/lib/python3.9/site-packages/whisper/transcribe.py:126: UserWarning: FP16 is not supported on CPU; using FP32 instead\n",
      "  warnings.warn(\"FP16 is not supported on CPU; using FP32 instead\")\n"
     ]
    },
    {
     "name": "stdout",
     "output_type": "stream",
     "text": [
      "Skipping non-English audio: Y8HMIm8mdns\n"
     ]
    },
    {
     "name": "stderr",
     "output_type": "stream",
     "text": [
      "/Users/akanshagautam/Documents/MTech/ml_env/lib/python3.9/site-packages/urllib3/__init__.py:35: NotOpenSSLWarning: urllib3 v2 only supports OpenSSL 1.1.1+, currently the 'ssl' module is compiled with 'LibreSSL 2.8.3'. See: https://github.com/urllib3/urllib3/issues/3020\n",
      "  warnings.warn(\n"
     ]
    },
    {
     "name": "stdout",
     "output_type": "stream",
     "text": [
      "[youtube] Extracting URL: https://www.youtube.com/watch?v=akwvpAiLFk0\n",
      "[youtube] akwvpAiLFk0: Downloading webpage\n",
      "[youtube] akwvpAiLFk0: Downloading tv client config\n",
      "[youtube] akwvpAiLFk0: Downloading player 179bab65\n",
      "[youtube] akwvpAiLFk0: Downloading tv player API JSON\n",
      "[youtube] akwvpAiLFk0: Downloading ios player API JSON\n"
     ]
    },
    {
     "name": "stderr",
     "output_type": "stream",
     "text": [
      "ERROR: [youtube] akwvpAiLFk0: Private video. Sign in if you've been granted access to this video. Use --cookies-from-browser or --cookies for the authentication. See  https://github.com/yt-dlp/yt-dlp/wiki/FAQ#how-do-i-pass-cookies-to-yt-dlp  for how to manually pass cookies. Also see  https://github.com/yt-dlp/yt-dlp/wiki/Extractors#exporting-youtube-cookies  for tips on effectively exporting YouTube cookies\n",
      "/Users/akanshagautam/Documents/MTech/ml_env/lib/python3.9/site-packages/urllib3/__init__.py:35: NotOpenSSLWarning: urllib3 v2 only supports OpenSSL 1.1.1+, currently the 'ssl' module is compiled with 'LibreSSL 2.8.3'. See: https://github.com/urllib3/urllib3/issues/3020\n",
      "  warnings.warn(\n"
     ]
    },
    {
     "name": "stdout",
     "output_type": "stream",
     "text": [
      "Error downloading akwvpAiLFk0: Command 'yt-dlp --extract-audio --audio-format wav --output \"/Users/akanshagautam/Documents/MTech/Speech Understanding/Project/dataset/avspeech/train/akwvpAiLFk0/akwvpAiLFk0_audio.%(ext)s\" https://www.youtube.com/watch?v=akwvpAiLFk0' returned non-zero exit status 1.\n",
      "[youtube] Extracting URL: https://www.youtube.com/watch?v=Swss72CHSWg\n",
      "[youtube] Swss72CHSWg: Downloading webpage\n",
      "[youtube] Swss72CHSWg: Downloading tv client config\n",
      "[youtube] Swss72CHSWg: Downloading player 179bab65\n",
      "[youtube] Swss72CHSWg: Downloading tv player API JSON\n",
      "[youtube] Swss72CHSWg: Downloading ios player API JSON\n",
      "[youtube] Swss72CHSWg: Downloading m3u8 information\n",
      "[info] Swss72CHSWg: Downloading 1 format(s): 140\n",
      "[download] Destination: /Users/akanshagautam/Documents/MTech/Speech Understanding/Project/dataset/avspeech/train/Swss72CHSWg/Swss72CHSWg_audio.m4a\n",
      "[download] 100% of   11.41MiB in 00:01:41 at 114.78KiB/s   \n",
      "[FixupM4a] Correcting container of \"/Users/akanshagautam/Documents/MTech/Speech Understanding/Project/dataset/avspeech/train/Swss72CHSWg/Swss72CHSWg_audio.m4a\"\n",
      "[ExtractAudio] Destination: /Users/akanshagautam/Documents/MTech/Speech Understanding/Project/dataset/avspeech/train/Swss72CHSWg/Swss72CHSWg_audio.wav\n",
      "Deleting original file /Users/akanshagautam/Documents/MTech/Speech Understanding/Project/dataset/avspeech/train/Swss72CHSWg/Swss72CHSWg_audio.m4a (pass -k to keep)\n"
     ]
    },
    {
     "name": "stderr",
     "output_type": "stream",
     "text": [
      "/Users/akanshagautam/Documents/MTech/ml_env/lib/python3.9/site-packages/whisper/transcribe.py:126: UserWarning: FP16 is not supported on CPU; using FP32 instead\n",
      "  warnings.warn(\"FP16 is not supported on CPU; using FP32 instead\")\n"
     ]
    },
    {
     "name": "stdout",
     "output_type": "stream",
     "text": [
      "Skipping non-English audio: Swss72CHSWg\n"
     ]
    },
    {
     "name": "stderr",
     "output_type": "stream",
     "text": [
      "/Users/akanshagautam/Documents/MTech/ml_env/lib/python3.9/site-packages/urllib3/__init__.py:35: NotOpenSSLWarning: urllib3 v2 only supports OpenSSL 1.1.1+, currently the 'ssl' module is compiled with 'LibreSSL 2.8.3'. See: https://github.com/urllib3/urllib3/issues/3020\n",
      "  warnings.warn(\n"
     ]
    },
    {
     "name": "stdout",
     "output_type": "stream",
     "text": [
      "[youtube] Extracting URL: https://www.youtube.com/watch?v=ymD5uLlLc0g\n",
      "[youtube] ymD5uLlLc0g: Downloading webpage\n",
      "[youtube] ymD5uLlLc0g: Downloading tv client config\n",
      "[youtube] ymD5uLlLc0g: Downloading player 179bab65\n",
      "[youtube] ymD5uLlLc0g: Downloading tv player API JSON\n",
      "[youtube] ymD5uLlLc0g: Downloading ios player API JSON\n"
     ]
    },
    {
     "name": "stderr",
     "output_type": "stream",
     "text": [
      "ERROR: [youtube] ymD5uLlLc0g: Video unavailable. This video is no longer available because the YouTube account associated with this video has been terminated.\n",
      "/Users/akanshagautam/Documents/MTech/ml_env/lib/python3.9/site-packages/urllib3/__init__.py:35: NotOpenSSLWarning: urllib3 v2 only supports OpenSSL 1.1.1+, currently the 'ssl' module is compiled with 'LibreSSL 2.8.3'. See: https://github.com/urllib3/urllib3/issues/3020\n",
      "  warnings.warn(\n"
     ]
    },
    {
     "name": "stdout",
     "output_type": "stream",
     "text": [
      "Error downloading ymD5uLlLc0g: Command 'yt-dlp --extract-audio --audio-format wav --output \"/Users/akanshagautam/Documents/MTech/Speech Understanding/Project/dataset/avspeech/train/ymD5uLlLc0g/ymD5uLlLc0g_audio.%(ext)s\" https://www.youtube.com/watch?v=ymD5uLlLc0g' returned non-zero exit status 1.\n",
      "[youtube] Extracting URL: https://www.youtube.com/watch?v=DuWE-CQDlEk\n",
      "[youtube] DuWE-CQDlEk: Downloading webpage\n",
      "[youtube] DuWE-CQDlEk: Downloading tv client config\n",
      "[youtube] DuWE-CQDlEk: Downloading player 64be519f\n",
      "[youtube] DuWE-CQDlEk: Downloading tv player API JSON\n",
      "[youtube] DuWE-CQDlEk: Downloading ios player API JSON\n",
      "[youtube] DuWE-CQDlEk: Downloading m3u8 information\n",
      "[info] DuWE-CQDlEk: Downloading 1 format(s): 251\n",
      "[download] Destination: /Users/akanshagautam/Documents/MTech/Speech Understanding/Project/dataset/avspeech/train/DuWE-CQDlEk/DuWE-CQDlEk_audio.webm\n",
      "[download] 100% of   28.93MiB in 00:01:24 at 348.80KiB/s   \n",
      "[ExtractAudio] Destination: /Users/akanshagautam/Documents/MTech/Speech Understanding/Project/dataset/avspeech/train/DuWE-CQDlEk/DuWE-CQDlEk_audio.wav\n",
      "Deleting original file /Users/akanshagautam/Documents/MTech/Speech Understanding/Project/dataset/avspeech/train/DuWE-CQDlEk/DuWE-CQDlEk_audio.webm (pass -k to keep)\n"
     ]
    },
    {
     "name": "stderr",
     "output_type": "stream",
     "text": [
      "/Users/akanshagautam/Documents/MTech/ml_env/lib/python3.9/site-packages/whisper/transcribe.py:126: UserWarning: FP16 is not supported on CPU; using FP32 instead\n",
      "  warnings.warn(\"FP16 is not supported on CPU; using FP32 instead\")\n"
     ]
    },
    {
     "name": "stdout",
     "output_type": "stream",
     "text": [
      "Skipping non-English audio: DuWE-CQDlEk\n"
     ]
    },
    {
     "name": "stderr",
     "output_type": "stream",
     "text": [
      "/Users/akanshagautam/Documents/MTech/ml_env/lib/python3.9/site-packages/urllib3/__init__.py:35: NotOpenSSLWarning: urllib3 v2 only supports OpenSSL 1.1.1+, currently the 'ssl' module is compiled with 'LibreSSL 2.8.3'. See: https://github.com/urllib3/urllib3/issues/3020\n",
      "  warnings.warn(\n"
     ]
    },
    {
     "name": "stdout",
     "output_type": "stream",
     "text": [
      "[youtube] Extracting URL: https://www.youtube.com/watch?v=uCGKDCWxqxo\n",
      "[youtube] uCGKDCWxqxo: Downloading webpage\n",
      "[youtube] uCGKDCWxqxo: Downloading tv client config\n",
      "[youtube] uCGKDCWxqxo: Downloading player 179bab65\n",
      "[youtube] uCGKDCWxqxo: Downloading tv player API JSON\n",
      "[youtube] uCGKDCWxqxo: Downloading ios player API JSON\n",
      "[youtube] uCGKDCWxqxo: Downloading m3u8 information\n",
      "[info] uCGKDCWxqxo: Downloading 1 format(s): 251\n",
      "[download] Destination: /Users/akanshagautam/Documents/MTech/Speech Understanding/Project/dataset/avspeech/train/uCGKDCWxqxo/uCGKDCWxqxo_audio.webm\n",
      "[download] 100% of    8.71MiB in 00:00:42 at 208.08KiB/s \n",
      "[ExtractAudio] Destination: /Users/akanshagautam/Documents/MTech/Speech Understanding/Project/dataset/avspeech/train/uCGKDCWxqxo/uCGKDCWxqxo_audio.wav\n",
      "Deleting original file /Users/akanshagautam/Documents/MTech/Speech Understanding/Project/dataset/avspeech/train/uCGKDCWxqxo/uCGKDCWxqxo_audio.webm (pass -k to keep)\n"
     ]
    },
    {
     "name": "stderr",
     "output_type": "stream",
     "text": [
      "/Users/akanshagautam/Documents/MTech/ml_env/lib/python3.9/site-packages/whisper/transcribe.py:126: UserWarning: FP16 is not supported on CPU; using FP32 instead\n",
      "  warnings.warn(\"FP16 is not supported on CPU; using FP32 instead\")\n"
     ]
    },
    {
     "name": "stdout",
     "output_type": "stream",
     "text": [
      "Skipping non-English audio: uCGKDCWxqxo\n"
     ]
    },
    {
     "name": "stderr",
     "output_type": "stream",
     "text": [
      "/Users/akanshagautam/Documents/MTech/ml_env/lib/python3.9/site-packages/urllib3/__init__.py:35: NotOpenSSLWarning: urllib3 v2 only supports OpenSSL 1.1.1+, currently the 'ssl' module is compiled with 'LibreSSL 2.8.3'. See: https://github.com/urllib3/urllib3/issues/3020\n",
      "  warnings.warn(\n"
     ]
    },
    {
     "name": "stdout",
     "output_type": "stream",
     "text": [
      "[youtube] Extracting URL: https://www.youtube.com/watch?v=-A9gdf3j2xo\n",
      "[youtube] -A9gdf3j2xo: Downloading webpage\n",
      "[youtube] -A9gdf3j2xo: Downloading tv client config\n",
      "[youtube] -A9gdf3j2xo: Downloading player 179bab65\n",
      "[youtube] -A9gdf3j2xo: Downloading tv player API JSON\n",
      "[youtube] -A9gdf3j2xo: Downloading ios player API JSON\n",
      "[youtube] -A9gdf3j2xo: Downloading m3u8 information\n",
      "[info] -A9gdf3j2xo: Downloading 1 format(s): 251\n",
      "[download] Destination: /Users/akanshagautam/Documents/MTech/Speech Understanding/Project/dataset/avspeech/train/-A9gdf3j2xo/-A9gdf3j2xo_audio.webm\n",
      "[download] 100% of   16.93MiB in 00:00:23 at 740.44KiB/s   \n",
      "[ExtractAudio] Destination: /Users/akanshagautam/Documents/MTech/Speech Understanding/Project/dataset/avspeech/train/-A9gdf3j2xo/-A9gdf3j2xo_audio.wav\n",
      "Deleting original file /Users/akanshagautam/Documents/MTech/Speech Understanding/Project/dataset/avspeech/train/-A9gdf3j2xo/-A9gdf3j2xo_audio.webm (pass -k to keep)\n"
     ]
    },
    {
     "name": "stderr",
     "output_type": "stream",
     "text": [
      "/Users/akanshagautam/Documents/MTech/ml_env/lib/python3.9/site-packages/whisper/transcribe.py:126: UserWarning: FP16 is not supported on CPU; using FP32 instead\n",
      "  warnings.warn(\"FP16 is not supported on CPU; using FP32 instead\")\n",
      "/Users/akanshagautam/Documents/MTech/ml_env/lib/python3.9/site-packages/urllib3/__init__.py:35: NotOpenSSLWarning: urllib3 v2 only supports OpenSSL 1.1.1+, currently the 'ssl' module is compiled with 'LibreSSL 2.8.3'. See: https://github.com/urllib3/urllib3/issues/3020\n",
      "  warnings.warn(\n"
     ]
    },
    {
     "name": "stdout",
     "output_type": "stream",
     "text": [
      "[youtube] Extracting URL: https://www.youtube.com/watch?v=-A9gdf3j2xo\n",
      "[youtube] -A9gdf3j2xo: Downloading webpage\n",
      "[youtube] -A9gdf3j2xo: Downloading tv client config\n",
      "[youtube] -A9gdf3j2xo: Downloading player 179bab65\n",
      "[youtube] -A9gdf3j2xo: Downloading tv player API JSON\n",
      "[youtube] -A9gdf3j2xo: Downloading ios player API JSON\n",
      "[youtube] -A9gdf3j2xo: Downloading m3u8 information\n",
      "[info] -A9gdf3j2xo: Downloading subtitles: en\n",
      "[info] -A9gdf3j2xo: Downloading 1 format(s): 137+140\n",
      "[info] Writing video subtitles to: /Users/akanshagautam/Documents/MTech/Speech Understanding/Project/dataset/avspeech/train/-A9gdf3j2xo/-A9gdf3j2xo.en.vtt\n",
      "[download] Destination: /Users/akanshagautam/Documents/MTech/Speech Understanding/Project/dataset/avspeech/train/-A9gdf3j2xo/-A9gdf3j2xo.en.vtt\n",
      "[download] 100% of  129.68KiB in 00:00:00 at 831.39KiB/s\n",
      "[SubtitlesConvertor] Converting subtitles\n",
      "Deleting original file /Users/akanshagautam/Documents/MTech/Speech Understanding/Project/dataset/avspeech/train/-A9gdf3j2xo/-A9gdf3j2xo.en.vtt (pass -k to keep)\n",
      "[download] Destination: /Users/akanshagautam/Documents/MTech/Speech Understanding/Project/dataset/avspeech/train/-A9gdf3j2xo/-A9gdf3j2xo.f137.mp4\n",
      "[download] 100% of  280.91MiB in 00:20:08 at 237.94KiB/s   \n",
      "[download] Destination: /Users/akanshagautam/Documents/MTech/Speech Understanding/Project/dataset/avspeech/train/-A9gdf3j2xo/-A9gdf3j2xo.f140.m4a\n",
      "[download] 100% of   15.43MiB in 00:01:21 at 193.05KiB/s   \n",
      "[Merger] Merging formats into \"/Users/akanshagautam/Documents/MTech/Speech Understanding/Project/dataset/avspeech/train/-A9gdf3j2xo/-A9gdf3j2xo.mp4\"\n",
      "Deleting original file /Users/akanshagautam/Documents/MTech/Speech Understanding/Project/dataset/avspeech/train/-A9gdf3j2xo/-A9gdf3j2xo.f137.mp4 (pass -k to keep)\n",
      "Deleting original file /Users/akanshagautam/Documents/MTech/Speech Understanding/Project/dataset/avspeech/train/-A9gdf3j2xo/-A9gdf3j2xo.f140.m4a (pass -k to keep)\n",
      "✅ Downloaded: -A9gdf3j2xo\n"
     ]
    },
    {
     "name": "stderr",
     "output_type": "stream",
     "text": [
      "/Users/akanshagautam/Documents/MTech/ml_env/lib/python3.9/site-packages/urllib3/__init__.py:35: NotOpenSSLWarning: urllib3 v2 only supports OpenSSL 1.1.1+, currently the 'ssl' module is compiled with 'LibreSSL 2.8.3'. See: https://github.com/urllib3/urllib3/issues/3020\n",
      "  warnings.warn(\n"
     ]
    },
    {
     "name": "stdout",
     "output_type": "stream",
     "text": [
      "[youtube] Extracting URL: https://www.youtube.com/watch?v=labiHToR5nk\n",
      "[youtube] labiHToR5nk: Downloading webpage\n",
      "[youtube] labiHToR5nk: Downloading tv client config\n",
      "[youtube] labiHToR5nk: Downloading player 179bab65\n",
      "[youtube] labiHToR5nk: Downloading tv player API JSON\n",
      "[youtube] labiHToR5nk: Downloading ios player API JSON\n"
     ]
    },
    {
     "name": "stderr",
     "output_type": "stream",
     "text": [
      "ERROR: [youtube] labiHToR5nk: Private video. Sign in if you've been granted access to this video. Use --cookies-from-browser or --cookies for the authentication. See  https://github.com/yt-dlp/yt-dlp/wiki/FAQ#how-do-i-pass-cookies-to-yt-dlp  for how to manually pass cookies. Also see  https://github.com/yt-dlp/yt-dlp/wiki/Extractors#exporting-youtube-cookies  for tips on effectively exporting YouTube cookies\n",
      "/Users/akanshagautam/Documents/MTech/ml_env/lib/python3.9/site-packages/urllib3/__init__.py:35: NotOpenSSLWarning: urllib3 v2 only supports OpenSSL 1.1.1+, currently the 'ssl' module is compiled with 'LibreSSL 2.8.3'. See: https://github.com/urllib3/urllib3/issues/3020\n",
      "  warnings.warn(\n"
     ]
    },
    {
     "name": "stdout",
     "output_type": "stream",
     "text": [
      "Error downloading labiHToR5nk: Command 'yt-dlp --extract-audio --audio-format wav --output \"/Users/akanshagautam/Documents/MTech/Speech Understanding/Project/dataset/avspeech/train/labiHToR5nk/labiHToR5nk_audio.%(ext)s\" https://www.youtube.com/watch?v=labiHToR5nk' returned non-zero exit status 1.\n",
      "[youtube] Extracting URL: https://www.youtube.com/watch?v=xbgfxIc-nbs\n",
      "[youtube] xbgfxIc-nbs: Downloading webpage\n",
      "[youtube] xbgfxIc-nbs: Downloading tv client config\n",
      "[youtube] xbgfxIc-nbs: Downloading player 179bab65\n",
      "[youtube] xbgfxIc-nbs: Downloading tv player API JSON\n",
      "[youtube] xbgfxIc-nbs: Downloading ios player API JSON\n",
      "[youtube] xbgfxIc-nbs: Downloading m3u8 information\n",
      "[info] xbgfxIc-nbs: Downloading 1 format(s): 251\n",
      "[download] Destination: /Users/akanshagautam/Documents/MTech/Speech Understanding/Project/dataset/avspeech/train/xbgfxIc-nbs/xbgfxIc-nbs_audio.webm\n",
      "[download] 100% of    4.40MiB in 00:01:03 at 71.18KiB/s  \n",
      "[ExtractAudio] Destination: /Users/akanshagautam/Documents/MTech/Speech Understanding/Project/dataset/avspeech/train/xbgfxIc-nbs/xbgfxIc-nbs_audio.wav\n",
      "Deleting original file /Users/akanshagautam/Documents/MTech/Speech Understanding/Project/dataset/avspeech/train/xbgfxIc-nbs/xbgfxIc-nbs_audio.webm (pass -k to keep)\n"
     ]
    },
    {
     "name": "stderr",
     "output_type": "stream",
     "text": [
      "/Users/akanshagautam/Documents/MTech/ml_env/lib/python3.9/site-packages/whisper/transcribe.py:126: UserWarning: FP16 is not supported on CPU; using FP32 instead\n",
      "  warnings.warn(\"FP16 is not supported on CPU; using FP32 instead\")\n"
     ]
    },
    {
     "name": "stdout",
     "output_type": "stream",
     "text": [
      "Skipping non-English audio: xbgfxIc-nbs\n"
     ]
    },
    {
     "name": "stderr",
     "output_type": "stream",
     "text": [
      "/Users/akanshagautam/Documents/MTech/ml_env/lib/python3.9/site-packages/urllib3/__init__.py:35: NotOpenSSLWarning: urllib3 v2 only supports OpenSSL 1.1.1+, currently the 'ssl' module is compiled with 'LibreSSL 2.8.3'. See: https://github.com/urllib3/urllib3/issues/3020\n",
      "  warnings.warn(\n"
     ]
    },
    {
     "name": "stdout",
     "output_type": "stream",
     "text": [
      "[youtube] Extracting URL: https://www.youtube.com/watch?v=QoQF8N5ZsQA\n",
      "[youtube] QoQF8N5ZsQA: Downloading webpage\n",
      "[youtube] QoQF8N5ZsQA: Downloading tv client config\n",
      "[youtube] QoQF8N5ZsQA: Downloading player 179bab65\n",
      "[youtube] QoQF8N5ZsQA: Downloading tv player API JSON\n",
      "[youtube] QoQF8N5ZsQA: Downloading ios player API JSON\n",
      "[youtube] QoQF8N5ZsQA: Downloading m3u8 information\n",
      "[info] QoQF8N5ZsQA: Downloading 1 format(s): 140\n",
      "[download] Destination: /Users/akanshagautam/Documents/MTech/Speech Understanding/Project/dataset/avspeech/train/QoQF8N5ZsQA/QoQF8N5ZsQA_audio.m4a\n",
      "[download] 100% of    6.33MiB in 00:00:24 at 269.70KiB/s \n",
      "[FixupM4a] Correcting container of \"/Users/akanshagautam/Documents/MTech/Speech Understanding/Project/dataset/avspeech/train/QoQF8N5ZsQA/QoQF8N5ZsQA_audio.m4a\"\n",
      "[ExtractAudio] Destination: /Users/akanshagautam/Documents/MTech/Speech Understanding/Project/dataset/avspeech/train/QoQF8N5ZsQA/QoQF8N5ZsQA_audio.wav\n",
      "Deleting original file /Users/akanshagautam/Documents/MTech/Speech Understanding/Project/dataset/avspeech/train/QoQF8N5ZsQA/QoQF8N5ZsQA_audio.m4a (pass -k to keep)\n"
     ]
    },
    {
     "name": "stderr",
     "output_type": "stream",
     "text": [
      "/Users/akanshagautam/Documents/MTech/ml_env/lib/python3.9/site-packages/whisper/transcribe.py:126: UserWarning: FP16 is not supported on CPU; using FP32 instead\n",
      "  warnings.warn(\"FP16 is not supported on CPU; using FP32 instead\")\n",
      "/Users/akanshagautam/Documents/MTech/ml_env/lib/python3.9/site-packages/urllib3/__init__.py:35: NotOpenSSLWarning: urllib3 v2 only supports OpenSSL 1.1.1+, currently the 'ssl' module is compiled with 'LibreSSL 2.8.3'. See: https://github.com/urllib3/urllib3/issues/3020\n",
      "  warnings.warn(\n"
     ]
    },
    {
     "name": "stdout",
     "output_type": "stream",
     "text": [
      "[youtube] Extracting URL: https://www.youtube.com/watch?v=QoQF8N5ZsQA\n",
      "[youtube] QoQF8N5ZsQA: Downloading webpage\n",
      "[youtube] QoQF8N5ZsQA: Downloading tv client config\n",
      "[youtube] QoQF8N5ZsQA: Downloading player 179bab65\n",
      "[youtube] QoQF8N5ZsQA: Downloading tv player API JSON\n",
      "[youtube] QoQF8N5ZsQA: Downloading ios player API JSON\n",
      "[youtube] QoQF8N5ZsQA: Downloading m3u8 information\n",
      "[info] QoQF8N5ZsQA: Downloading subtitles: en\n",
      "[info] QoQF8N5ZsQA: Downloading 1 format(s): 298+140\n",
      "[info] Writing video subtitles to: /Users/akanshagautam/Documents/MTech/Speech Understanding/Project/dataset/avspeech/train/QoQF8N5ZsQA/QoQF8N5ZsQA.en.vtt\n",
      "[download] Destination: /Users/akanshagautam/Documents/MTech/Speech Understanding/Project/dataset/avspeech/train/QoQF8N5ZsQA/QoQF8N5ZsQA.en.vtt\n",
      "[download] 100% of   54.25KiB in 00:00:00 at 366.02KiB/s\n",
      "[SubtitlesConvertor] Converting subtitles\n",
      "Deleting original file /Users/akanshagautam/Documents/MTech/Speech Understanding/Project/dataset/avspeech/train/QoQF8N5ZsQA/QoQF8N5ZsQA.en.vtt (pass -k to keep)\n",
      "[download] Destination: /Users/akanshagautam/Documents/MTech/Speech Understanding/Project/dataset/avspeech/train/QoQF8N5ZsQA/QoQF8N5ZsQA.f298.mp4\n",
      "[download] 100% of   85.79MiB in 00:01:06 at 1.29MiB/s     \n",
      "[download] Destination: /Users/akanshagautam/Documents/MTech/Speech Understanding/Project/dataset/avspeech/train/QoQF8N5ZsQA/QoQF8N5ZsQA.f140.m4a\n",
      "[download] 100% of    6.33MiB in 00:00:01 at 3.38MiB/s   \n",
      "[Merger] Merging formats into \"/Users/akanshagautam/Documents/MTech/Speech Understanding/Project/dataset/avspeech/train/QoQF8N5ZsQA/QoQF8N5ZsQA.mp4\"\n",
      "Deleting original file /Users/akanshagautam/Documents/MTech/Speech Understanding/Project/dataset/avspeech/train/QoQF8N5ZsQA/QoQF8N5ZsQA.f298.mp4 (pass -k to keep)\n",
      "Deleting original file /Users/akanshagautam/Documents/MTech/Speech Understanding/Project/dataset/avspeech/train/QoQF8N5ZsQA/QoQF8N5ZsQA.f140.m4a (pass -k to keep)\n",
      "✅ Downloaded: QoQF8N5ZsQA\n"
     ]
    },
    {
     "name": "stderr",
     "output_type": "stream",
     "text": [
      "/Users/akanshagautam/Documents/MTech/ml_env/lib/python3.9/site-packages/urllib3/__init__.py:35: NotOpenSSLWarning: urllib3 v2 only supports OpenSSL 1.1.1+, currently the 'ssl' module is compiled with 'LibreSSL 2.8.3'. See: https://github.com/urllib3/urllib3/issues/3020\n",
      "  warnings.warn(\n"
     ]
    },
    {
     "name": "stdout",
     "output_type": "stream",
     "text": [
      "[youtube] Extracting URL: https://www.youtube.com/watch?v=307DK9nGQhw\n",
      "[youtube] 307DK9nGQhw: Downloading webpage\n",
      "[youtube] 307DK9nGQhw: Downloading tv client config\n",
      "[youtube] 307DK9nGQhw: Downloading player 179bab65\n",
      "[youtube] 307DK9nGQhw: Downloading tv player API JSON\n",
      "[youtube] 307DK9nGQhw: Downloading ios player API JSON\n"
     ]
    },
    {
     "name": "stderr",
     "output_type": "stream",
     "text": [
      "ERROR: [youtube] 307DK9nGQhw: Private video. Sign in if you've been granted access to this video. Use --cookies-from-browser or --cookies for the authentication. See  https://github.com/yt-dlp/yt-dlp/wiki/FAQ#how-do-i-pass-cookies-to-yt-dlp  for how to manually pass cookies. Also see  https://github.com/yt-dlp/yt-dlp/wiki/Extractors#exporting-youtube-cookies  for tips on effectively exporting YouTube cookies\n",
      "/Users/akanshagautam/Documents/MTech/ml_env/lib/python3.9/site-packages/urllib3/__init__.py:35: NotOpenSSLWarning: urllib3 v2 only supports OpenSSL 1.1.1+, currently the 'ssl' module is compiled with 'LibreSSL 2.8.3'. See: https://github.com/urllib3/urllib3/issues/3020\n",
      "  warnings.warn(\n"
     ]
    },
    {
     "name": "stdout",
     "output_type": "stream",
     "text": [
      "Error downloading 307DK9nGQhw: Command 'yt-dlp --extract-audio --audio-format wav --output \"/Users/akanshagautam/Documents/MTech/Speech Understanding/Project/dataset/avspeech/train/307DK9nGQhw/307DK9nGQhw_audio.%(ext)s\" https://www.youtube.com/watch?v=307DK9nGQhw' returned non-zero exit status 1.\n",
      "[youtube] Extracting URL: https://www.youtube.com/watch?v=5qy9Ujv9XdM\n",
      "[youtube] 5qy9Ujv9XdM: Downloading webpage\n",
      "[youtube] 5qy9Ujv9XdM: Downloading tv client config\n",
      "[youtube] 5qy9Ujv9XdM: Downloading player 179bab65\n",
      "[youtube] 5qy9Ujv9XdM: Downloading tv player API JSON\n",
      "[youtube] 5qy9Ujv9XdM: Downloading ios player API JSON\n",
      "[youtube] 5qy9Ujv9XdM: Downloading m3u8 information\n",
      "[info] 5qy9Ujv9XdM: Downloading 1 format(s): 140\n",
      "[download] Destination: /Users/akanshagautam/Documents/MTech/Speech Understanding/Project/dataset/avspeech/train/5qy9Ujv9XdM/5qy9Ujv9XdM_audio.m4a\n",
      "[download] 100% of    8.73MiB in 00:01:01 at 146.00KiB/s \n",
      "[FixupM4a] Correcting container of \"/Users/akanshagautam/Documents/MTech/Speech Understanding/Project/dataset/avspeech/train/5qy9Ujv9XdM/5qy9Ujv9XdM_audio.m4a\"\n",
      "[ExtractAudio] Destination: /Users/akanshagautam/Documents/MTech/Speech Understanding/Project/dataset/avspeech/train/5qy9Ujv9XdM/5qy9Ujv9XdM_audio.wav\n",
      "Deleting original file /Users/akanshagautam/Documents/MTech/Speech Understanding/Project/dataset/avspeech/train/5qy9Ujv9XdM/5qy9Ujv9XdM_audio.m4a (pass -k to keep)\n"
     ]
    },
    {
     "name": "stderr",
     "output_type": "stream",
     "text": [
      "/Users/akanshagautam/Documents/MTech/ml_env/lib/python3.9/site-packages/whisper/transcribe.py:126: UserWarning: FP16 is not supported on CPU; using FP32 instead\n",
      "  warnings.warn(\"FP16 is not supported on CPU; using FP32 instead\")\n"
     ]
    },
    {
     "name": "stdout",
     "output_type": "stream",
     "text": [
      "Skipping non-English audio: 5qy9Ujv9XdM\n"
     ]
    },
    {
     "name": "stderr",
     "output_type": "stream",
     "text": [
      "/Users/akanshagautam/Documents/MTech/ml_env/lib/python3.9/site-packages/urllib3/__init__.py:35: NotOpenSSLWarning: urllib3 v2 only supports OpenSSL 1.1.1+, currently the 'ssl' module is compiled with 'LibreSSL 2.8.3'. See: https://github.com/urllib3/urllib3/issues/3020\n",
      "  warnings.warn(\n"
     ]
    },
    {
     "name": "stdout",
     "output_type": "stream",
     "text": [
      "[youtube] Extracting URL: https://www.youtube.com/watch?v=UBL2Vowiulk\n",
      "[youtube] UBL2Vowiulk: Downloading webpage\n",
      "[youtube] UBL2Vowiulk: Downloading tv client config\n",
      "[youtube] UBL2Vowiulk: Downloading player 179bab65\n",
      "[youtube] UBL2Vowiulk: Downloading tv player API JSON\n",
      "[youtube] UBL2Vowiulk: Downloading ios player API JSON\n",
      "[youtube] UBL2Vowiulk: Downloading m3u8 information\n",
      "[info] UBL2Vowiulk: Downloading 1 format(s): 251\n",
      "[download] Destination: /Users/akanshagautam/Documents/MTech/Speech Understanding/Project/dataset/avspeech/train/UBL2Vowiulk/UBL2Vowiulk_audio.webm\n",
      "[download] 100% of    7.52MiB in 00:01:02 at 122.40KiB/s \n",
      "[ExtractAudio] Destination: /Users/akanshagautam/Documents/MTech/Speech Understanding/Project/dataset/avspeech/train/UBL2Vowiulk/UBL2Vowiulk_audio.wav\n",
      "Deleting original file /Users/akanshagautam/Documents/MTech/Speech Understanding/Project/dataset/avspeech/train/UBL2Vowiulk/UBL2Vowiulk_audio.webm (pass -k to keep)\n"
     ]
    },
    {
     "name": "stderr",
     "output_type": "stream",
     "text": [
      "/Users/akanshagautam/Documents/MTech/ml_env/lib/python3.9/site-packages/whisper/transcribe.py:126: UserWarning: FP16 is not supported on CPU; using FP32 instead\n",
      "  warnings.warn(\"FP16 is not supported on CPU; using FP32 instead\")\n"
     ]
    },
    {
     "name": "stdout",
     "output_type": "stream",
     "text": [
      "Skipping non-English audio: UBL2Vowiulk\n"
     ]
    },
    {
     "name": "stderr",
     "output_type": "stream",
     "text": [
      "/Users/akanshagautam/Documents/MTech/ml_env/lib/python3.9/site-packages/urllib3/__init__.py:35: NotOpenSSLWarning: urllib3 v2 only supports OpenSSL 1.1.1+, currently the 'ssl' module is compiled with 'LibreSSL 2.8.3'. See: https://github.com/urllib3/urllib3/issues/3020\n",
      "  warnings.warn(\n"
     ]
    },
    {
     "name": "stdout",
     "output_type": "stream",
     "text": [
      "[youtube] Extracting URL: https://www.youtube.com/watch?v=LcyrfLT2tto\n",
      "[youtube] LcyrfLT2tto: Downloading webpage\n",
      "[youtube] LcyrfLT2tto: Downloading tv client config\n",
      "[youtube] LcyrfLT2tto: Downloading player 179bab65\n",
      "[youtube] LcyrfLT2tto: Downloading tv player API JSON\n",
      "[youtube] LcyrfLT2tto: Downloading ios player API JSON\n",
      "[youtube] LcyrfLT2tto: Downloading m3u8 information\n",
      "[info] LcyrfLT2tto: Downloading 1 format(s): 251\n",
      "[download] Destination: /Users/akanshagautam/Documents/MTech/Speech Understanding/Project/dataset/avspeech/train/LcyrfLT2tto/LcyrfLT2tto_audio.webm\n",
      "[download] 100% of    4.43MiB in 00:01:01 at 74.35KiB/s  \n",
      "[ExtractAudio] Destination: /Users/akanshagautam/Documents/MTech/Speech Understanding/Project/dataset/avspeech/train/LcyrfLT2tto/LcyrfLT2tto_audio.wav\n",
      "Deleting original file /Users/akanshagautam/Documents/MTech/Speech Understanding/Project/dataset/avspeech/train/LcyrfLT2tto/LcyrfLT2tto_audio.webm (pass -k to keep)\n"
     ]
    },
    {
     "name": "stderr",
     "output_type": "stream",
     "text": [
      "/Users/akanshagautam/Documents/MTech/ml_env/lib/python3.9/site-packages/whisper/transcribe.py:126: UserWarning: FP16 is not supported on CPU; using FP32 instead\n",
      "  warnings.warn(\"FP16 is not supported on CPU; using FP32 instead\")\n"
     ]
    },
    {
     "name": "stdout",
     "output_type": "stream",
     "text": [
      "Skipping non-English audio: LcyrfLT2tto\n"
     ]
    },
    {
     "name": "stderr",
     "output_type": "stream",
     "text": [
      "/Users/akanshagautam/Documents/MTech/ml_env/lib/python3.9/site-packages/urllib3/__init__.py:35: NotOpenSSLWarning: urllib3 v2 only supports OpenSSL 1.1.1+, currently the 'ssl' module is compiled with 'LibreSSL 2.8.3'. See: https://github.com/urllib3/urllib3/issues/3020\n",
      "  warnings.warn(\n"
     ]
    },
    {
     "name": "stdout",
     "output_type": "stream",
     "text": [
      "[youtube] Extracting URL: https://www.youtube.com/watch?v=sujFCXbYkMo\n",
      "[youtube] sujFCXbYkMo: Downloading webpage\n",
      "[youtube] sujFCXbYkMo: Downloading tv client config\n",
      "[youtube] sujFCXbYkMo: Downloading player 179bab65\n",
      "[youtube] sujFCXbYkMo: Downloading tv player API JSON\n",
      "[youtube] sujFCXbYkMo: Downloading ios player API JSON\n",
      "[youtube] sujFCXbYkMo: Downloading m3u8 information\n",
      "[info] sujFCXbYkMo: Downloading 1 format(s): 140\n",
      "[download] Destination: /Users/akanshagautam/Documents/MTech/Speech Understanding/Project/dataset/avspeech/train/sujFCXbYkMo/sujFCXbYkMo_audio.m4a\n",
      "[download] 100% of    5.54MiB in 00:00:22 at 254.18KiB/s \n",
      "[FixupM4a] Correcting container of \"/Users/akanshagautam/Documents/MTech/Speech Understanding/Project/dataset/avspeech/train/sujFCXbYkMo/sujFCXbYkMo_audio.m4a\"\n",
      "[ExtractAudio] Destination: /Users/akanshagautam/Documents/MTech/Speech Understanding/Project/dataset/avspeech/train/sujFCXbYkMo/sujFCXbYkMo_audio.wav\n",
      "Deleting original file /Users/akanshagautam/Documents/MTech/Speech Understanding/Project/dataset/avspeech/train/sujFCXbYkMo/sujFCXbYkMo_audio.m4a (pass -k to keep)\n"
     ]
    },
    {
     "name": "stderr",
     "output_type": "stream",
     "text": [
      "/Users/akanshagautam/Documents/MTech/ml_env/lib/python3.9/site-packages/whisper/transcribe.py:126: UserWarning: FP16 is not supported on CPU; using FP32 instead\n",
      "  warnings.warn(\"FP16 is not supported on CPU; using FP32 instead\")\n",
      "/Users/akanshagautam/Documents/MTech/ml_env/lib/python3.9/site-packages/urllib3/__init__.py:35: NotOpenSSLWarning: urllib3 v2 only supports OpenSSL 1.1.1+, currently the 'ssl' module is compiled with 'LibreSSL 2.8.3'. See: https://github.com/urllib3/urllib3/issues/3020\n",
      "  warnings.warn(\n"
     ]
    },
    {
     "name": "stdout",
     "output_type": "stream",
     "text": [
      "[youtube] Extracting URL: https://www.youtube.com/watch?v=sujFCXbYkMo\n",
      "[youtube] sujFCXbYkMo: Downloading webpage\n",
      "[youtube] sujFCXbYkMo: Downloading tv client config\n",
      "[youtube] sujFCXbYkMo: Downloading player 179bab65\n",
      "[youtube] sujFCXbYkMo: Downloading tv player API JSON\n",
      "[youtube] sujFCXbYkMo: Downloading ios player API JSON\n",
      "[youtube] sujFCXbYkMo: Downloading m3u8 information\n",
      "[info] sujFCXbYkMo: Downloading subtitles: en\n",
      "[info] sujFCXbYkMo: Downloading 1 format(s): 136+140\n",
      "[info] Writing video subtitles to: /Users/akanshagautam/Documents/MTech/Speech Understanding/Project/dataset/avspeech/train/sujFCXbYkMo/sujFCXbYkMo.en.vtt\n",
      "[download] Destination: /Users/akanshagautam/Documents/MTech/Speech Understanding/Project/dataset/avspeech/train/sujFCXbYkMo/sujFCXbYkMo.en.vtt\n",
      "[download] 100% of   48.97KiB in 00:00:00 at 335.60KiB/s\n",
      "[SubtitlesConvertor] Converting subtitles\n",
      "Deleting original file /Users/akanshagautam/Documents/MTech/Speech Understanding/Project/dataset/avspeech/train/sujFCXbYkMo/sujFCXbYkMo.en.vtt (pass -k to keep)\n",
      "[download] Destination: /Users/akanshagautam/Documents/MTech/Speech Understanding/Project/dataset/avspeech/train/sujFCXbYkMo/sujFCXbYkMo.f136.mp4\n",
      "[download] 100% of   32.99MiB in 00:00:26 at 1.26MiB/s     \n",
      "[download] Destination: /Users/akanshagautam/Documents/MTech/Speech Understanding/Project/dataset/avspeech/train/sujFCXbYkMo/sujFCXbYkMo.f140.m4a\n",
      "[download] 100% of    5.54MiB in 00:00:01 at 3.60MiB/s   \n",
      "[Merger] Merging formats into \"/Users/akanshagautam/Documents/MTech/Speech Understanding/Project/dataset/avspeech/train/sujFCXbYkMo/sujFCXbYkMo.mp4\"\n",
      "Deleting original file /Users/akanshagautam/Documents/MTech/Speech Understanding/Project/dataset/avspeech/train/sujFCXbYkMo/sujFCXbYkMo.f136.mp4 (pass -k to keep)\n",
      "Deleting original file /Users/akanshagautam/Documents/MTech/Speech Understanding/Project/dataset/avspeech/train/sujFCXbYkMo/sujFCXbYkMo.f140.m4a (pass -k to keep)\n",
      "✅ Downloaded: sujFCXbYkMo\n"
     ]
    },
    {
     "name": "stderr",
     "output_type": "stream",
     "text": [
      "/Users/akanshagautam/Documents/MTech/ml_env/lib/python3.9/site-packages/urllib3/__init__.py:35: NotOpenSSLWarning: urllib3 v2 only supports OpenSSL 1.1.1+, currently the 'ssl' module is compiled with 'LibreSSL 2.8.3'. See: https://github.com/urllib3/urllib3/issues/3020\n",
      "  warnings.warn(\n"
     ]
    },
    {
     "name": "stdout",
     "output_type": "stream",
     "text": [
      "[youtube] Extracting URL: https://www.youtube.com/watch?v=R0u9E8GsUXk\n",
      "[youtube] R0u9E8GsUXk: Downloading webpage\n",
      "[youtube] R0u9E8GsUXk: Downloading tv client config\n",
      "[youtube] R0u9E8GsUXk: Downloading player 179bab65\n",
      "[youtube] R0u9E8GsUXk: Downloading tv player API JSON\n",
      "[youtube] R0u9E8GsUXk: Downloading ios player API JSON\n",
      "[youtube] R0u9E8GsUXk: Downloading m3u8 information\n",
      "[info] R0u9E8GsUXk: Downloading 1 format(s): 251\n",
      "[download] Destination: /Users/akanshagautam/Documents/MTech/Speech Understanding/Project/dataset/avspeech/train/R0u9E8GsUXk/R0u9E8GsUXk_audio.webm\n",
      "[download] 100% of   14.08MiB in 00:01:04 at 223.85KiB/s   \n",
      "[ExtractAudio] Destination: /Users/akanshagautam/Documents/MTech/Speech Understanding/Project/dataset/avspeech/train/R0u9E8GsUXk/R0u9E8GsUXk_audio.wav\n",
      "Deleting original file /Users/akanshagautam/Documents/MTech/Speech Understanding/Project/dataset/avspeech/train/R0u9E8GsUXk/R0u9E8GsUXk_audio.webm (pass -k to keep)\n"
     ]
    },
    {
     "name": "stderr",
     "output_type": "stream",
     "text": [
      "/Users/akanshagautam/Documents/MTech/ml_env/lib/python3.9/site-packages/whisper/transcribe.py:126: UserWarning: FP16 is not supported on CPU; using FP32 instead\n",
      "  warnings.warn(\"FP16 is not supported on CPU; using FP32 instead\")\n"
     ]
    },
    {
     "name": "stdout",
     "output_type": "stream",
     "text": [
      "Skipping non-English audio: R0u9E8GsUXk\n"
     ]
    },
    {
     "name": "stderr",
     "output_type": "stream",
     "text": [
      "/Users/akanshagautam/Documents/MTech/ml_env/lib/python3.9/site-packages/urllib3/__init__.py:35: NotOpenSSLWarning: urllib3 v2 only supports OpenSSL 1.1.1+, currently the 'ssl' module is compiled with 'LibreSSL 2.8.3'. See: https://github.com/urllib3/urllib3/issues/3020\n",
      "  warnings.warn(\n"
     ]
    },
    {
     "name": "stdout",
     "output_type": "stream",
     "text": [
      "[youtube] Extracting URL: https://www.youtube.com/watch?v=bNxD_breZy8\n",
      "[youtube] bNxD_breZy8: Downloading webpage\n",
      "[youtube] bNxD_breZy8: Downloading tv client config\n",
      "[youtube] bNxD_breZy8: Downloading player 179bab65\n",
      "[youtube] bNxD_breZy8: Downloading tv player API JSON\n",
      "[youtube] bNxD_breZy8: Downloading ios player API JSON\n",
      "Error downloading bNxD_breZy8: Command 'yt-dlp --extract-audio --audio-format wav --output \"/Users/akanshagautam/Documents/MTech/Speech Understanding/Project/dataset/avspeech/train/bNxD_breZy8/bNxD_breZy8_audio.%(ext)s\" https://www.youtube.com/watch?v=bNxD_breZy8' returned non-zero exit status 1.\n"
     ]
    },
    {
     "name": "stderr",
     "output_type": "stream",
     "text": [
      "ERROR: [youtube] bNxD_breZy8: Private video. Sign in if you've been granted access to this video. Use --cookies-from-browser or --cookies for the authentication. See  https://github.com/yt-dlp/yt-dlp/wiki/FAQ#how-do-i-pass-cookies-to-yt-dlp  for how to manually pass cookies. Also see  https://github.com/yt-dlp/yt-dlp/wiki/Extractors#exporting-youtube-cookies  for tips on effectively exporting YouTube cookies\n",
      "/Users/akanshagautam/Documents/MTech/ml_env/lib/python3.9/site-packages/urllib3/__init__.py:35: NotOpenSSLWarning: urllib3 v2 only supports OpenSSL 1.1.1+, currently the 'ssl' module is compiled with 'LibreSSL 2.8.3'. See: https://github.com/urllib3/urllib3/issues/3020\n",
      "  warnings.warn(\n"
     ]
    },
    {
     "name": "stdout",
     "output_type": "stream",
     "text": [
      "[youtube] Extracting URL: https://www.youtube.com/watch?v=AQDWwktBhaw\n",
      "[youtube] AQDWwktBhaw: Downloading webpage\n",
      "[youtube] AQDWwktBhaw: Downloading tv client config\n",
      "[youtube] AQDWwktBhaw: Downloading player 64be519f\n",
      "[youtube] AQDWwktBhaw: Downloading tv player API JSON\n",
      "[youtube] AQDWwktBhaw: Downloading ios player API JSON\n"
     ]
    },
    {
     "name": "stderr",
     "output_type": "stream",
     "text": [
      "ERROR: [youtube] AQDWwktBhaw: Private video. Sign in if you've been granted access to this video. Use --cookies-from-browser or --cookies for the authentication. See  https://github.com/yt-dlp/yt-dlp/wiki/FAQ#how-do-i-pass-cookies-to-yt-dlp  for how to manually pass cookies. Also see  https://github.com/yt-dlp/yt-dlp/wiki/Extractors#exporting-youtube-cookies  for tips on effectively exporting YouTube cookies\n",
      "/Users/akanshagautam/Documents/MTech/ml_env/lib/python3.9/site-packages/urllib3/__init__.py:35: NotOpenSSLWarning: urllib3 v2 only supports OpenSSL 1.1.1+, currently the 'ssl' module is compiled with 'LibreSSL 2.8.3'. See: https://github.com/urllib3/urllib3/issues/3020\n",
      "  warnings.warn(\n"
     ]
    },
    {
     "name": "stdout",
     "output_type": "stream",
     "text": [
      "Error downloading AQDWwktBhaw: Command 'yt-dlp --extract-audio --audio-format wav --output \"/Users/akanshagautam/Documents/MTech/Speech Understanding/Project/dataset/avspeech/train/AQDWwktBhaw/AQDWwktBhaw_audio.%(ext)s\" https://www.youtube.com/watch?v=AQDWwktBhaw' returned non-zero exit status 1.\n",
      "[youtube] Extracting URL: https://www.youtube.com/watch?v=Dtn8xZ3BiGY\n",
      "[youtube] Dtn8xZ3BiGY: Downloading webpage\n",
      "[youtube] Dtn8xZ3BiGY: Downloading tv client config\n",
      "[youtube] Dtn8xZ3BiGY: Downloading player 64be519f\n",
      "[youtube] Dtn8xZ3BiGY: Downloading tv player API JSON\n",
      "[youtube] Dtn8xZ3BiGY: Downloading ios player API JSON\n"
     ]
    },
    {
     "name": "stderr",
     "output_type": "stream",
     "text": [
      "ERROR: [youtube] Dtn8xZ3BiGY: Video unavailable\n",
      "/Users/akanshagautam/Documents/MTech/ml_env/lib/python3.9/site-packages/urllib3/__init__.py:35: NotOpenSSLWarning: urllib3 v2 only supports OpenSSL 1.1.1+, currently the 'ssl' module is compiled with 'LibreSSL 2.8.3'. See: https://github.com/urllib3/urllib3/issues/3020\n",
      "  warnings.warn(\n"
     ]
    },
    {
     "name": "stdout",
     "output_type": "stream",
     "text": [
      "Error downloading Dtn8xZ3BiGY: Command 'yt-dlp --extract-audio --audio-format wav --output \"/Users/akanshagautam/Documents/MTech/Speech Understanding/Project/dataset/avspeech/train/Dtn8xZ3BiGY/Dtn8xZ3BiGY_audio.%(ext)s\" https://www.youtube.com/watch?v=Dtn8xZ3BiGY' returned non-zero exit status 1.\n",
      "[youtube] Extracting URL: https://www.youtube.com/watch?v=Cy9SUMj5wGY\n",
      "[youtube] Cy9SUMj5wGY: Downloading webpage\n",
      "[youtube] Cy9SUMj5wGY: Downloading tv client config\n",
      "[youtube] Cy9SUMj5wGY: Downloading player 179bab65\n",
      "[youtube] Cy9SUMj5wGY: Downloading tv player API JSON\n",
      "[youtube] Cy9SUMj5wGY: Downloading ios player API JSON\n",
      "[youtube] Cy9SUMj5wGY: Downloading m3u8 information\n",
      "[info] Cy9SUMj5wGY: Downloading 1 format(s): 251\n",
      "[download] Destination: /Users/akanshagautam/Documents/MTech/Speech Understanding/Project/dataset/avspeech/train/Cy9SUMj5wGY/Cy9SUMj5wGY_audio.webm\n",
      "[download] 100% of    8.27MiB in 00:00:42 at 199.28KiB/s \n",
      "[ExtractAudio] Destination: /Users/akanshagautam/Documents/MTech/Speech Understanding/Project/dataset/avspeech/train/Cy9SUMj5wGY/Cy9SUMj5wGY_audio.wav\n",
      "Deleting original file /Users/akanshagautam/Documents/MTech/Speech Understanding/Project/dataset/avspeech/train/Cy9SUMj5wGY/Cy9SUMj5wGY_audio.webm (pass -k to keep)\n"
     ]
    },
    {
     "name": "stderr",
     "output_type": "stream",
     "text": [
      "/Users/akanshagautam/Documents/MTech/ml_env/lib/python3.9/site-packages/whisper/transcribe.py:126: UserWarning: FP16 is not supported on CPU; using FP32 instead\n",
      "  warnings.warn(\"FP16 is not supported on CPU; using FP32 instead\")\n",
      "/Users/akanshagautam/Documents/MTech/ml_env/lib/python3.9/site-packages/urllib3/__init__.py:35: NotOpenSSLWarning: urllib3 v2 only supports OpenSSL 1.1.1+, currently the 'ssl' module is compiled with 'LibreSSL 2.8.3'. See: https://github.com/urllib3/urllib3/issues/3020\n",
      "  warnings.warn(\n"
     ]
    },
    {
     "name": "stdout",
     "output_type": "stream",
     "text": [
      "[youtube] Extracting URL: https://www.youtube.com/watch?v=Cy9SUMj5wGY\n",
      "[youtube] Cy9SUMj5wGY: Downloading webpage\n",
      "[youtube] Cy9SUMj5wGY: Downloading tv client config\n",
      "[youtube] Cy9SUMj5wGY: Downloading player 179bab65\n",
      "[youtube] Cy9SUMj5wGY: Downloading tv player API JSON\n",
      "[youtube] Cy9SUMj5wGY: Downloading ios player API JSON\n",
      "[youtube] Cy9SUMj5wGY: Downloading m3u8 information\n",
      "[info] Cy9SUMj5wGY: Downloading subtitles: en\n",
      "[info] Cy9SUMj5wGY: Downloading 1 format(s): 136+140\n",
      "[info] Writing video subtitles to: /Users/akanshagautam/Documents/MTech/Speech Understanding/Project/dataset/avspeech/train/Cy9SUMj5wGY/Cy9SUMj5wGY.en.vtt\n",
      "[download] Destination: /Users/akanshagautam/Documents/MTech/Speech Understanding/Project/dataset/avspeech/train/Cy9SUMj5wGY/Cy9SUMj5wGY.en.vtt\n",
      "[download] 100% of   79.03KiB in 00:00:00 at 370.55KiB/s\n",
      "[SubtitlesConvertor] Converting subtitles\n",
      "Deleting original file /Users/akanshagautam/Documents/MTech/Speech Understanding/Project/dataset/avspeech/train/Cy9SUMj5wGY/Cy9SUMj5wGY.en.vtt (pass -k to keep)\n",
      "[download] Destination: /Users/akanshagautam/Documents/MTech/Speech Understanding/Project/dataset/avspeech/train/Cy9SUMj5wGY/Cy9SUMj5wGY.f136.mp4\n",
      "[download] 100% of   19.68MiB in 00:00:24 at 835.92KiB/s   \n",
      "[download] Destination: /Users/akanshagautam/Documents/MTech/Speech Understanding/Project/dataset/avspeech/train/Cy9SUMj5wGY/Cy9SUMj5wGY.f140.m4a\n",
      "[download] 100% of   10.56MiB in 00:00:02 at 4.51MiB/s     \n",
      "[Merger] Merging formats into \"/Users/akanshagautam/Documents/MTech/Speech Understanding/Project/dataset/avspeech/train/Cy9SUMj5wGY/Cy9SUMj5wGY.mp4\"\n",
      "Deleting original file /Users/akanshagautam/Documents/MTech/Speech Understanding/Project/dataset/avspeech/train/Cy9SUMj5wGY/Cy9SUMj5wGY.f140.m4a (pass -k to keep)\n",
      "Deleting original file /Users/akanshagautam/Documents/MTech/Speech Understanding/Project/dataset/avspeech/train/Cy9SUMj5wGY/Cy9SUMj5wGY.f136.mp4 (pass -k to keep)\n",
      "✅ Downloaded: Cy9SUMj5wGY\n"
     ]
    },
    {
     "name": "stderr",
     "output_type": "stream",
     "text": [
      "/Users/akanshagautam/Documents/MTech/ml_env/lib/python3.9/site-packages/urllib3/__init__.py:35: NotOpenSSLWarning: urllib3 v2 only supports OpenSSL 1.1.1+, currently the 'ssl' module is compiled with 'LibreSSL 2.8.3'. See: https://github.com/urllib3/urllib3/issues/3020\n",
      "  warnings.warn(\n"
     ]
    },
    {
     "name": "stdout",
     "output_type": "stream",
     "text": [
      "[youtube] Extracting URL: https://www.youtube.com/watch?v=8nQBG5hvjpk\n",
      "[youtube] 8nQBG5hvjpk: Downloading webpage\n",
      "[youtube] 8nQBG5hvjpk: Downloading tv client config\n",
      "[youtube] 8nQBG5hvjpk: Downloading player 179bab65\n",
      "[youtube] 8nQBG5hvjpk: Downloading tv player API JSON\n",
      "[youtube] 8nQBG5hvjpk: Downloading ios player API JSON\n",
      "[youtube] 8nQBG5hvjpk: Downloading m3u8 information\n",
      "[info] 8nQBG5hvjpk: Downloading 1 format(s): 251\n",
      "[download] Destination: /Users/akanshagautam/Documents/MTech/Speech Understanding/Project/dataset/avspeech/train/8nQBG5hvjpk/8nQBG5hvjpk_audio.webm\n",
      "[download] 100% of   10.15MiB in 00:01:01 at 168.90KiB/s   \n",
      "[ExtractAudio] Destination: /Users/akanshagautam/Documents/MTech/Speech Understanding/Project/dataset/avspeech/train/8nQBG5hvjpk/8nQBG5hvjpk_audio.wav\n",
      "Deleting original file /Users/akanshagautam/Documents/MTech/Speech Understanding/Project/dataset/avspeech/train/8nQBG5hvjpk/8nQBG5hvjpk_audio.webm (pass -k to keep)\n"
     ]
    },
    {
     "name": "stderr",
     "output_type": "stream",
     "text": [
      "/Users/akanshagautam/Documents/MTech/ml_env/lib/python3.9/site-packages/whisper/transcribe.py:126: UserWarning: FP16 is not supported on CPU; using FP32 instead\n",
      "  warnings.warn(\"FP16 is not supported on CPU; using FP32 instead\")\n"
     ]
    },
    {
     "name": "stdout",
     "output_type": "stream",
     "text": [
      "Skipping non-English audio: 8nQBG5hvjpk\n"
     ]
    },
    {
     "name": "stderr",
     "output_type": "stream",
     "text": [
      "/Users/akanshagautam/Documents/MTech/ml_env/lib/python3.9/site-packages/urllib3/__init__.py:35: NotOpenSSLWarning: urllib3 v2 only supports OpenSSL 1.1.1+, currently the 'ssl' module is compiled with 'LibreSSL 2.8.3'. See: https://github.com/urllib3/urllib3/issues/3020\n",
      "  warnings.warn(\n"
     ]
    },
    {
     "name": "stdout",
     "output_type": "stream",
     "text": [
      "[youtube] Extracting URL: https://www.youtube.com/watch?v=rCp8Jae81KU\n",
      "[youtube] rCp8Jae81KU: Downloading webpage\n",
      "[youtube] rCp8Jae81KU: Downloading tv client config\n",
      "[youtube] rCp8Jae81KU: Downloading player 64be519f\n",
      "[youtube] rCp8Jae81KU: Downloading tv player API JSON\n",
      "[youtube] rCp8Jae81KU: Downloading ios player API JSON\n",
      "[youtube] rCp8Jae81KU: Downloading m3u8 information\n",
      "[info] rCp8Jae81KU: Downloading 1 format(s): 140\n",
      "[download] Destination: /Users/akanshagautam/Documents/MTech/Speech Understanding/Project/dataset/avspeech/train/rCp8Jae81KU/rCp8Jae81KU_audio.m4a\n",
      "[download] 100% of    7.71MiB in 00:00:22 at 352.42KiB/s   \n",
      "[FixupM4a] Correcting container of \"/Users/akanshagautam/Documents/MTech/Speech Understanding/Project/dataset/avspeech/train/rCp8Jae81KU/rCp8Jae81KU_audio.m4a\"\n",
      "[ExtractAudio] Destination: /Users/akanshagautam/Documents/MTech/Speech Understanding/Project/dataset/avspeech/train/rCp8Jae81KU/rCp8Jae81KU_audio.wav\n",
      "Deleting original file /Users/akanshagautam/Documents/MTech/Speech Understanding/Project/dataset/avspeech/train/rCp8Jae81KU/rCp8Jae81KU_audio.m4a (pass -k to keep)\n"
     ]
    },
    {
     "name": "stderr",
     "output_type": "stream",
     "text": [
      "/Users/akanshagautam/Documents/MTech/ml_env/lib/python3.9/site-packages/whisper/transcribe.py:126: UserWarning: FP16 is not supported on CPU; using FP32 instead\n",
      "  warnings.warn(\"FP16 is not supported on CPU; using FP32 instead\")\n"
     ]
    },
    {
     "name": "stdout",
     "output_type": "stream",
     "text": [
      "Skipping non-English audio: rCp8Jae81KU\n"
     ]
    },
    {
     "name": "stderr",
     "output_type": "stream",
     "text": [
      "/Users/akanshagautam/Documents/MTech/ml_env/lib/python3.9/site-packages/urllib3/__init__.py:35: NotOpenSSLWarning: urllib3 v2 only supports OpenSSL 1.1.1+, currently the 'ssl' module is compiled with 'LibreSSL 2.8.3'. See: https://github.com/urllib3/urllib3/issues/3020\n",
      "  warnings.warn(\n"
     ]
    },
    {
     "name": "stdout",
     "output_type": "stream",
     "text": [
      "[youtube] Extracting URL: https://www.youtube.com/watch?v=PmD-LzPS2rg\n",
      "[youtube] PmD-LzPS2rg: Downloading webpage\n",
      "[youtube] PmD-LzPS2rg: Downloading tv client config\n",
      "[youtube] PmD-LzPS2rg: Downloading player 179bab65\n",
      "[youtube] PmD-LzPS2rg: Downloading tv player API JSON\n",
      "[youtube] PmD-LzPS2rg: Downloading ios player API JSON\n",
      "[youtube] PmD-LzPS2rg: Downloading m3u8 information\n",
      "[info] PmD-LzPS2rg: Downloading 1 format(s): 251\n",
      "[download] Destination: /Users/akanshagautam/Documents/MTech/Speech Understanding/Project/dataset/avspeech/train/PmD-LzPS2rg/PmD-LzPS2rg_audio.webm\n",
      "[download] 100% of    8.86MiB in 00:00:40 at 222.50KiB/s \n",
      "[ExtractAudio] Destination: /Users/akanshagautam/Documents/MTech/Speech Understanding/Project/dataset/avspeech/train/PmD-LzPS2rg/PmD-LzPS2rg_audio.wav\n",
      "Deleting original file /Users/akanshagautam/Documents/MTech/Speech Understanding/Project/dataset/avspeech/train/PmD-LzPS2rg/PmD-LzPS2rg_audio.webm (pass -k to keep)\n"
     ]
    },
    {
     "name": "stderr",
     "output_type": "stream",
     "text": [
      "/Users/akanshagautam/Documents/MTech/ml_env/lib/python3.9/site-packages/whisper/transcribe.py:126: UserWarning: FP16 is not supported on CPU; using FP32 instead\n",
      "  warnings.warn(\"FP16 is not supported on CPU; using FP32 instead\")\n",
      "/Users/akanshagautam/Documents/MTech/ml_env/lib/python3.9/site-packages/urllib3/__init__.py:35: NotOpenSSLWarning: urllib3 v2 only supports OpenSSL 1.1.1+, currently the 'ssl' module is compiled with 'LibreSSL 2.8.3'. See: https://github.com/urllib3/urllib3/issues/3020\n",
      "  warnings.warn(\n"
     ]
    },
    {
     "name": "stdout",
     "output_type": "stream",
     "text": [
      "[youtube] Extracting URL: https://www.youtube.com/watch?v=PmD-LzPS2rg\n",
      "[youtube] PmD-LzPS2rg: Downloading webpage\n",
      "[youtube] PmD-LzPS2rg: Downloading tv client config\n",
      "[youtube] PmD-LzPS2rg: Downloading player 179bab65\n",
      "[youtube] PmD-LzPS2rg: Downloading tv player API JSON\n",
      "[youtube] PmD-LzPS2rg: Downloading ios player API JSON\n",
      "[youtube] PmD-LzPS2rg: Downloading m3u8 information\n",
      "[info] PmD-LzPS2rg: Downloading subtitles: en\n",
      "[info] PmD-LzPS2rg: Downloading 1 format(s): 136+140\n",
      "[info] Writing video subtitles to: /Users/akanshagautam/Documents/MTech/Speech Understanding/Project/dataset/avspeech/train/PmD-LzPS2rg/PmD-LzPS2rg.en.vtt\n",
      "[download] Destination: /Users/akanshagautam/Documents/MTech/Speech Understanding/Project/dataset/avspeech/train/PmD-LzPS2rg/PmD-LzPS2rg.en.vtt\n",
      "[download] 100% of  111.82KiB in 00:00:00 at 799.87KiB/s\n",
      "[SubtitlesConvertor] Converting subtitles\n",
      "Deleting original file /Users/akanshagautam/Documents/MTech/Speech Understanding/Project/dataset/avspeech/train/PmD-LzPS2rg/PmD-LzPS2rg.en.vtt (pass -k to keep)\n",
      "[download] Destination: /Users/akanshagautam/Documents/MTech/Speech Understanding/Project/dataset/avspeech/train/PmD-LzPS2rg/PmD-LzPS2rg.f136.mp4\n",
      "[download] 100% of   82.11MiB in 00:04:37 at 303.11KiB/s   \n",
      "[download] Destination: /Users/akanshagautam/Documents/MTech/Speech Understanding/Project/dataset/avspeech/train/PmD-LzPS2rg/PmD-LzPS2rg.f140.m4a\n",
      "[download] 100% of   11.86MiB in 00:01:23 at 145.87KiB/s   \n",
      "[Merger] Merging formats into \"/Users/akanshagautam/Documents/MTech/Speech Understanding/Project/dataset/avspeech/train/PmD-LzPS2rg/PmD-LzPS2rg.mp4\"\n",
      "Deleting original file /Users/akanshagautam/Documents/MTech/Speech Understanding/Project/dataset/avspeech/train/PmD-LzPS2rg/PmD-LzPS2rg.f140.m4a (pass -k to keep)\n",
      "Deleting original file /Users/akanshagautam/Documents/MTech/Speech Understanding/Project/dataset/avspeech/train/PmD-LzPS2rg/PmD-LzPS2rg.f136.mp4 (pass -k to keep)\n",
      "✅ Downloaded: PmD-LzPS2rg\n"
     ]
    },
    {
     "name": "stderr",
     "output_type": "stream",
     "text": [
      "/Users/akanshagautam/Documents/MTech/ml_env/lib/python3.9/site-packages/urllib3/__init__.py:35: NotOpenSSLWarning: urllib3 v2 only supports OpenSSL 1.1.1+, currently the 'ssl' module is compiled with 'LibreSSL 2.8.3'. See: https://github.com/urllib3/urllib3/issues/3020\n",
      "  warnings.warn(\n"
     ]
    },
    {
     "name": "stdout",
     "output_type": "stream",
     "text": [
      "[youtube] Extracting URL: https://www.youtube.com/watch?v=BrCcDt6GNkk\n",
      "[youtube] BrCcDt6GNkk: Downloading webpage\n",
      "[youtube] BrCcDt6GNkk: Downloading tv client config\n",
      "[youtube] BrCcDt6GNkk: Downloading player 179bab65\n",
      "[youtube] BrCcDt6GNkk: Downloading tv player API JSON\n",
      "[youtube] BrCcDt6GNkk: Downloading ios player API JSON\n"
     ]
    },
    {
     "name": "stderr",
     "output_type": "stream",
     "text": [
      "ERROR: [youtube] BrCcDt6GNkk: Video unavailable\n",
      "/Users/akanshagautam/Documents/MTech/ml_env/lib/python3.9/site-packages/urllib3/__init__.py:35: NotOpenSSLWarning: urllib3 v2 only supports OpenSSL 1.1.1+, currently the 'ssl' module is compiled with 'LibreSSL 2.8.3'. See: https://github.com/urllib3/urllib3/issues/3020\n",
      "  warnings.warn(\n"
     ]
    },
    {
     "name": "stdout",
     "output_type": "stream",
     "text": [
      "Error downloading BrCcDt6GNkk: Command 'yt-dlp --extract-audio --audio-format wav --output \"/Users/akanshagautam/Documents/MTech/Speech Understanding/Project/dataset/avspeech/train/BrCcDt6GNkk/BrCcDt6GNkk_audio.%(ext)s\" https://www.youtube.com/watch?v=BrCcDt6GNkk' returned non-zero exit status 1.\n",
      "[youtube] Extracting URL: https://www.youtube.com/watch?v=IrXrbrZWflA\n",
      "[youtube] IrXrbrZWflA: Downloading webpage\n",
      "[youtube] IrXrbrZWflA: Downloading tv client config\n",
      "[youtube] IrXrbrZWflA: Downloading player 179bab65\n",
      "[youtube] IrXrbrZWflA: Downloading tv player API JSON\n",
      "[youtube] IrXrbrZWflA: Downloading ios player API JSON\n",
      "[youtube] IrXrbrZWflA: Downloading m3u8 information\n",
      "[info] IrXrbrZWflA: Downloading 1 format(s): 140\n",
      "[download] Destination: /Users/akanshagautam/Documents/MTech/Speech Understanding/Project/dataset/avspeech/train/IrXrbrZWflA/IrXrbrZWflA_audio.m4a\n",
      "[download] 100% of    5.77MiB in 00:01:01 at 96.80KiB/s  \n",
      "[FixupM4a] Correcting container of \"/Users/akanshagautam/Documents/MTech/Speech Understanding/Project/dataset/avspeech/train/IrXrbrZWflA/IrXrbrZWflA_audio.m4a\"\n",
      "[ExtractAudio] Destination: /Users/akanshagautam/Documents/MTech/Speech Understanding/Project/dataset/avspeech/train/IrXrbrZWflA/IrXrbrZWflA_audio.wav\n",
      "Deleting original file /Users/akanshagautam/Documents/MTech/Speech Understanding/Project/dataset/avspeech/train/IrXrbrZWflA/IrXrbrZWflA_audio.m4a (pass -k to keep)\n"
     ]
    },
    {
     "name": "stderr",
     "output_type": "stream",
     "text": [
      "/Users/akanshagautam/Documents/MTech/ml_env/lib/python3.9/site-packages/whisper/transcribe.py:126: UserWarning: FP16 is not supported on CPU; using FP32 instead\n",
      "  warnings.warn(\"FP16 is not supported on CPU; using FP32 instead\")\n",
      "/Users/akanshagautam/Documents/MTech/ml_env/lib/python3.9/site-packages/urllib3/__init__.py:35: NotOpenSSLWarning: urllib3 v2 only supports OpenSSL 1.1.1+, currently the 'ssl' module is compiled with 'LibreSSL 2.8.3'. See: https://github.com/urllib3/urllib3/issues/3020\n",
      "  warnings.warn(\n"
     ]
    },
    {
     "name": "stdout",
     "output_type": "stream",
     "text": [
      "[youtube] Extracting URL: https://www.youtube.com/watch?v=IrXrbrZWflA\n",
      "[youtube] IrXrbrZWflA: Downloading webpage\n",
      "[youtube] IrXrbrZWflA: Downloading tv client config\n",
      "[youtube] IrXrbrZWflA: Downloading player 179bab65\n",
      "[youtube] IrXrbrZWflA: Downloading tv player API JSON\n",
      "[youtube] IrXrbrZWflA: Downloading ios player API JSON\n",
      "[youtube] IrXrbrZWflA: Downloading m3u8 information\n",
      "[info] IrXrbrZWflA: Downloading subtitles: en\n",
      "[info] IrXrbrZWflA: Downloading 1 format(s): 137+140\n",
      "[info] Writing video subtitles to: /Users/akanshagautam/Documents/MTech/Speech Understanding/Project/dataset/avspeech/train/IrXrbrZWflA/IrXrbrZWflA.en.vtt\n",
      "[download] Destination: /Users/akanshagautam/Documents/MTech/Speech Understanding/Project/dataset/avspeech/train/IrXrbrZWflA/IrXrbrZWflA.en.vtt\n",
      "[download] 100% of   41.43KiB in 00:00:00 at 456.54KiB/s\n",
      "[SubtitlesConvertor] Converting subtitles\n",
      "Deleting original file /Users/akanshagautam/Documents/MTech/Speech Understanding/Project/dataset/avspeech/train/IrXrbrZWflA/IrXrbrZWflA.en.vtt (pass -k to keep)\n",
      "[download] Destination: /Users/akanshagautam/Documents/MTech/Speech Understanding/Project/dataset/avspeech/train/IrXrbrZWflA/IrXrbrZWflA.f137.mp4\n",
      "[download] 100% of  147.92MiB in 00:13:07 at 192.45KiB/s    \n",
      "[download] Destination: /Users/akanshagautam/Documents/MTech/Speech Understanding/Project/dataset/avspeech/train/IrXrbrZWflA/IrXrbrZWflA.f140.m4a\n",
      "[download] 100% of    5.77MiB in 00:00:21 at 270.07KiB/s \n",
      "[Merger] Merging formats into \"/Users/akanshagautam/Documents/MTech/Speech Understanding/Project/dataset/avspeech/train/IrXrbrZWflA/IrXrbrZWflA.mp4\"\n",
      "Deleting original file /Users/akanshagautam/Documents/MTech/Speech Understanding/Project/dataset/avspeech/train/IrXrbrZWflA/IrXrbrZWflA.f137.mp4 (pass -k to keep)\n",
      "Deleting original file /Users/akanshagautam/Documents/MTech/Speech Understanding/Project/dataset/avspeech/train/IrXrbrZWflA/IrXrbrZWflA.f140.m4a (pass -k to keep)\n",
      "✅ Downloaded: IrXrbrZWflA\n"
     ]
    },
    {
     "name": "stderr",
     "output_type": "stream",
     "text": [
      "/Users/akanshagautam/Documents/MTech/ml_env/lib/python3.9/site-packages/urllib3/__init__.py:35: NotOpenSSLWarning: urllib3 v2 only supports OpenSSL 1.1.1+, currently the 'ssl' module is compiled with 'LibreSSL 2.8.3'. See: https://github.com/urllib3/urllib3/issues/3020\n",
      "  warnings.warn(\n"
     ]
    },
    {
     "name": "stdout",
     "output_type": "stream",
     "text": [
      "[youtube] Extracting URL: https://www.youtube.com/watch?v=512K2S3De-A\n",
      "[youtube] 512K2S3De-A: Downloading webpage\n",
      "[youtube] 512K2S3De-A: Downloading tv client config\n",
      "[youtube] 512K2S3De-A: Downloading player 179bab65\n",
      "[youtube] 512K2S3De-A: Downloading tv player API JSON\n",
      "[youtube] 512K2S3De-A: Downloading ios player API JSON\n",
      "[youtube] 512K2S3De-A: Downloading m3u8 information\n",
      "[info] 512K2S3De-A: Downloading 1 format(s): 140\n",
      "[download] Destination: /Users/akanshagautam/Documents/MTech/Speech Understanding/Project/dataset/avspeech/train/512K2S3De-A/512K2S3De-A_audio.m4a\n",
      "[download] 100% of    5.89MiB in 00:00:42 at 142.37KiB/s \n",
      "[FixupM4a] Correcting container of \"/Users/akanshagautam/Documents/MTech/Speech Understanding/Project/dataset/avspeech/train/512K2S3De-A/512K2S3De-A_audio.m4a\"\n",
      "[ExtractAudio] Destination: /Users/akanshagautam/Documents/MTech/Speech Understanding/Project/dataset/avspeech/train/512K2S3De-A/512K2S3De-A_audio.wav\n",
      "Deleting original file /Users/akanshagautam/Documents/MTech/Speech Understanding/Project/dataset/avspeech/train/512K2S3De-A/512K2S3De-A_audio.m4a (pass -k to keep)\n"
     ]
    },
    {
     "name": "stderr",
     "output_type": "stream",
     "text": [
      "/Users/akanshagautam/Documents/MTech/ml_env/lib/python3.9/site-packages/whisper/transcribe.py:126: UserWarning: FP16 is not supported on CPU; using FP32 instead\n",
      "  warnings.warn(\"FP16 is not supported on CPU; using FP32 instead\")\n",
      "/Users/akanshagautam/Documents/MTech/ml_env/lib/python3.9/site-packages/urllib3/__init__.py:35: NotOpenSSLWarning: urllib3 v2 only supports OpenSSL 1.1.1+, currently the 'ssl' module is compiled with 'LibreSSL 2.8.3'. See: https://github.com/urllib3/urllib3/issues/3020\n",
      "  warnings.warn(\n"
     ]
    },
    {
     "name": "stdout",
     "output_type": "stream",
     "text": [
      "[youtube] Extracting URL: https://www.youtube.com/watch?v=512K2S3De-A\n",
      "[youtube] 512K2S3De-A: Downloading webpage\n",
      "[youtube] 512K2S3De-A: Downloading tv client config\n",
      "[youtube] 512K2S3De-A: Downloading player 64be519f\n",
      "[youtube] 512K2S3De-A: Downloading tv player API JSON\n",
      "[youtube] 512K2S3De-A: Downloading ios player API JSON\n",
      "[youtube] 512K2S3De-A: Downloading m3u8 information\n",
      "[info] 512K2S3De-A: Downloading subtitles: en\n",
      "[info] 512K2S3De-A: Downloading 1 format(s): 136+140\n",
      "[info] Writing video subtitles to: /Users/akanshagautam/Documents/MTech/Speech Understanding/Project/dataset/avspeech/train/512K2S3De-A/512K2S3De-A.en.vtt\n",
      "[download] Destination: /Users/akanshagautam/Documents/MTech/Speech Understanding/Project/dataset/avspeech/train/512K2S3De-A/512K2S3De-A.en.vtt\n",
      "[download] 100% of   35.86KiB in 00:00:00 at 93.16KiB/s\n",
      "[SubtitlesConvertor] Converting subtitles\n",
      "Deleting original file /Users/akanshagautam/Documents/MTech/Speech Understanding/Project/dataset/avspeech/train/512K2S3De-A/512K2S3De-A.en.vtt (pass -k to keep)\n",
      "[download] Destination: /Users/akanshagautam/Documents/MTech/Speech Understanding/Project/dataset/avspeech/train/512K2S3De-A/512K2S3De-A.f136.mp4\n",
      "[download] 100% of   61.84MiB in 00:04:14 at 248.87KiB/s   \n",
      "[download] Destination: /Users/akanshagautam/Documents/MTech/Speech Understanding/Project/dataset/avspeech/train/512K2S3De-A/512K2S3De-A.f140.m4a\n",
      "[download] 100% of    5.89MiB in 00:00:00 at 16.59MiB/s  \n",
      "[Merger] Merging formats into \"/Users/akanshagautam/Documents/MTech/Speech Understanding/Project/dataset/avspeech/train/512K2S3De-A/512K2S3De-A.mp4\"\n",
      "Deleting original file /Users/akanshagautam/Documents/MTech/Speech Understanding/Project/dataset/avspeech/train/512K2S3De-A/512K2S3De-A.f140.m4a (pass -k to keep)\n",
      "Deleting original file /Users/akanshagautam/Documents/MTech/Speech Understanding/Project/dataset/avspeech/train/512K2S3De-A/512K2S3De-A.f136.mp4 (pass -k to keep)\n",
      "✅ Downloaded: 512K2S3De-A\n"
     ]
    },
    {
     "name": "stderr",
     "output_type": "stream",
     "text": [
      "/Users/akanshagautam/Documents/MTech/ml_env/lib/python3.9/site-packages/urllib3/__init__.py:35: NotOpenSSLWarning: urllib3 v2 only supports OpenSSL 1.1.1+, currently the 'ssl' module is compiled with 'LibreSSL 2.8.3'. See: https://github.com/urllib3/urllib3/issues/3020\n",
      "  warnings.warn(\n"
     ]
    },
    {
     "name": "stdout",
     "output_type": "stream",
     "text": [
      "[youtube] Extracting URL: https://www.youtube.com/watch?v=01qWxISqaHg\n",
      "[youtube] 01qWxISqaHg: Downloading webpage\n",
      "[youtube] 01qWxISqaHg: Downloading tv client config\n",
      "[youtube] 01qWxISqaHg: Downloading player 179bab65\n",
      "[youtube] 01qWxISqaHg: Downloading tv player API JSON\n",
      "[youtube] 01qWxISqaHg: Downloading ios player API JSON\n",
      "[youtube] 01qWxISqaHg: Downloading m3u8 information\n",
      "[info] 01qWxISqaHg: Downloading 1 format(s): 251\n",
      "[download] Destination: /Users/akanshagautam/Documents/MTech/Speech Understanding/Project/dataset/avspeech/train/01qWxISqaHg/01qWxISqaHg_audio.webm\n",
      "[download] 100% of   17.95MiB in 00:01:45 at 175.01KiB/s   \n",
      "[ExtractAudio] Destination: /Users/akanshagautam/Documents/MTech/Speech Understanding/Project/dataset/avspeech/train/01qWxISqaHg/01qWxISqaHg_audio.wav\n",
      "Deleting original file /Users/akanshagautam/Documents/MTech/Speech Understanding/Project/dataset/avspeech/train/01qWxISqaHg/01qWxISqaHg_audio.webm (pass -k to keep)\n"
     ]
    },
    {
     "name": "stderr",
     "output_type": "stream",
     "text": [
      "/Users/akanshagautam/Documents/MTech/ml_env/lib/python3.9/site-packages/whisper/transcribe.py:126: UserWarning: FP16 is not supported on CPU; using FP32 instead\n",
      "  warnings.warn(\"FP16 is not supported on CPU; using FP32 instead\")\n"
     ]
    },
    {
     "name": "stdout",
     "output_type": "stream",
     "text": [
      "Skipping non-English audio: 01qWxISqaHg\n"
     ]
    },
    {
     "name": "stderr",
     "output_type": "stream",
     "text": [
      "/Users/akanshagautam/Documents/MTech/ml_env/lib/python3.9/site-packages/urllib3/__init__.py:35: NotOpenSSLWarning: urllib3 v2 only supports OpenSSL 1.1.1+, currently the 'ssl' module is compiled with 'LibreSSL 2.8.3'. See: https://github.com/urllib3/urllib3/issues/3020\n",
      "  warnings.warn(\n"
     ]
    },
    {
     "name": "stdout",
     "output_type": "stream",
     "text": [
      "[youtube] Extracting URL: https://www.youtube.com/watch?v=2f32XSMYlDk\n",
      "[youtube] 2f32XSMYlDk: Downloading webpage\n",
      "[youtube] 2f32XSMYlDk: Downloading tv client config\n",
      "[youtube] 2f32XSMYlDk: Downloading player 179bab65\n",
      "[youtube] 2f32XSMYlDk: Downloading tv player API JSON\n",
      "[youtube] 2f32XSMYlDk: Downloading ios player API JSON\n",
      "[youtube] 2f32XSMYlDk: Downloading m3u8 information\n",
      "[info] 2f32XSMYlDk: Downloading 1 format(s): 251\n",
      "[download] Destination: /Users/akanshagautam/Documents/MTech/Speech Understanding/Project/dataset/avspeech/train/2f32XSMYlDk/2f32XSMYlDk_audio.webm\n",
      "[download] 100% of   21.24MiB in 00:01:15 at 286.25KiB/s   \n",
      "[ExtractAudio] Destination: /Users/akanshagautam/Documents/MTech/Speech Understanding/Project/dataset/avspeech/train/2f32XSMYlDk/2f32XSMYlDk_audio.wav\n",
      "Deleting original file /Users/akanshagautam/Documents/MTech/Speech Understanding/Project/dataset/avspeech/train/2f32XSMYlDk/2f32XSMYlDk_audio.webm (pass -k to keep)\n"
     ]
    },
    {
     "name": "stderr",
     "output_type": "stream",
     "text": [
      "/Users/akanshagautam/Documents/MTech/ml_env/lib/python3.9/site-packages/whisper/transcribe.py:126: UserWarning: FP16 is not supported on CPU; using FP32 instead\n",
      "  warnings.warn(\"FP16 is not supported on CPU; using FP32 instead\")\n",
      "/Users/akanshagautam/Documents/MTech/ml_env/lib/python3.9/site-packages/urllib3/__init__.py:35: NotOpenSSLWarning: urllib3 v2 only supports OpenSSL 1.1.1+, currently the 'ssl' module is compiled with 'LibreSSL 2.8.3'. See: https://github.com/urllib3/urllib3/issues/3020\n",
      "  warnings.warn(\n"
     ]
    },
    {
     "name": "stdout",
     "output_type": "stream",
     "text": [
      "[youtube] Extracting URL: https://www.youtube.com/watch?v=2f32XSMYlDk\n",
      "[youtube] 2f32XSMYlDk: Downloading webpage\n",
      "[youtube] 2f32XSMYlDk: Downloading tv client config\n",
      "[youtube] 2f32XSMYlDk: Downloading player 179bab65\n",
      "[youtube] 2f32XSMYlDk: Downloading tv player API JSON\n",
      "[youtube] 2f32XSMYlDk: Downloading ios player API JSON\n",
      "[youtube] 2f32XSMYlDk: Downloading m3u8 information\n",
      "[info] 2f32XSMYlDk: Downloading subtitles: en\n",
      "[info] 2f32XSMYlDk: Downloading 1 format(s): 137+140\n",
      "[info] Writing video subtitles to: /Users/akanshagautam/Documents/MTech/Speech Understanding/Project/dataset/avspeech/train/2f32XSMYlDk/2f32XSMYlDk.en.vtt\n",
      "[download] Destination: /Users/akanshagautam/Documents/MTech/Speech Understanding/Project/dataset/avspeech/train/2f32XSMYlDk/2f32XSMYlDk.en.vtt\n",
      "[download] 100% of  197.88KiB in 00:00:00 at 1.05MiB/s\n",
      "[SubtitlesConvertor] Converting subtitles\n",
      "Deleting original file /Users/akanshagautam/Documents/MTech/Speech Understanding/Project/dataset/avspeech/train/2f32XSMYlDk/2f32XSMYlDk.en.vtt (pass -k to keep)\n",
      "[download] Destination: /Users/akanshagautam/Documents/MTech/Speech Understanding/Project/dataset/avspeech/train/2f32XSMYlDk/2f32XSMYlDk.f137.mp4\n",
      "[download] 100% of  426.63MiB in 00:07:49 at 930.39KiB/s   \n",
      "[download] Destination: /Users/akanshagautam/Documents/MTech/Speech Understanding/Project/dataset/avspeech/train/2f32XSMYlDk/2f32XSMYlDk.f140.m4a\n",
      "[download] 100% of   25.47MiB in 00:01:26 at 301.17KiB/s   \n",
      "[Merger] Merging formats into \"/Users/akanshagautam/Documents/MTech/Speech Understanding/Project/dataset/avspeech/train/2f32XSMYlDk/2f32XSMYlDk.mp4\"\n",
      "Deleting original file /Users/akanshagautam/Documents/MTech/Speech Understanding/Project/dataset/avspeech/train/2f32XSMYlDk/2f32XSMYlDk.f140.m4a (pass -k to keep)\n",
      "Deleting original file /Users/akanshagautam/Documents/MTech/Speech Understanding/Project/dataset/avspeech/train/2f32XSMYlDk/2f32XSMYlDk.f137.mp4 (pass -k to keep)\n",
      "✅ Downloaded: 2f32XSMYlDk\n"
     ]
    },
    {
     "name": "stderr",
     "output_type": "stream",
     "text": [
      "/Users/akanshagautam/Documents/MTech/ml_env/lib/python3.9/site-packages/urllib3/__init__.py:35: NotOpenSSLWarning: urllib3 v2 only supports OpenSSL 1.1.1+, currently the 'ssl' module is compiled with 'LibreSSL 2.8.3'. See: https://github.com/urllib3/urllib3/issues/3020\n",
      "  warnings.warn(\n"
     ]
    },
    {
     "name": "stdout",
     "output_type": "stream",
     "text": [
      "[youtube] Extracting URL: https://www.youtube.com/watch?v=lcClO5lHEjA\n",
      "[youtube] lcClO5lHEjA: Downloading webpage\n",
      "[youtube] lcClO5lHEjA: Downloading tv client config\n",
      "[youtube] lcClO5lHEjA: Downloading player 179bab65\n",
      "[youtube] lcClO5lHEjA: Downloading tv player API JSON\n",
      "[youtube] lcClO5lHEjA: Downloading ios player API JSON\n",
      "[youtube] lcClO5lHEjA: Downloading m3u8 information\n",
      "[info] lcClO5lHEjA: Downloading 1 format(s): 251\n",
      "[download] Destination: /Users/akanshagautam/Documents/MTech/Speech Understanding/Project/dataset/avspeech/train/lcClO5lHEjA/lcClO5lHEjA_audio.webm\n",
      "[download] 100% of    6.86MiB in 00:01:19 at 88.46KiB/s  \n",
      "[ExtractAudio] Destination: /Users/akanshagautam/Documents/MTech/Speech Understanding/Project/dataset/avspeech/train/lcClO5lHEjA/lcClO5lHEjA_audio.wav\n",
      "Deleting original file /Users/akanshagautam/Documents/MTech/Speech Understanding/Project/dataset/avspeech/train/lcClO5lHEjA/lcClO5lHEjA_audio.webm (pass -k to keep)\n"
     ]
    },
    {
     "name": "stderr",
     "output_type": "stream",
     "text": [
      "/Users/akanshagautam/Documents/MTech/ml_env/lib/python3.9/site-packages/whisper/transcribe.py:126: UserWarning: FP16 is not supported on CPU; using FP32 instead\n",
      "  warnings.warn(\"FP16 is not supported on CPU; using FP32 instead\")\n"
     ]
    },
    {
     "name": "stdout",
     "output_type": "stream",
     "text": [
      "Skipping non-English audio: lcClO5lHEjA\n"
     ]
    },
    {
     "name": "stderr",
     "output_type": "stream",
     "text": [
      "/Users/akanshagautam/Documents/MTech/ml_env/lib/python3.9/site-packages/urllib3/__init__.py:35: NotOpenSSLWarning: urllib3 v2 only supports OpenSSL 1.1.1+, currently the 'ssl' module is compiled with 'LibreSSL 2.8.3'. See: https://github.com/urllib3/urllib3/issues/3020\n",
      "  warnings.warn(\n"
     ]
    },
    {
     "name": "stdout",
     "output_type": "stream",
     "text": [
      "[youtube] Extracting URL: https://www.youtube.com/watch?v=q1doqKlHRuY\n",
      "[youtube] q1doqKlHRuY: Downloading webpage\n",
      "[youtube] q1doqKlHRuY: Downloading tv client config\n",
      "[youtube] q1doqKlHRuY: Downloading player 179bab65\n",
      "[youtube] q1doqKlHRuY: Downloading tv player API JSON\n",
      "[youtube] q1doqKlHRuY: Downloading ios player API JSON\n"
     ]
    },
    {
     "name": "stderr",
     "output_type": "stream",
     "text": [
      "ERROR: [youtube] q1doqKlHRuY: Video unavailable\n",
      "/Users/akanshagautam/Documents/MTech/ml_env/lib/python3.9/site-packages/urllib3/__init__.py:35: NotOpenSSLWarning: urllib3 v2 only supports OpenSSL 1.1.1+, currently the 'ssl' module is compiled with 'LibreSSL 2.8.3'. See: https://github.com/urllib3/urllib3/issues/3020\n",
      "  warnings.warn(\n"
     ]
    },
    {
     "name": "stdout",
     "output_type": "stream",
     "text": [
      "Error downloading q1doqKlHRuY: Command 'yt-dlp --extract-audio --audio-format wav --output \"/Users/akanshagautam/Documents/MTech/Speech Understanding/Project/dataset/avspeech/train/q1doqKlHRuY/q1doqKlHRuY_audio.%(ext)s\" https://www.youtube.com/watch?v=q1doqKlHRuY' returned non-zero exit status 1.\n",
      "[youtube] Extracting URL: https://www.youtube.com/watch?v=tdTXVU5wN8I\n",
      "[youtube] tdTXVU5wN8I: Downloading webpage\n",
      "[youtube] tdTXVU5wN8I: Downloading tv client config\n",
      "[youtube] tdTXVU5wN8I: Downloading player 179bab65\n",
      "[youtube] tdTXVU5wN8I: Downloading tv player API JSON\n",
      "[youtube] tdTXVU5wN8I: Downloading ios player API JSON\n",
      "[youtube] tdTXVU5wN8I: Downloading m3u8 information\n",
      "[info] tdTXVU5wN8I: Downloading 1 format(s): 140\n",
      "[download] Destination: /Users/akanshagautam/Documents/MTech/Speech Understanding/Project/dataset/avspeech/train/tdTXVU5wN8I/tdTXVU5wN8I_audio.m4a\n",
      "[download] 100% of    7.40MiB in 00:01:06 at 114.33KiB/s \n",
      "[FixupM4a] Correcting container of \"/Users/akanshagautam/Documents/MTech/Speech Understanding/Project/dataset/avspeech/train/tdTXVU5wN8I/tdTXVU5wN8I_audio.m4a\"\n",
      "[ExtractAudio] Destination: /Users/akanshagautam/Documents/MTech/Speech Understanding/Project/dataset/avspeech/train/tdTXVU5wN8I/tdTXVU5wN8I_audio.wav\n",
      "Deleting original file /Users/akanshagautam/Documents/MTech/Speech Understanding/Project/dataset/avspeech/train/tdTXVU5wN8I/tdTXVU5wN8I_audio.m4a (pass -k to keep)\n"
     ]
    },
    {
     "name": "stderr",
     "output_type": "stream",
     "text": [
      "/Users/akanshagautam/Documents/MTech/ml_env/lib/python3.9/site-packages/whisper/transcribe.py:126: UserWarning: FP16 is not supported on CPU; using FP32 instead\n",
      "  warnings.warn(\"FP16 is not supported on CPU; using FP32 instead\")\n",
      "/Users/akanshagautam/Documents/MTech/ml_env/lib/python3.9/site-packages/urllib3/__init__.py:35: NotOpenSSLWarning: urllib3 v2 only supports OpenSSL 1.1.1+, currently the 'ssl' module is compiled with 'LibreSSL 2.8.3'. See: https://github.com/urllib3/urllib3/issues/3020\n",
      "  warnings.warn(\n"
     ]
    },
    {
     "name": "stdout",
     "output_type": "stream",
     "text": [
      "[youtube] Extracting URL: https://www.youtube.com/watch?v=tdTXVU5wN8I\n",
      "[youtube] tdTXVU5wN8I: Downloading webpage\n",
      "[youtube] tdTXVU5wN8I: Downloading tv client config\n",
      "[youtube] tdTXVU5wN8I: Downloading player 179bab65\n",
      "[youtube] tdTXVU5wN8I: Downloading tv player API JSON\n",
      "[youtube] tdTXVU5wN8I: Downloading ios player API JSON\n",
      "[youtube] tdTXVU5wN8I: Downloading m3u8 information\n",
      "[info] tdTXVU5wN8I: Downloading subtitles: en\n",
      "[info] tdTXVU5wN8I: Downloading 1 format(s): 137+140\n",
      "[info] Writing video subtitles to: /Users/akanshagautam/Documents/MTech/Speech Understanding/Project/dataset/avspeech/train/tdTXVU5wN8I/tdTXVU5wN8I.en.vtt\n",
      "[download] Destination: /Users/akanshagautam/Documents/MTech/Speech Understanding/Project/dataset/avspeech/train/tdTXVU5wN8I/tdTXVU5wN8I.en.vtt\n",
      "[download] 100% of   52.89KiB in 00:00:00 at 86.77KiB/s\n",
      "[SubtitlesConvertor] Converting subtitles\n",
      "Deleting original file /Users/akanshagautam/Documents/MTech/Speech Understanding/Project/dataset/avspeech/train/tdTXVU5wN8I/tdTXVU5wN8I.en.vtt (pass -k to keep)\n",
      "[download] Destination: /Users/akanshagautam/Documents/MTech/Speech Understanding/Project/dataset/avspeech/train/tdTXVU5wN8I/tdTXVU5wN8I.f137.mp4\n",
      "[download] 100% of   56.51MiB in 00:06:11 at 155.82KiB/s   \n",
      "[download] Destination: /Users/akanshagautam/Documents/MTech/Speech Understanding/Project/dataset/avspeech/train/tdTXVU5wN8I/tdTXVU5wN8I.f140.m4a\n",
      "[download] 100% of    7.40MiB in 00:00:20 at 361.07KiB/s \n",
      "[Merger] Merging formats into \"/Users/akanshagautam/Documents/MTech/Speech Understanding/Project/dataset/avspeech/train/tdTXVU5wN8I/tdTXVU5wN8I.mp4\"\n",
      "Deleting original file /Users/akanshagautam/Documents/MTech/Speech Understanding/Project/dataset/avspeech/train/tdTXVU5wN8I/tdTXVU5wN8I.f140.m4a (pass -k to keep)\n",
      "Deleting original file /Users/akanshagautam/Documents/MTech/Speech Understanding/Project/dataset/avspeech/train/tdTXVU5wN8I/tdTXVU5wN8I.f137.mp4 (pass -k to keep)\n",
      "✅ Downloaded: tdTXVU5wN8I\n"
     ]
    },
    {
     "name": "stderr",
     "output_type": "stream",
     "text": [
      "/Users/akanshagautam/Documents/MTech/ml_env/lib/python3.9/site-packages/urllib3/__init__.py:35: NotOpenSSLWarning: urllib3 v2 only supports OpenSSL 1.1.1+, currently the 'ssl' module is compiled with 'LibreSSL 2.8.3'. See: https://github.com/urllib3/urllib3/issues/3020\n",
      "  warnings.warn(\n"
     ]
    },
    {
     "name": "stdout",
     "output_type": "stream",
     "text": [
      "[youtube] Extracting URL: https://www.youtube.com/watch?v=h-fSfAFufCo\n",
      "[youtube] h-fSfAFufCo: Downloading webpage\n",
      "[youtube] h-fSfAFufCo: Downloading tv client config\n",
      "[youtube] h-fSfAFufCo: Downloading player 179bab65\n",
      "[youtube] h-fSfAFufCo: Downloading tv player API JSON\n",
      "[youtube] h-fSfAFufCo: Downloading ios player API JSON\n"
     ]
    },
    {
     "name": "stderr",
     "output_type": "stream",
     "text": [
      "ERROR: [youtube] h-fSfAFufCo: Private video. Sign in if you've been granted access to this video. Use --cookies-from-browser or --cookies for the authentication. See  https://github.com/yt-dlp/yt-dlp/wiki/FAQ#how-do-i-pass-cookies-to-yt-dlp  for how to manually pass cookies. Also see  https://github.com/yt-dlp/yt-dlp/wiki/Extractors#exporting-youtube-cookies  for tips on effectively exporting YouTube cookies\n",
      "/Users/akanshagautam/Documents/MTech/ml_env/lib/python3.9/site-packages/urllib3/__init__.py:35: NotOpenSSLWarning: urllib3 v2 only supports OpenSSL 1.1.1+, currently the 'ssl' module is compiled with 'LibreSSL 2.8.3'. See: https://github.com/urllib3/urllib3/issues/3020\n",
      "  warnings.warn(\n"
     ]
    },
    {
     "name": "stdout",
     "output_type": "stream",
     "text": [
      "Error downloading h-fSfAFufCo: Command 'yt-dlp --extract-audio --audio-format wav --output \"/Users/akanshagautam/Documents/MTech/Speech Understanding/Project/dataset/avspeech/train/h-fSfAFufCo/h-fSfAFufCo_audio.%(ext)s\" https://www.youtube.com/watch?v=h-fSfAFufCo' returned non-zero exit status 1.\n",
      "[youtube] Extracting URL: https://www.youtube.com/watch?v=srwckJKdeS0\n",
      "[youtube] srwckJKdeS0: Downloading webpage\n",
      "[youtube] srwckJKdeS0: Downloading tv client config\n",
      "[youtube] srwckJKdeS0: Downloading player 179bab65\n",
      "[youtube] srwckJKdeS0: Downloading tv player API JSON\n",
      "[youtube] srwckJKdeS0: Downloading ios player API JSON\n",
      "[youtube] srwckJKdeS0: Downloading m3u8 information\n",
      "[info] srwckJKdeS0: Downloading 1 format(s): 251\n",
      "[download] Destination: /Users/akanshagautam/Documents/MTech/Speech Understanding/Project/dataset/avspeech/train/srwckJKdeS0/srwckJKdeS0_audio.webm\n",
      "[download] 100% of    5.27MiB in 00:01:02 at 86.49KiB/s  \n",
      "[ExtractAudio] Destination: /Users/akanshagautam/Documents/MTech/Speech Understanding/Project/dataset/avspeech/train/srwckJKdeS0/srwckJKdeS0_audio.wav\n",
      "Deleting original file /Users/akanshagautam/Documents/MTech/Speech Understanding/Project/dataset/avspeech/train/srwckJKdeS0/srwckJKdeS0_audio.webm (pass -k to keep)\n"
     ]
    },
    {
     "name": "stderr",
     "output_type": "stream",
     "text": [
      "/Users/akanshagautam/Documents/MTech/ml_env/lib/python3.9/site-packages/whisper/transcribe.py:126: UserWarning: FP16 is not supported on CPU; using FP32 instead\n",
      "  warnings.warn(\"FP16 is not supported on CPU; using FP32 instead\")\n"
     ]
    },
    {
     "name": "stdout",
     "output_type": "stream",
     "text": [
      "Skipping non-English audio: srwckJKdeS0\n"
     ]
    },
    {
     "name": "stderr",
     "output_type": "stream",
     "text": [
      "/Users/akanshagautam/Documents/MTech/ml_env/lib/python3.9/site-packages/urllib3/__init__.py:35: NotOpenSSLWarning: urllib3 v2 only supports OpenSSL 1.1.1+, currently the 'ssl' module is compiled with 'LibreSSL 2.8.3'. See: https://github.com/urllib3/urllib3/issues/3020\n",
      "  warnings.warn(\n"
     ]
    },
    {
     "name": "stdout",
     "output_type": "stream",
     "text": [
      "[youtube] Extracting URL: https://www.youtube.com/watch?v=DIWf1t-HzwI\n",
      "[youtube] DIWf1t-HzwI: Downloading webpage\n",
      "[youtube] DIWf1t-HzwI: Downloading tv client config\n",
      "[youtube] DIWf1t-HzwI: Downloading player 179bab65\n",
      "[youtube] DIWf1t-HzwI: Downloading tv player API JSON\n",
      "[youtube] DIWf1t-HzwI: Downloading ios player API JSON\n",
      "[youtube] DIWf1t-HzwI: Downloading m3u8 information\n",
      "[info] DIWf1t-HzwI: Downloading 1 format(s): 251\n",
      "[download] Destination: /Users/akanshagautam/Documents/MTech/Speech Understanding/Project/dataset/avspeech/train/DIWf1t-HzwI/DIWf1t-HzwI_audio.webm\n",
      "[download] 100% of    7.19MiB in 00:00:42 at 174.01KiB/s \n",
      "[ExtractAudio] Destination: /Users/akanshagautam/Documents/MTech/Speech Understanding/Project/dataset/avspeech/train/DIWf1t-HzwI/DIWf1t-HzwI_audio.wav\n",
      "Deleting original file /Users/akanshagautam/Documents/MTech/Speech Understanding/Project/dataset/avspeech/train/DIWf1t-HzwI/DIWf1t-HzwI_audio.webm (pass -k to keep)\n"
     ]
    },
    {
     "name": "stderr",
     "output_type": "stream",
     "text": [
      "/Users/akanshagautam/Documents/MTech/ml_env/lib/python3.9/site-packages/whisper/transcribe.py:126: UserWarning: FP16 is not supported on CPU; using FP32 instead\n",
      "  warnings.warn(\"FP16 is not supported on CPU; using FP32 instead\")\n",
      "/Users/akanshagautam/Documents/MTech/ml_env/lib/python3.9/site-packages/urllib3/__init__.py:35: NotOpenSSLWarning: urllib3 v2 only supports OpenSSL 1.1.1+, currently the 'ssl' module is compiled with 'LibreSSL 2.8.3'. See: https://github.com/urllib3/urllib3/issues/3020\n",
      "  warnings.warn(\n"
     ]
    },
    {
     "name": "stdout",
     "output_type": "stream",
     "text": [
      "[youtube] Extracting URL: https://www.youtube.com/watch?v=DIWf1t-HzwI\n",
      "[youtube] DIWf1t-HzwI: Downloading webpage\n",
      "[youtube] DIWf1t-HzwI: Downloading tv client config\n",
      "[youtube] DIWf1t-HzwI: Downloading player 179bab65\n",
      "[youtube] DIWf1t-HzwI: Downloading tv player API JSON\n",
      "[youtube] DIWf1t-HzwI: Downloading ios player API JSON\n",
      "[youtube] DIWf1t-HzwI: Downloading m3u8 information\n",
      "[info] DIWf1t-HzwI: Downloading subtitles: en\n",
      "[info] DIWf1t-HzwI: Downloading 1 format(s): 136+140\n",
      "[info] Writing video subtitles to: /Users/akanshagautam/Documents/MTech/Speech Understanding/Project/dataset/avspeech/train/DIWf1t-HzwI/DIWf1t-HzwI.en.vtt\n",
      "[download] Destination: /Users/akanshagautam/Documents/MTech/Speech Understanding/Project/dataset/avspeech/train/DIWf1t-HzwI/DIWf1t-HzwI.en.vtt\n",
      "[download] 100% of   74.00KiB in 00:00:00 at 679.89KiB/s\n",
      "[SubtitlesConvertor] Converting subtitles\n",
      "Deleting original file /Users/akanshagautam/Documents/MTech/Speech Understanding/Project/dataset/avspeech/train/DIWf1t-HzwI/DIWf1t-HzwI.en.vtt (pass -k to keep)\n",
      "[download] Destination: /Users/akanshagautam/Documents/MTech/Speech Understanding/Project/dataset/avspeech/train/DIWf1t-HzwI/DIWf1t-HzwI.f136.mp4\n",
      "[download] 100% of   64.77MiB in 00:02:48 at 392.51KiB/s   \n",
      "[download] Destination: /Users/akanshagautam/Documents/MTech/Speech Understanding/Project/dataset/avspeech/train/DIWf1t-HzwI/DIWf1t-HzwI.f140.m4a\n",
      "[download] 100% of    8.76MiB in 00:01:03 at 142.19KiB/s \n",
      "[Merger] Merging formats into \"/Users/akanshagautam/Documents/MTech/Speech Understanding/Project/dataset/avspeech/train/DIWf1t-HzwI/DIWf1t-HzwI.mp4\"\n",
      "Deleting original file /Users/akanshagautam/Documents/MTech/Speech Understanding/Project/dataset/avspeech/train/DIWf1t-HzwI/DIWf1t-HzwI.f140.m4a (pass -k to keep)\n",
      "Deleting original file /Users/akanshagautam/Documents/MTech/Speech Understanding/Project/dataset/avspeech/train/DIWf1t-HzwI/DIWf1t-HzwI.f136.mp4 (pass -k to keep)\n",
      "✅ Downloaded: DIWf1t-HzwI\n"
     ]
    },
    {
     "name": "stderr",
     "output_type": "stream",
     "text": [
      "/Users/akanshagautam/Documents/MTech/ml_env/lib/python3.9/site-packages/urllib3/__init__.py:35: NotOpenSSLWarning: urllib3 v2 only supports OpenSSL 1.1.1+, currently the 'ssl' module is compiled with 'LibreSSL 2.8.3'. See: https://github.com/urllib3/urllib3/issues/3020\n",
      "  warnings.warn(\n"
     ]
    },
    {
     "name": "stdout",
     "output_type": "stream",
     "text": [
      "[youtube] Extracting URL: https://www.youtube.com/watch?v=YXcVkIEMGds\n",
      "[youtube] YXcVkIEMGds: Downloading webpage\n",
      "[youtube] YXcVkIEMGds: Downloading tv client config\n",
      "[youtube] YXcVkIEMGds: Downloading player 179bab65\n",
      "[youtube] YXcVkIEMGds: Downloading tv player API JSON\n",
      "[youtube] YXcVkIEMGds: Downloading ios player API JSON\n"
     ]
    },
    {
     "name": "stderr",
     "output_type": "stream",
     "text": [
      "ERROR: [youtube] YXcVkIEMGds: Private video. Sign in if you've been granted access to this video. Use --cookies-from-browser or --cookies for the authentication. See  https://github.com/yt-dlp/yt-dlp/wiki/FAQ#how-do-i-pass-cookies-to-yt-dlp  for how to manually pass cookies. Also see  https://github.com/yt-dlp/yt-dlp/wiki/Extractors#exporting-youtube-cookies  for tips on effectively exporting YouTube cookies\n",
      "/Users/akanshagautam/Documents/MTech/ml_env/lib/python3.9/site-packages/urllib3/__init__.py:35: NotOpenSSLWarning: urllib3 v2 only supports OpenSSL 1.1.1+, currently the 'ssl' module is compiled with 'LibreSSL 2.8.3'. See: https://github.com/urllib3/urllib3/issues/3020\n",
      "  warnings.warn(\n"
     ]
    },
    {
     "name": "stdout",
     "output_type": "stream",
     "text": [
      "Error downloading YXcVkIEMGds: Command 'yt-dlp --extract-audio --audio-format wav --output \"/Users/akanshagautam/Documents/MTech/Speech Understanding/Project/dataset/avspeech/train/YXcVkIEMGds/YXcVkIEMGds_audio.%(ext)s\" https://www.youtube.com/watch?v=YXcVkIEMGds' returned non-zero exit status 1.\n",
      "[youtube] Extracting URL: https://www.youtube.com/watch?v=BsUzOhJ9WGU\n",
      "[youtube] BsUzOhJ9WGU: Downloading webpage\n",
      "[youtube] BsUzOhJ9WGU: Downloading tv client config\n",
      "[youtube] BsUzOhJ9WGU: Downloading player 64be519f\n",
      "[youtube] BsUzOhJ9WGU: Downloading tv player API JSON\n",
      "[youtube] BsUzOhJ9WGU: Downloading ios player API JSON\n",
      "[youtube] BsUzOhJ9WGU: Downloading MPD manifest\n",
      "[youtube] BsUzOhJ9WGU: Downloading m3u8 information\n",
      "[youtube] BsUzOhJ9WGU: Downloading MPD manifest\n",
      "[info] BsUzOhJ9WGU: Downloading 1 format(s): 140\n",
      "[download] Destination: /Users/akanshagautam/Documents/MTech/Speech Understanding/Project/dataset/avspeech/train/BsUzOhJ9WGU/BsUzOhJ9WGU_audio.m4a\n",
      "[download] 100% of   10.75MiB in 00:01:41 at 107.99KiB/s   \n",
      "[FixupM4a] Correcting container of \"/Users/akanshagautam/Documents/MTech/Speech Understanding/Project/dataset/avspeech/train/BsUzOhJ9WGU/BsUzOhJ9WGU_audio.m4a\"\n",
      "[ExtractAudio] Destination: /Users/akanshagautam/Documents/MTech/Speech Understanding/Project/dataset/avspeech/train/BsUzOhJ9WGU/BsUzOhJ9WGU_audio.wav\n",
      "Deleting original file /Users/akanshagautam/Documents/MTech/Speech Understanding/Project/dataset/avspeech/train/BsUzOhJ9WGU/BsUzOhJ9WGU_audio.m4a (pass -k to keep)\n"
     ]
    },
    {
     "name": "stderr",
     "output_type": "stream",
     "text": [
      "/Users/akanshagautam/Documents/MTech/ml_env/lib/python3.9/site-packages/whisper/transcribe.py:126: UserWarning: FP16 is not supported on CPU; using FP32 instead\n",
      "  warnings.warn(\"FP16 is not supported on CPU; using FP32 instead\")\n"
     ]
    },
    {
     "name": "stdout",
     "output_type": "stream",
     "text": [
      "Skipping non-English audio: BsUzOhJ9WGU\n"
     ]
    },
    {
     "name": "stderr",
     "output_type": "stream",
     "text": [
      "/Users/akanshagautam/Documents/MTech/ml_env/lib/python3.9/site-packages/urllib3/__init__.py:35: NotOpenSSLWarning: urllib3 v2 only supports OpenSSL 1.1.1+, currently the 'ssl' module is compiled with 'LibreSSL 2.8.3'. See: https://github.com/urllib3/urllib3/issues/3020\n",
      "  warnings.warn(\n"
     ]
    },
    {
     "name": "stdout",
     "output_type": "stream",
     "text": [
      "[youtube] Extracting URL: https://www.youtube.com/watch?v=JjduaMIoKvI\n",
      "[youtube] JjduaMIoKvI: Downloading webpage\n",
      "[youtube] JjduaMIoKvI: Downloading tv client config\n",
      "[youtube] JjduaMIoKvI: Downloading player 179bab65\n",
      "[youtube] JjduaMIoKvI: Downloading tv player API JSON\n",
      "[youtube] JjduaMIoKvI: Downloading ios player API JSON\n",
      "[youtube] JjduaMIoKvI: Downloading m3u8 information\n",
      "[info] JjduaMIoKvI: Downloading 1 format(s): 251\n",
      "[download] Destination: /Users/akanshagautam/Documents/MTech/Speech Understanding/Project/dataset/avspeech/train/JjduaMIoKvI/JjduaMIoKvI_audio.webm\n",
      "[download] 100% of    5.01MiB in 00:01:01 at 84.05KiB/s  \n",
      "[ExtractAudio] Destination: /Users/akanshagautam/Documents/MTech/Speech Understanding/Project/dataset/avspeech/train/JjduaMIoKvI/JjduaMIoKvI_audio.wav\n",
      "Deleting original file /Users/akanshagautam/Documents/MTech/Speech Understanding/Project/dataset/avspeech/train/JjduaMIoKvI/JjduaMIoKvI_audio.webm (pass -k to keep)\n"
     ]
    },
    {
     "name": "stderr",
     "output_type": "stream",
     "text": [
      "/Users/akanshagautam/Documents/MTech/ml_env/lib/python3.9/site-packages/whisper/transcribe.py:126: UserWarning: FP16 is not supported on CPU; using FP32 instead\n",
      "  warnings.warn(\"FP16 is not supported on CPU; using FP32 instead\")\n"
     ]
    },
    {
     "name": "stdout",
     "output_type": "stream",
     "text": [
      "Skipping non-English audio: JjduaMIoKvI\n"
     ]
    },
    {
     "name": "stderr",
     "output_type": "stream",
     "text": [
      "/Users/akanshagautam/Documents/MTech/ml_env/lib/python3.9/site-packages/urllib3/__init__.py:35: NotOpenSSLWarning: urllib3 v2 only supports OpenSSL 1.1.1+, currently the 'ssl' module is compiled with 'LibreSSL 2.8.3'. See: https://github.com/urllib3/urllib3/issues/3020\n",
      "  warnings.warn(\n"
     ]
    },
    {
     "name": "stdout",
     "output_type": "stream",
     "text": [
      "[youtube] Extracting URL: https://www.youtube.com/watch?v=IlnHVjvBDU0\n",
      "[youtube] IlnHVjvBDU0: Downloading webpage\n",
      "[youtube] IlnHVjvBDU0: Downloading tv client config\n",
      "[youtube] IlnHVjvBDU0: Downloading player 179bab65\n",
      "[youtube] IlnHVjvBDU0: Downloading tv player API JSON\n",
      "[youtube] IlnHVjvBDU0: Downloading ios player API JSON\n",
      "[youtube] IlnHVjvBDU0: Downloading m3u8 information\n",
      "[info] IlnHVjvBDU0: Downloading 1 format(s): 251\n",
      "[download] Destination: /Users/akanshagautam/Documents/MTech/Speech Understanding/Project/dataset/avspeech/train/IlnHVjvBDU0/IlnHVjvBDU0_audio.webm\n",
      "[download] 100% of   19.09MiB in 00:01:51 at 175.95KiB/s   \n",
      "[ExtractAudio] Destination: /Users/akanshagautam/Documents/MTech/Speech Understanding/Project/dataset/avspeech/train/IlnHVjvBDU0/IlnHVjvBDU0_audio.wav\n",
      "Deleting original file /Users/akanshagautam/Documents/MTech/Speech Understanding/Project/dataset/avspeech/train/IlnHVjvBDU0/IlnHVjvBDU0_audio.webm (pass -k to keep)\n"
     ]
    },
    {
     "name": "stderr",
     "output_type": "stream",
     "text": [
      "/Users/akanshagautam/Documents/MTech/ml_env/lib/python3.9/site-packages/whisper/transcribe.py:126: UserWarning: FP16 is not supported on CPU; using FP32 instead\n",
      "  warnings.warn(\"FP16 is not supported on CPU; using FP32 instead\")\n"
     ]
    },
    {
     "name": "stdout",
     "output_type": "stream",
     "text": [
      "Skipping non-English audio: IlnHVjvBDU0\n"
     ]
    },
    {
     "name": "stderr",
     "output_type": "stream",
     "text": [
      "/Users/akanshagautam/Documents/MTech/ml_env/lib/python3.9/site-packages/urllib3/__init__.py:35: NotOpenSSLWarning: urllib3 v2 only supports OpenSSL 1.1.1+, currently the 'ssl' module is compiled with 'LibreSSL 2.8.3'. See: https://github.com/urllib3/urllib3/issues/3020\n",
      "  warnings.warn(\n"
     ]
    },
    {
     "name": "stdout",
     "output_type": "stream",
     "text": [
      "[youtube] Extracting URL: https://www.youtube.com/watch?v=zFH0QbS-l-w\n",
      "[youtube] zFH0QbS-l-w: Downloading webpage\n",
      "[youtube] zFH0QbS-l-w: Downloading tv client config\n",
      "[youtube] zFH0QbS-l-w: Downloading player 179bab65\n",
      "[youtube] zFH0QbS-l-w: Downloading tv player API JSON\n",
      "[youtube] zFH0QbS-l-w: Downloading ios player API JSON\n",
      "[youtube] zFH0QbS-l-w: Downloading m3u8 information\n",
      "[info] zFH0QbS-l-w: Downloading 1 format(s): 140\n",
      "[download] Destination: /Users/akanshagautam/Documents/MTech/Speech Understanding/Project/dataset/avspeech/train/zFH0QbS-l-w/zFH0QbS-l-w_audio.m4a\n",
      "[download] 100% of   11.62MiB in 00:01:01 at 193.59KiB/s \n",
      "[FixupM4a] Correcting container of \"/Users/akanshagautam/Documents/MTech/Speech Understanding/Project/dataset/avspeech/train/zFH0QbS-l-w/zFH0QbS-l-w_audio.m4a\"\n",
      "[ExtractAudio] Destination: /Users/akanshagautam/Documents/MTech/Speech Understanding/Project/dataset/avspeech/train/zFH0QbS-l-w/zFH0QbS-l-w_audio.wav\n",
      "Deleting original file /Users/akanshagautam/Documents/MTech/Speech Understanding/Project/dataset/avspeech/train/zFH0QbS-l-w/zFH0QbS-l-w_audio.m4a (pass -k to keep)\n"
     ]
    },
    {
     "name": "stderr",
     "output_type": "stream",
     "text": [
      "/Users/akanshagautam/Documents/MTech/ml_env/lib/python3.9/site-packages/whisper/transcribe.py:126: UserWarning: FP16 is not supported on CPU; using FP32 instead\n",
      "  warnings.warn(\"FP16 is not supported on CPU; using FP32 instead\")\n",
      "/Users/akanshagautam/Documents/MTech/ml_env/lib/python3.9/site-packages/urllib3/__init__.py:35: NotOpenSSLWarning: urllib3 v2 only supports OpenSSL 1.1.1+, currently the 'ssl' module is compiled with 'LibreSSL 2.8.3'. See: https://github.com/urllib3/urllib3/issues/3020\n",
      "  warnings.warn(\n"
     ]
    },
    {
     "name": "stdout",
     "output_type": "stream",
     "text": [
      "[youtube] Extracting URL: https://www.youtube.com/watch?v=zFH0QbS-l-w\n",
      "[youtube] zFH0QbS-l-w: Downloading webpage\n",
      "[youtube] zFH0QbS-l-w: Downloading tv client config\n",
      "[youtube] zFH0QbS-l-w: Downloading player 179bab65\n",
      "[youtube] zFH0QbS-l-w: Downloading tv player API JSON\n",
      "[youtube] zFH0QbS-l-w: Downloading ios player API JSON\n",
      "[youtube] zFH0QbS-l-w: Downloading m3u8 information\n",
      "[info] zFH0QbS-l-w: Downloading subtitles: en\n",
      "[info] zFH0QbS-l-w: Downloading 1 format(s): 136+140\n",
      "[info] Writing video subtitles to: /Users/akanshagautam/Documents/MTech/Speech Understanding/Project/dataset/avspeech/train/zFH0QbS-l-w/zFH0QbS-l-w.en.vtt\n",
      "[download] Destination: /Users/akanshagautam/Documents/MTech/Speech Understanding/Project/dataset/avspeech/train/zFH0QbS-l-w/zFH0QbS-l-w.en.vtt\n",
      "[download] 100% of  107.28KiB in 00:00:00 at 804.94KiB/s\n",
      "[SubtitlesConvertor] Converting subtitles\n",
      "Deleting original file /Users/akanshagautam/Documents/MTech/Speech Understanding/Project/dataset/avspeech/train/zFH0QbS-l-w/zFH0QbS-l-w.en.vtt (pass -k to keep)\n",
      "[download] Destination: /Users/akanshagautam/Documents/MTech/Speech Understanding/Project/dataset/avspeech/train/zFH0QbS-l-w/zFH0QbS-l-w.f136.mp4\n",
      "[download] 100% of  155.45MiB in 00:12:02 at 220.21KiB/s   \n",
      "[download] Destination: /Users/akanshagautam/Documents/MTech/Speech Understanding/Project/dataset/avspeech/train/zFH0QbS-l-w/zFH0QbS-l-w.f140.m4a\n",
      "[download] 100% of   11.62MiB in 00:00:20 at 574.53KiB/s   \n",
      "[Merger] Merging formats into \"/Users/akanshagautam/Documents/MTech/Speech Understanding/Project/dataset/avspeech/train/zFH0QbS-l-w/zFH0QbS-l-w.mp4\"\n",
      "Deleting original file /Users/akanshagautam/Documents/MTech/Speech Understanding/Project/dataset/avspeech/train/zFH0QbS-l-w/zFH0QbS-l-w.f140.m4a (pass -k to keep)\n",
      "Deleting original file /Users/akanshagautam/Documents/MTech/Speech Understanding/Project/dataset/avspeech/train/zFH0QbS-l-w/zFH0QbS-l-w.f136.mp4 (pass -k to keep)\n",
      "✅ Downloaded: zFH0QbS-l-w\n"
     ]
    },
    {
     "name": "stderr",
     "output_type": "stream",
     "text": [
      "/Users/akanshagautam/Documents/MTech/ml_env/lib/python3.9/site-packages/urllib3/__init__.py:35: NotOpenSSLWarning: urllib3 v2 only supports OpenSSL 1.1.1+, currently the 'ssl' module is compiled with 'LibreSSL 2.8.3'. See: https://github.com/urllib3/urllib3/issues/3020\n",
      "  warnings.warn(\n"
     ]
    },
    {
     "name": "stdout",
     "output_type": "stream",
     "text": [
      "[youtube] Extracting URL: https://www.youtube.com/watch?v=h5wT_c4fQ1o\n",
      "[youtube] h5wT_c4fQ1o: Downloading webpage\n",
      "[youtube] h5wT_c4fQ1o: Downloading tv client config\n",
      "[youtube] h5wT_c4fQ1o: Downloading player 179bab65\n",
      "[youtube] h5wT_c4fQ1o: Downloading tv player API JSON\n",
      "[youtube] h5wT_c4fQ1o: Downloading ios player API JSON\n",
      "[youtube] h5wT_c4fQ1o: Downloading m3u8 information\n",
      "[info] h5wT_c4fQ1o: Downloading 1 format(s): 251\n",
      "[download] Destination: /Users/akanshagautam/Documents/MTech/Speech Understanding/Project/dataset/avspeech/train/h5wT_c4fQ1o/h5wT_c4fQ1o_audio.webm\n",
      "[download] 100% of   10.85MiB in 00:02:23 at 77.29KiB/s    \n",
      "[ExtractAudio] Destination: /Users/akanshagautam/Documents/MTech/Speech Understanding/Project/dataset/avspeech/train/h5wT_c4fQ1o/h5wT_c4fQ1o_audio.wav\n",
      "Deleting original file /Users/akanshagautam/Documents/MTech/Speech Understanding/Project/dataset/avspeech/train/h5wT_c4fQ1o/h5wT_c4fQ1o_audio.webm (pass -k to keep)\n"
     ]
    },
    {
     "name": "stderr",
     "output_type": "stream",
     "text": [
      "/Users/akanshagautam/Documents/MTech/ml_env/lib/python3.9/site-packages/whisper/transcribe.py:126: UserWarning: FP16 is not supported on CPU; using FP32 instead\n",
      "  warnings.warn(\"FP16 is not supported on CPU; using FP32 instead\")\n"
     ]
    },
    {
     "name": "stdout",
     "output_type": "stream",
     "text": [
      "Skipping non-English audio: h5wT_c4fQ1o\n"
     ]
    },
    {
     "name": "stderr",
     "output_type": "stream",
     "text": [
      "/Users/akanshagautam/Documents/MTech/ml_env/lib/python3.9/site-packages/urllib3/__init__.py:35: NotOpenSSLWarning: urllib3 v2 only supports OpenSSL 1.1.1+, currently the 'ssl' module is compiled with 'LibreSSL 2.8.3'. See: https://github.com/urllib3/urllib3/issues/3020\n",
      "  warnings.warn(\n"
     ]
    },
    {
     "name": "stdout",
     "output_type": "stream",
     "text": [
      "[youtube] Extracting URL: https://www.youtube.com/watch?v=3AsPqH3QaQM\n",
      "[youtube] 3AsPqH3QaQM: Downloading webpage\n",
      "[youtube] 3AsPqH3QaQM: Downloading tv client config\n",
      "[youtube] 3AsPqH3QaQM: Downloading player 179bab65\n",
      "[youtube] 3AsPqH3QaQM: Downloading tv player API JSON\n",
      "[youtube] 3AsPqH3QaQM: Downloading ios player API JSON\n",
      "[youtube] 3AsPqH3QaQM: Downloading m3u8 information\n",
      "[info] 3AsPqH3QaQM: Downloading 1 format(s): 251\n",
      "[download] Destination: /Users/akanshagautam/Documents/MTech/Speech Understanding/Project/dataset/avspeech/train/3AsPqH3QaQM/3AsPqH3QaQM_audio.webm\n",
      "[download] 100% of    7.92MiB in 00:01:04 at 125.54KiB/s \n",
      "[ExtractAudio] Destination: /Users/akanshagautam/Documents/MTech/Speech Understanding/Project/dataset/avspeech/train/3AsPqH3QaQM/3AsPqH3QaQM_audio.wav\n",
      "Deleting original file /Users/akanshagautam/Documents/MTech/Speech Understanding/Project/dataset/avspeech/train/3AsPqH3QaQM/3AsPqH3QaQM_audio.webm (pass -k to keep)\n"
     ]
    },
    {
     "name": "stderr",
     "output_type": "stream",
     "text": [
      "/Users/akanshagautam/Documents/MTech/ml_env/lib/python3.9/site-packages/whisper/transcribe.py:126: UserWarning: FP16 is not supported on CPU; using FP32 instead\n",
      "  warnings.warn(\"FP16 is not supported on CPU; using FP32 instead\")\n"
     ]
    },
    {
     "name": "stdout",
     "output_type": "stream",
     "text": [
      "Skipping non-English audio: 3AsPqH3QaQM\n"
     ]
    },
    {
     "name": "stderr",
     "output_type": "stream",
     "text": [
      "/Users/akanshagautam/Documents/MTech/ml_env/lib/python3.9/site-packages/urllib3/__init__.py:35: NotOpenSSLWarning: urllib3 v2 only supports OpenSSL 1.1.1+, currently the 'ssl' module is compiled with 'LibreSSL 2.8.3'. See: https://github.com/urllib3/urllib3/issues/3020\n",
      "  warnings.warn(\n"
     ]
    },
    {
     "name": "stdout",
     "output_type": "stream",
     "text": [
      "[youtube] Extracting URL: https://www.youtube.com/watch?v=aaEA__Js2u0\n",
      "[youtube] aaEA__Js2u0: Downloading webpage\n",
      "[youtube] aaEA__Js2u0: Downloading tv client config\n",
      "[youtube] aaEA__Js2u0: Downloading player 179bab65\n",
      "[youtube] aaEA__Js2u0: Downloading tv player API JSON\n",
      "[youtube] aaEA__Js2u0: Downloading ios player API JSON\n",
      "[youtube] aaEA__Js2u0: Downloading m3u8 information\n",
      "[info] aaEA__Js2u0: Downloading 1 format(s): 251\n",
      "[download] Destination: /Users/akanshagautam/Documents/MTech/Speech Understanding/Project/dataset/avspeech/train/aaEA__Js2u0/aaEA__Js2u0_audio.webm\n",
      "[download] 100% of    8.05MiB in 00:01:02 at 132.92KiB/s \n",
      "[ExtractAudio] Destination: /Users/akanshagautam/Documents/MTech/Speech Understanding/Project/dataset/avspeech/train/aaEA__Js2u0/aaEA__Js2u0_audio.wav\n",
      "Deleting original file /Users/akanshagautam/Documents/MTech/Speech Understanding/Project/dataset/avspeech/train/aaEA__Js2u0/aaEA__Js2u0_audio.webm (pass -k to keep)\n"
     ]
    },
    {
     "name": "stderr",
     "output_type": "stream",
     "text": [
      "/Users/akanshagautam/Documents/MTech/ml_env/lib/python3.9/site-packages/whisper/transcribe.py:126: UserWarning: FP16 is not supported on CPU; using FP32 instead\n",
      "  warnings.warn(\"FP16 is not supported on CPU; using FP32 instead\")\n"
     ]
    },
    {
     "name": "stdout",
     "output_type": "stream",
     "text": [
      "Skipping non-English audio: aaEA__Js2u0\n"
     ]
    },
    {
     "name": "stderr",
     "output_type": "stream",
     "text": [
      "/Users/akanshagautam/Documents/MTech/ml_env/lib/python3.9/site-packages/urllib3/__init__.py:35: NotOpenSSLWarning: urllib3 v2 only supports OpenSSL 1.1.1+, currently the 'ssl' module is compiled with 'LibreSSL 2.8.3'. See: https://github.com/urllib3/urllib3/issues/3020\n",
      "  warnings.warn(\n"
     ]
    },
    {
     "name": "stdout",
     "output_type": "stream",
     "text": [
      "[youtube] Extracting URL: https://www.youtube.com/watch?v=7rYeSDHS0U0\n",
      "[youtube] 7rYeSDHS0U0: Downloading webpage\n",
      "[youtube] 7rYeSDHS0U0: Downloading tv client config\n",
      "[youtube] 7rYeSDHS0U0: Downloading player 179bab65\n",
      "[youtube] 7rYeSDHS0U0: Downloading tv player API JSON\n",
      "[youtube] 7rYeSDHS0U0: Downloading ios player API JSON\n",
      "[youtube] 7rYeSDHS0U0: Downloading m3u8 information\n",
      "[info] 7rYeSDHS0U0: Downloading 1 format(s): 140\n",
      "[download] Destination: /Users/akanshagautam/Documents/MTech/Speech Understanding/Project/dataset/avspeech/train/7rYeSDHS0U0/7rYeSDHS0U0_audio.m4a\n",
      "[download] 100% of    7.26MiB in 00:01:03 at 116.87KiB/s \n",
      "[FixupM4a] Correcting container of \"/Users/akanshagautam/Documents/MTech/Speech Understanding/Project/dataset/avspeech/train/7rYeSDHS0U0/7rYeSDHS0U0_audio.m4a\"\n",
      "[ExtractAudio] Destination: /Users/akanshagautam/Documents/MTech/Speech Understanding/Project/dataset/avspeech/train/7rYeSDHS0U0/7rYeSDHS0U0_audio.wav\n",
      "Deleting original file /Users/akanshagautam/Documents/MTech/Speech Understanding/Project/dataset/avspeech/train/7rYeSDHS0U0/7rYeSDHS0U0_audio.m4a (pass -k to keep)\n"
     ]
    },
    {
     "name": "stderr",
     "output_type": "stream",
     "text": [
      "/Users/akanshagautam/Documents/MTech/ml_env/lib/python3.9/site-packages/whisper/transcribe.py:126: UserWarning: FP16 is not supported on CPU; using FP32 instead\n",
      "  warnings.warn(\"FP16 is not supported on CPU; using FP32 instead\")\n"
     ]
    },
    {
     "name": "stdout",
     "output_type": "stream",
     "text": [
      "Skipping non-English audio: 7rYeSDHS0U0\n"
     ]
    },
    {
     "name": "stderr",
     "output_type": "stream",
     "text": [
      "/Users/akanshagautam/Documents/MTech/ml_env/lib/python3.9/site-packages/urllib3/__init__.py:35: NotOpenSSLWarning: urllib3 v2 only supports OpenSSL 1.1.1+, currently the 'ssl' module is compiled with 'LibreSSL 2.8.3'. See: https://github.com/urllib3/urllib3/issues/3020\n",
      "  warnings.warn(\n"
     ]
    },
    {
     "name": "stdout",
     "output_type": "stream",
     "text": [
      "[youtube] Extracting URL: https://www.youtube.com/watch?v=qpEzCs23PWE\n",
      "[youtube] qpEzCs23PWE: Downloading webpage\n",
      "[youtube] qpEzCs23PWE: Downloading tv client config\n",
      "[youtube] qpEzCs23PWE: Downloading player 179bab65\n",
      "[youtube] qpEzCs23PWE: Downloading tv player API JSON\n",
      "[youtube] qpEzCs23PWE: Downloading ios player API JSON\n",
      "[youtube] qpEzCs23PWE: Downloading m3u8 information\n",
      "[info] qpEzCs23PWE: Downloading 1 format(s): 251\n",
      "[download] Destination: /Users/akanshagautam/Documents/MTech/Speech Understanding/Project/dataset/avspeech/train/qpEzCs23PWE/qpEzCs23PWE_audio.webm\n",
      "[download] 100% of    8.95MiB in 00:00:42 at 217.38KiB/s \n",
      "[ExtractAudio] Destination: /Users/akanshagautam/Documents/MTech/Speech Understanding/Project/dataset/avspeech/train/qpEzCs23PWE/qpEzCs23PWE_audio.wav\n",
      "Deleting original file /Users/akanshagautam/Documents/MTech/Speech Understanding/Project/dataset/avspeech/train/qpEzCs23PWE/qpEzCs23PWE_audio.webm (pass -k to keep)\n"
     ]
    },
    {
     "name": "stderr",
     "output_type": "stream",
     "text": [
      "/Users/akanshagautam/Documents/MTech/ml_env/lib/python3.9/site-packages/whisper/transcribe.py:126: UserWarning: FP16 is not supported on CPU; using FP32 instead\n",
      "  warnings.warn(\"FP16 is not supported on CPU; using FP32 instead\")\n"
     ]
    },
    {
     "name": "stdout",
     "output_type": "stream",
     "text": [
      "Skipping non-English audio: qpEzCs23PWE\n"
     ]
    },
    {
     "name": "stderr",
     "output_type": "stream",
     "text": [
      "/Users/akanshagautam/Documents/MTech/ml_env/lib/python3.9/site-packages/urllib3/__init__.py:35: NotOpenSSLWarning: urllib3 v2 only supports OpenSSL 1.1.1+, currently the 'ssl' module is compiled with 'LibreSSL 2.8.3'. See: https://github.com/urllib3/urllib3/issues/3020\n",
      "  warnings.warn(\n"
     ]
    },
    {
     "name": "stdout",
     "output_type": "stream",
     "text": [
      "[youtube] Extracting URL: https://www.youtube.com/watch?v=8E2UlNrLNmk\n",
      "[youtube] 8E2UlNrLNmk: Downloading webpage\n",
      "[youtube] 8E2UlNrLNmk: Downloading tv client config\n",
      "[youtube] 8E2UlNrLNmk: Downloading player 179bab65\n",
      "[youtube] 8E2UlNrLNmk: Downloading tv player API JSON\n",
      "[youtube] 8E2UlNrLNmk: Downloading ios player API JSON\n",
      "[youtube] 8E2UlNrLNmk: Downloading m3u8 information\n",
      "[info] 8E2UlNrLNmk: Downloading 1 format(s): 140\n",
      "[download] Destination: /Users/akanshagautam/Documents/MTech/Speech Understanding/Project/dataset/avspeech/train/8E2UlNrLNmk/8E2UlNrLNmk_audio.m4a\n",
      "[download] 100% of    9.00MiB in 00:01:02 at 148.26KiB/s \n",
      "[FixupM4a] Correcting container of \"/Users/akanshagautam/Documents/MTech/Speech Understanding/Project/dataset/avspeech/train/8E2UlNrLNmk/8E2UlNrLNmk_audio.m4a\"\n",
      "[ExtractAudio] Destination: /Users/akanshagautam/Documents/MTech/Speech Understanding/Project/dataset/avspeech/train/8E2UlNrLNmk/8E2UlNrLNmk_audio.wav\n",
      "Deleting original file /Users/akanshagautam/Documents/MTech/Speech Understanding/Project/dataset/avspeech/train/8E2UlNrLNmk/8E2UlNrLNmk_audio.m4a (pass -k to keep)\n"
     ]
    },
    {
     "name": "stderr",
     "output_type": "stream",
     "text": [
      "/Users/akanshagautam/Documents/MTech/ml_env/lib/python3.9/site-packages/whisper/transcribe.py:126: UserWarning: FP16 is not supported on CPU; using FP32 instead\n",
      "  warnings.warn(\"FP16 is not supported on CPU; using FP32 instead\")\n"
     ]
    },
    {
     "name": "stdout",
     "output_type": "stream",
     "text": [
      "Skipping non-English audio: 8E2UlNrLNmk\n"
     ]
    },
    {
     "name": "stderr",
     "output_type": "stream",
     "text": [
      "/Users/akanshagautam/Documents/MTech/ml_env/lib/python3.9/site-packages/urllib3/__init__.py:35: NotOpenSSLWarning: urllib3 v2 only supports OpenSSL 1.1.1+, currently the 'ssl' module is compiled with 'LibreSSL 2.8.3'. See: https://github.com/urllib3/urllib3/issues/3020\n",
      "  warnings.warn(\n"
     ]
    },
    {
     "name": "stdout",
     "output_type": "stream",
     "text": [
      "[youtube] Extracting URL: https://www.youtube.com/watch?v=BjvtZkHWExY\n",
      "[youtube] BjvtZkHWExY: Downloading webpage\n",
      "[youtube] BjvtZkHWExY: Downloading tv client config\n",
      "[youtube] BjvtZkHWExY: Downloading player 64be519f\n",
      "[youtube] BjvtZkHWExY: Downloading tv player API JSON\n",
      "[youtube] BjvtZkHWExY: Downloading ios player API JSON\n",
      "[youtube] BjvtZkHWExY: Downloading m3u8 information\n",
      "[info] BjvtZkHWExY: Downloading 1 format(s): 251\n",
      "[download] Destination: /Users/akanshagautam/Documents/MTech/Speech Understanding/Project/dataset/avspeech/train/BjvtZkHWExY/BjvtZkHWExY_audio.webm\n",
      "[download] 100% of    8.87MiB in 00:01:04 at 141.81KiB/s \n",
      "[ExtractAudio] Destination: /Users/akanshagautam/Documents/MTech/Speech Understanding/Project/dataset/avspeech/train/BjvtZkHWExY/BjvtZkHWExY_audio.wav\n",
      "Deleting original file /Users/akanshagautam/Documents/MTech/Speech Understanding/Project/dataset/avspeech/train/BjvtZkHWExY/BjvtZkHWExY_audio.webm (pass -k to keep)\n"
     ]
    },
    {
     "name": "stderr",
     "output_type": "stream",
     "text": [
      "/Users/akanshagautam/Documents/MTech/ml_env/lib/python3.9/site-packages/whisper/transcribe.py:126: UserWarning: FP16 is not supported on CPU; using FP32 instead\n",
      "  warnings.warn(\"FP16 is not supported on CPU; using FP32 instead\")\n",
      "/Users/akanshagautam/Documents/MTech/ml_env/lib/python3.9/site-packages/urllib3/__init__.py:35: NotOpenSSLWarning: urllib3 v2 only supports OpenSSL 1.1.1+, currently the 'ssl' module is compiled with 'LibreSSL 2.8.3'. See: https://github.com/urllib3/urllib3/issues/3020\n",
      "  warnings.warn(\n"
     ]
    },
    {
     "name": "stdout",
     "output_type": "stream",
     "text": [
      "[youtube] Extracting URL: https://www.youtube.com/watch?v=BjvtZkHWExY\n",
      "[youtube] BjvtZkHWExY: Downloading webpage\n",
      "[youtube] BjvtZkHWExY: Downloading tv client config\n",
      "[youtube] BjvtZkHWExY: Downloading player 179bab65\n",
      "[youtube] BjvtZkHWExY: Downloading tv player API JSON\n",
      "[youtube] BjvtZkHWExY: Downloading ios player API JSON\n",
      "[youtube] BjvtZkHWExY: Downloading m3u8 information\n",
      "[info] BjvtZkHWExY: Downloading subtitles: en\n",
      "[info] BjvtZkHWExY: Downloading 1 format(s): 136+140\n",
      "[info] Writing video subtitles to: /Users/akanshagautam/Documents/MTech/Speech Understanding/Project/dataset/avspeech/train/BjvtZkHWExY/BjvtZkHWExY.en.vtt\n",
      "[download] Destination: /Users/akanshagautam/Documents/MTech/Speech Understanding/Project/dataset/avspeech/train/BjvtZkHWExY/BjvtZkHWExY.en.vtt\n",
      "[download] 100% of   83.62KiB in 00:00:00 at 568.74KiB/s\n",
      "[SubtitlesConvertor] Converting subtitles\n",
      "Deleting original file /Users/akanshagautam/Documents/MTech/Speech Understanding/Project/dataset/avspeech/train/BjvtZkHWExY/BjvtZkHWExY.en.vtt (pass -k to keep)\n",
      "[download] Destination: /Users/akanshagautam/Documents/MTech/Speech Understanding/Project/dataset/avspeech/train/BjvtZkHWExY/BjvtZkHWExY.f136.mp4\n",
      "[download] 100% of   98.93MiB in 00:08:14 at 204.78KiB/s   \n",
      "[download] Destination: /Users/akanshagautam/Documents/MTech/Speech Understanding/Project/dataset/avspeech/train/BjvtZkHWExY/BjvtZkHWExY.f140.m4a\n",
      "[download] 100% of   10.69MiB in 00:01:22 at 132.96KiB/s   \n",
      "[Merger] Merging formats into \"/Users/akanshagautam/Documents/MTech/Speech Understanding/Project/dataset/avspeech/train/BjvtZkHWExY/BjvtZkHWExY.mp4\"\n",
      "Deleting original file /Users/akanshagautam/Documents/MTech/Speech Understanding/Project/dataset/avspeech/train/BjvtZkHWExY/BjvtZkHWExY.f140.m4a (pass -k to keep)\n",
      "Deleting original file /Users/akanshagautam/Documents/MTech/Speech Understanding/Project/dataset/avspeech/train/BjvtZkHWExY/BjvtZkHWExY.f136.mp4 (pass -k to keep)\n",
      "✅ Downloaded: BjvtZkHWExY\n"
     ]
    },
    {
     "name": "stderr",
     "output_type": "stream",
     "text": [
      "/Users/akanshagautam/Documents/MTech/ml_env/lib/python3.9/site-packages/urllib3/__init__.py:35: NotOpenSSLWarning: urllib3 v2 only supports OpenSSL 1.1.1+, currently the 'ssl' module is compiled with 'LibreSSL 2.8.3'. See: https://github.com/urllib3/urllib3/issues/3020\n",
      "  warnings.warn(\n"
     ]
    },
    {
     "name": "stdout",
     "output_type": "stream",
     "text": [
      "[youtube] Extracting URL: https://www.youtube.com/watch?v=qzM4wshoqGs\n",
      "[youtube] qzM4wshoqGs: Downloading webpage\n",
      "[youtube] qzM4wshoqGs: Downloading tv client config\n",
      "[youtube] qzM4wshoqGs: Downloading player 179bab65\n",
      "[youtube] qzM4wshoqGs: Downloading tv player API JSON\n",
      "[youtube] qzM4wshoqGs: Downloading ios player API JSON\n",
      "[youtube] qzM4wshoqGs: Downloading m3u8 information\n",
      "[info] qzM4wshoqGs: Downloading 1 format(s): 251\n",
      "[download] Destination: /Users/akanshagautam/Documents/MTech/Speech Understanding/Project/dataset/avspeech/train/qzM4wshoqGs/qzM4wshoqGs_audio.webm\n",
      "[download] 100% of   14.30MiB in 00:01:56 at 125.50KiB/s \n",
      "[ExtractAudio] Destination: /Users/akanshagautam/Documents/MTech/Speech Understanding/Project/dataset/avspeech/train/qzM4wshoqGs/qzM4wshoqGs_audio.wav\n",
      "Deleting original file /Users/akanshagautam/Documents/MTech/Speech Understanding/Project/dataset/avspeech/train/qzM4wshoqGs/qzM4wshoqGs_audio.webm (pass -k to keep)\n"
     ]
    },
    {
     "name": "stderr",
     "output_type": "stream",
     "text": [
      "/Users/akanshagautam/Documents/MTech/ml_env/lib/python3.9/site-packages/whisper/transcribe.py:126: UserWarning: FP16 is not supported on CPU; using FP32 instead\n",
      "  warnings.warn(\"FP16 is not supported on CPU; using FP32 instead\")\n"
     ]
    },
    {
     "name": "stdout",
     "output_type": "stream",
     "text": [
      "Skipping non-English audio: qzM4wshoqGs\n"
     ]
    },
    {
     "name": "stderr",
     "output_type": "stream",
     "text": [
      "/Users/akanshagautam/Documents/MTech/ml_env/lib/python3.9/site-packages/urllib3/__init__.py:35: NotOpenSSLWarning: urllib3 v2 only supports OpenSSL 1.1.1+, currently the 'ssl' module is compiled with 'LibreSSL 2.8.3'. See: https://github.com/urllib3/urllib3/issues/3020\n",
      "  warnings.warn(\n"
     ]
    },
    {
     "name": "stdout",
     "output_type": "stream",
     "text": [
      "[youtube] Extracting URL: https://www.youtube.com/watch?v=871zAw-g1ZM\n",
      "[youtube] 871zAw-g1ZM: Downloading webpage\n",
      "[youtube] 871zAw-g1ZM: Downloading tv client config\n",
      "[youtube] 871zAw-g1ZM: Downloading player 179bab65\n",
      "[youtube] 871zAw-g1ZM: Downloading tv player API JSON\n",
      "[youtube] 871zAw-g1ZM: Downloading ios player API JSON\n"
     ]
    },
    {
     "name": "stderr",
     "output_type": "stream",
     "text": [
      "ERROR: [youtube] 871zAw-g1ZM: Video unavailable. This video is no longer available because the YouTube account associated with this video has been terminated.\n",
      "/Users/akanshagautam/Documents/MTech/ml_env/lib/python3.9/site-packages/urllib3/__init__.py:35: NotOpenSSLWarning: urllib3 v2 only supports OpenSSL 1.1.1+, currently the 'ssl' module is compiled with 'LibreSSL 2.8.3'. See: https://github.com/urllib3/urllib3/issues/3020\n",
      "  warnings.warn(\n"
     ]
    },
    {
     "name": "stdout",
     "output_type": "stream",
     "text": [
      "Error downloading 871zAw-g1ZM: Command 'yt-dlp --extract-audio --audio-format wav --output \"/Users/akanshagautam/Documents/MTech/Speech Understanding/Project/dataset/avspeech/train/871zAw-g1ZM/871zAw-g1ZM_audio.%(ext)s\" https://www.youtube.com/watch?v=871zAw-g1ZM' returned non-zero exit status 1.\n",
      "[youtube] Extracting URL: https://www.youtube.com/watch?v=JpJoybtabbU\n",
      "[youtube] JpJoybtabbU: Downloading webpage\n",
      "[youtube] JpJoybtabbU: Downloading tv client config\n",
      "[youtube] JpJoybtabbU: Downloading player 179bab65\n",
      "[youtube] JpJoybtabbU: Downloading tv player API JSON\n",
      "[youtube] JpJoybtabbU: Downloading ios player API JSON\n",
      "[youtube] JpJoybtabbU: Downloading m3u8 information\n",
      "[info] JpJoybtabbU: Downloading 1 format(s): 251\n",
      "[download] Destination: /Users/akanshagautam/Documents/MTech/Speech Understanding/Project/dataset/avspeech/train/JpJoybtabbU/JpJoybtabbU_audio.webm\n",
      "[download] 100% of    3.20MiB in 00:00:51 at 64.08KiB/s  \n",
      "[ExtractAudio] Destination: /Users/akanshagautam/Documents/MTech/Speech Understanding/Project/dataset/avspeech/train/JpJoybtabbU/JpJoybtabbU_audio.wav\n",
      "Deleting original file /Users/akanshagautam/Documents/MTech/Speech Understanding/Project/dataset/avspeech/train/JpJoybtabbU/JpJoybtabbU_audio.webm (pass -k to keep)\n"
     ]
    },
    {
     "name": "stderr",
     "output_type": "stream",
     "text": [
      "/Users/akanshagautam/Documents/MTech/ml_env/lib/python3.9/site-packages/whisper/transcribe.py:126: UserWarning: FP16 is not supported on CPU; using FP32 instead\n",
      "  warnings.warn(\"FP16 is not supported on CPU; using FP32 instead\")\n",
      "/Users/akanshagautam/Documents/MTech/ml_env/lib/python3.9/site-packages/urllib3/__init__.py:35: NotOpenSSLWarning: urllib3 v2 only supports OpenSSL 1.1.1+, currently the 'ssl' module is compiled with 'LibreSSL 2.8.3'. See: https://github.com/urllib3/urllib3/issues/3020\n",
      "  warnings.warn(\n"
     ]
    },
    {
     "name": "stdout",
     "output_type": "stream",
     "text": [
      "[youtube] Extracting URL: https://www.youtube.com/watch?v=JpJoybtabbU\n",
      "[youtube] JpJoybtabbU: Downloading webpage\n",
      "[youtube] JpJoybtabbU: Downloading tv client config\n",
      "[youtube] JpJoybtabbU: Downloading player 179bab65\n",
      "[youtube] JpJoybtabbU: Downloading tv player API JSON\n",
      "[youtube] JpJoybtabbU: Downloading ios player API JSON\n",
      "[youtube] JpJoybtabbU: Downloading m3u8 information\n",
      "[info] JpJoybtabbU: Downloading subtitles: en\n",
      "[info] JpJoybtabbU: Downloading 1 format(s): 137+140\n",
      "[info] Writing video subtitles to: /Users/akanshagautam/Documents/MTech/Speech Understanding/Project/dataset/avspeech/train/JpJoybtabbU/JpJoybtabbU.en.vtt\n",
      "[download] Destination: /Users/akanshagautam/Documents/MTech/Speech Understanding/Project/dataset/avspeech/train/JpJoybtabbU/JpJoybtabbU.en.vtt\n",
      "[download] 100% of   31.11KiB in 00:00:00 at 392.41KiB/s\n",
      "[SubtitlesConvertor] Converting subtitles\n",
      "Deleting original file /Users/akanshagautam/Documents/MTech/Speech Understanding/Project/dataset/avspeech/train/JpJoybtabbU/JpJoybtabbU.en.vtt (pass -k to keep)\n",
      "[download] Destination: /Users/akanshagautam/Documents/MTech/Speech Understanding/Project/dataset/avspeech/train/JpJoybtabbU/JpJoybtabbU.f137.mp4\n",
      "[download] 100% of   94.12MiB in 00:07:09 at 224.66KiB/s   \n",
      "[download] Destination: /Users/akanshagautam/Documents/MTech/Speech Understanding/Project/dataset/avspeech/train/JpJoybtabbU/JpJoybtabbU.f140.m4a\n",
      "[download] 100% of    4.70MiB in 00:00:40 at 118.97KiB/s   \n",
      "[Merger] Merging formats into \"/Users/akanshagautam/Documents/MTech/Speech Understanding/Project/dataset/avspeech/train/JpJoybtabbU/JpJoybtabbU.mp4\"\n",
      "Deleting original file /Users/akanshagautam/Documents/MTech/Speech Understanding/Project/dataset/avspeech/train/JpJoybtabbU/JpJoybtabbU.f137.mp4 (pass -k to keep)\n",
      "Deleting original file /Users/akanshagautam/Documents/MTech/Speech Understanding/Project/dataset/avspeech/train/JpJoybtabbU/JpJoybtabbU.f140.m4a (pass -k to keep)\n",
      "✅ Downloaded: JpJoybtabbU\n"
     ]
    },
    {
     "name": "stderr",
     "output_type": "stream",
     "text": [
      "/Users/akanshagautam/Documents/MTech/ml_env/lib/python3.9/site-packages/urllib3/__init__.py:35: NotOpenSSLWarning: urllib3 v2 only supports OpenSSL 1.1.1+, currently the 'ssl' module is compiled with 'LibreSSL 2.8.3'. See: https://github.com/urllib3/urllib3/issues/3020\n",
      "  warnings.warn(\n"
     ]
    },
    {
     "name": "stdout",
     "output_type": "stream",
     "text": [
      "[youtube] Extracting URL: https://www.youtube.com/watch?v=lUdymhI3Zl4\n",
      "[youtube] lUdymhI3Zl4: Downloading webpage\n",
      "[youtube] lUdymhI3Zl4: Downloading tv client config\n",
      "[youtube] lUdymhI3Zl4: Downloading player 179bab65\n",
      "[youtube] lUdymhI3Zl4: Downloading tv player API JSON\n",
      "[youtube] lUdymhI3Zl4: Downloading ios player API JSON\n"
     ]
    },
    {
     "name": "stderr",
     "output_type": "stream",
     "text": [
      "ERROR: [youtube] lUdymhI3Zl4: Video unavailable. This video contains content from AllContent Music, who has blocked it on copyright grounds\n",
      "/Users/akanshagautam/Documents/MTech/ml_env/lib/python3.9/site-packages/urllib3/__init__.py:35: NotOpenSSLWarning: urllib3 v2 only supports OpenSSL 1.1.1+, currently the 'ssl' module is compiled with 'LibreSSL 2.8.3'. See: https://github.com/urllib3/urllib3/issues/3020\n",
      "  warnings.warn(\n"
     ]
    },
    {
     "name": "stdout",
     "output_type": "stream",
     "text": [
      "Error downloading lUdymhI3Zl4: Command 'yt-dlp --extract-audio --audio-format wav --output \"/Users/akanshagautam/Documents/MTech/Speech Understanding/Project/dataset/avspeech/train/lUdymhI3Zl4/lUdymhI3Zl4_audio.%(ext)s\" https://www.youtube.com/watch?v=lUdymhI3Zl4' returned non-zero exit status 1.\n",
      "[youtube] Extracting URL: https://www.youtube.com/watch?v=RdUVaYI3bmg\n",
      "[youtube] RdUVaYI3bmg: Downloading webpage\n",
      "[youtube] RdUVaYI3bmg: Downloading tv client config\n",
      "[youtube] RdUVaYI3bmg: Downloading player 64be519f\n",
      "[youtube] RdUVaYI3bmg: Downloading tv player API JSON\n",
      "[youtube] RdUVaYI3bmg: Downloading ios player API JSON\n",
      "[youtube] RdUVaYI3bmg: Downloading m3u8 information\n",
      "[info] RdUVaYI3bmg: Downloading 1 format(s): 140\n",
      "[download] Destination: /Users/akanshagautam/Documents/MTech/Speech Understanding/Project/dataset/avspeech/train/RdUVaYI3bmg/RdUVaYI3bmg_audio.m4a\n",
      "[download] 100% of   11.52MiB in 00:01:44 at 112.53KiB/s   \n",
      "[FixupM4a] Correcting container of \"/Users/akanshagautam/Documents/MTech/Speech Understanding/Project/dataset/avspeech/train/RdUVaYI3bmg/RdUVaYI3bmg_audio.m4a\"\n",
      "[ExtractAudio] Destination: /Users/akanshagautam/Documents/MTech/Speech Understanding/Project/dataset/avspeech/train/RdUVaYI3bmg/RdUVaYI3bmg_audio.wav\n",
      "Deleting original file /Users/akanshagautam/Documents/MTech/Speech Understanding/Project/dataset/avspeech/train/RdUVaYI3bmg/RdUVaYI3bmg_audio.m4a (pass -k to keep)\n"
     ]
    },
    {
     "name": "stderr",
     "output_type": "stream",
     "text": [
      "/Users/akanshagautam/Documents/MTech/ml_env/lib/python3.9/site-packages/whisper/transcribe.py:126: UserWarning: FP16 is not supported on CPU; using FP32 instead\n",
      "  warnings.warn(\"FP16 is not supported on CPU; using FP32 instead\")\n",
      "/Users/akanshagautam/Documents/MTech/ml_env/lib/python3.9/site-packages/urllib3/__init__.py:35: NotOpenSSLWarning: urllib3 v2 only supports OpenSSL 1.1.1+, currently the 'ssl' module is compiled with 'LibreSSL 2.8.3'. See: https://github.com/urllib3/urllib3/issues/3020\n",
      "  warnings.warn(\n"
     ]
    },
    {
     "name": "stdout",
     "output_type": "stream",
     "text": [
      "[youtube] Extracting URL: https://www.youtube.com/watch?v=RdUVaYI3bmg\n",
      "[youtube] RdUVaYI3bmg: Downloading webpage\n",
      "[youtube] RdUVaYI3bmg: Downloading tv client config\n",
      "[youtube] RdUVaYI3bmg: Downloading player 179bab65\n",
      "[youtube] RdUVaYI3bmg: Downloading tv player API JSON\n",
      "[youtube] RdUVaYI3bmg: Downloading ios player API JSON\n",
      "[youtube] RdUVaYI3bmg: Downloading m3u8 information\n",
      "[info] RdUVaYI3bmg: Downloading subtitles: en\n",
      "[info] RdUVaYI3bmg: Downloading 1 format(s): 137+140\n",
      "[info] Writing video subtitles to: /Users/akanshagautam/Documents/MTech/Speech Understanding/Project/dataset/avspeech/train/RdUVaYI3bmg/RdUVaYI3bmg.en.vtt\n",
      "[download] Destination: /Users/akanshagautam/Documents/MTech/Speech Understanding/Project/dataset/avspeech/train/RdUVaYI3bmg/RdUVaYI3bmg.en.vtt\n",
      "[download] 100% of  119.03KiB in 00:00:00 at 834.24KiB/s\n",
      "[SubtitlesConvertor] Converting subtitles\n",
      "Deleting original file /Users/akanshagautam/Documents/MTech/Speech Understanding/Project/dataset/avspeech/train/RdUVaYI3bmg/RdUVaYI3bmg.en.vtt (pass -k to keep)\n",
      "[download] Destination: /Users/akanshagautam/Documents/MTech/Speech Understanding/Project/dataset/avspeech/train/RdUVaYI3bmg/RdUVaYI3bmg.f137.mp4\n",
      "[download] 100% of  176.40MiB in 00:13:58 at 215.38KiB/s   \n",
      "[download] Destination: /Users/akanshagautam/Documents/MTech/Speech Understanding/Project/dataset/avspeech/train/RdUVaYI3bmg/RdUVaYI3bmg.f140.m4a\n",
      "[download] 100% of   11.52MiB in 00:00:22 at 525.02KiB/s   \n",
      "[Merger] Merging formats into \"/Users/akanshagautam/Documents/MTech/Speech Understanding/Project/dataset/avspeech/train/RdUVaYI3bmg/RdUVaYI3bmg.mp4\"\n",
      "Deleting original file /Users/akanshagautam/Documents/MTech/Speech Understanding/Project/dataset/avspeech/train/RdUVaYI3bmg/RdUVaYI3bmg.f140.m4a (pass -k to keep)\n",
      "Deleting original file /Users/akanshagautam/Documents/MTech/Speech Understanding/Project/dataset/avspeech/train/RdUVaYI3bmg/RdUVaYI3bmg.f137.mp4 (pass -k to keep)\n",
      "✅ Downloaded: RdUVaYI3bmg\n"
     ]
    },
    {
     "name": "stderr",
     "output_type": "stream",
     "text": [
      "/Users/akanshagautam/Documents/MTech/ml_env/lib/python3.9/site-packages/urllib3/__init__.py:35: NotOpenSSLWarning: urllib3 v2 only supports OpenSSL 1.1.1+, currently the 'ssl' module is compiled with 'LibreSSL 2.8.3'. See: https://github.com/urllib3/urllib3/issues/3020\n",
      "  warnings.warn(\n"
     ]
    },
    {
     "name": "stdout",
     "output_type": "stream",
     "text": [
      "[youtube] Extracting URL: https://www.youtube.com/watch?v=Uu1xVo0CF5o\n",
      "[youtube] Uu1xVo0CF5o: Downloading webpage\n",
      "[youtube] Uu1xVo0CF5o: Downloading tv client config\n",
      "[youtube] Uu1xVo0CF5o: Downloading player 179bab65\n",
      "[youtube] Uu1xVo0CF5o: Downloading tv player API JSON\n",
      "[youtube] Uu1xVo0CF5o: Downloading ios player API JSON\n",
      "[youtube] Uu1xVo0CF5o: Downloading m3u8 information\n",
      "[info] Uu1xVo0CF5o: Downloading 1 format(s): 140\n",
      "[download] Destination: /Users/akanshagautam/Documents/MTech/Speech Understanding/Project/dataset/avspeech/train/Uu1xVo0CF5o/Uu1xVo0CF5o_audio.m4a\n",
      "[download] 100% of    4.97MiB in 00:00:41 at 123.41KiB/s \n",
      "[FixupM4a] Correcting container of \"/Users/akanshagautam/Documents/MTech/Speech Understanding/Project/dataset/avspeech/train/Uu1xVo0CF5o/Uu1xVo0CF5o_audio.m4a\"\n",
      "[ExtractAudio] Destination: /Users/akanshagautam/Documents/MTech/Speech Understanding/Project/dataset/avspeech/train/Uu1xVo0CF5o/Uu1xVo0CF5o_audio.wav\n",
      "Deleting original file /Users/akanshagautam/Documents/MTech/Speech Understanding/Project/dataset/avspeech/train/Uu1xVo0CF5o/Uu1xVo0CF5o_audio.m4a (pass -k to keep)\n"
     ]
    },
    {
     "name": "stderr",
     "output_type": "stream",
     "text": [
      "/Users/akanshagautam/Documents/MTech/ml_env/lib/python3.9/site-packages/whisper/transcribe.py:126: UserWarning: FP16 is not supported on CPU; using FP32 instead\n",
      "  warnings.warn(\"FP16 is not supported on CPU; using FP32 instead\")\n",
      "/Users/akanshagautam/Documents/MTech/ml_env/lib/python3.9/site-packages/urllib3/__init__.py:35: NotOpenSSLWarning: urllib3 v2 only supports OpenSSL 1.1.1+, currently the 'ssl' module is compiled with 'LibreSSL 2.8.3'. See: https://github.com/urllib3/urllib3/issues/3020\n",
      "  warnings.warn(\n"
     ]
    },
    {
     "name": "stdout",
     "output_type": "stream",
     "text": [
      "[youtube] Extracting URL: https://www.youtube.com/watch?v=Uu1xVo0CF5o\n",
      "[youtube] Uu1xVo0CF5o: Downloading webpage\n",
      "[youtube] Uu1xVo0CF5o: Downloading tv client config\n",
      "[youtube] Uu1xVo0CF5o: Downloading player 179bab65\n",
      "[youtube] Uu1xVo0CF5o: Downloading tv player API JSON\n",
      "[youtube] Uu1xVo0CF5o: Downloading ios player API JSON\n",
      "[youtube] Uu1xVo0CF5o: Downloading m3u8 information\n",
      "[info] Uu1xVo0CF5o: Downloading subtitles: en\n",
      "[info] Uu1xVo0CF5o: Downloading 1 format(s): 137+140\n",
      "[info] Writing video subtitles to: /Users/akanshagautam/Documents/MTech/Speech Understanding/Project/dataset/avspeech/train/Uu1xVo0CF5o/Uu1xVo0CF5o.en.vtt\n",
      "[download] Destination: /Users/akanshagautam/Documents/MTech/Speech Understanding/Project/dataset/avspeech/train/Uu1xVo0CF5o/Uu1xVo0CF5o.en.vtt\n",
      "[download] 100% of   42.31KiB in 00:00:00 at 538.71KiB/s\n",
      "[SubtitlesConvertor] Converting subtitles\n",
      "Deleting original file /Users/akanshagautam/Documents/MTech/Speech Understanding/Project/dataset/avspeech/train/Uu1xVo0CF5o/Uu1xVo0CF5o.en.vtt (pass -k to keep)\n",
      "[download] Destination: /Users/akanshagautam/Documents/MTech/Speech Understanding/Project/dataset/avspeech/train/Uu1xVo0CF5o/Uu1xVo0CF5o.f137.mp4\n",
      "[download] 100% of  115.22MiB in 00:08:32 at 230.17KiB/s    \n",
      "[download] Destination: /Users/akanshagautam/Documents/MTech/Speech Understanding/Project/dataset/avspeech/train/Uu1xVo0CF5o/Uu1xVo0CF5o.f140.m4a\n",
      "[download] 100% of    4.97MiB in 00:00:20 at 246.95KiB/s   \n",
      "[Merger] Merging formats into \"/Users/akanshagautam/Documents/MTech/Speech Understanding/Project/dataset/avspeech/train/Uu1xVo0CF5o/Uu1xVo0CF5o.mp4\"\n",
      "Deleting original file /Users/akanshagautam/Documents/MTech/Speech Understanding/Project/dataset/avspeech/train/Uu1xVo0CF5o/Uu1xVo0CF5o.f137.mp4 (pass -k to keep)\n",
      "Deleting original file /Users/akanshagautam/Documents/MTech/Speech Understanding/Project/dataset/avspeech/train/Uu1xVo0CF5o/Uu1xVo0CF5o.f140.m4a (pass -k to keep)\n",
      "✅ Downloaded: Uu1xVo0CF5o\n"
     ]
    },
    {
     "name": "stderr",
     "output_type": "stream",
     "text": [
      "/Users/akanshagautam/Documents/MTech/ml_env/lib/python3.9/site-packages/urllib3/__init__.py:35: NotOpenSSLWarning: urllib3 v2 only supports OpenSSL 1.1.1+, currently the 'ssl' module is compiled with 'LibreSSL 2.8.3'. See: https://github.com/urllib3/urllib3/issues/3020\n",
      "  warnings.warn(\n"
     ]
    },
    {
     "name": "stdout",
     "output_type": "stream",
     "text": [
      "[youtube] Extracting URL: https://www.youtube.com/watch?v=WfpZPDqNNg0\n",
      "[youtube] WfpZPDqNNg0: Downloading webpage\n",
      "[youtube] WfpZPDqNNg0: Downloading tv client config\n",
      "[youtube] WfpZPDqNNg0: Downloading player 64be519f\n",
      "[youtube] WfpZPDqNNg0: Downloading tv player API JSON\n",
      "[youtube] WfpZPDqNNg0: Downloading ios player API JSON\n"
     ]
    },
    {
     "name": "stderr",
     "output_type": "stream",
     "text": [
      "ERROR: [youtube] WfpZPDqNNg0: Private video. Sign in if you've been granted access to this video. Use --cookies-from-browser or --cookies for the authentication. See  https://github.com/yt-dlp/yt-dlp/wiki/FAQ#how-do-i-pass-cookies-to-yt-dlp  for how to manually pass cookies. Also see  https://github.com/yt-dlp/yt-dlp/wiki/Extractors#exporting-youtube-cookies  for tips on effectively exporting YouTube cookies\n",
      "/Users/akanshagautam/Documents/MTech/ml_env/lib/python3.9/site-packages/urllib3/__init__.py:35: NotOpenSSLWarning: urllib3 v2 only supports OpenSSL 1.1.1+, currently the 'ssl' module is compiled with 'LibreSSL 2.8.3'. See: https://github.com/urllib3/urllib3/issues/3020\n",
      "  warnings.warn(\n"
     ]
    },
    {
     "name": "stdout",
     "output_type": "stream",
     "text": [
      "Error downloading WfpZPDqNNg0: Command 'yt-dlp --extract-audio --audio-format wav --output \"/Users/akanshagautam/Documents/MTech/Speech Understanding/Project/dataset/avspeech/train/WfpZPDqNNg0/WfpZPDqNNg0_audio.%(ext)s\" https://www.youtube.com/watch?v=WfpZPDqNNg0' returned non-zero exit status 1.\n",
      "[youtube] Extracting URL: https://www.youtube.com/watch?v=G7xm-5aDZyg\n",
      "[youtube] G7xm-5aDZyg: Downloading webpage\n",
      "[youtube] G7xm-5aDZyg: Downloading tv client config\n",
      "[youtube] G7xm-5aDZyg: Downloading player 179bab65\n",
      "[youtube] G7xm-5aDZyg: Downloading tv player API JSON\n",
      "[youtube] G7xm-5aDZyg: Downloading ios player API JSON\n",
      "[youtube] G7xm-5aDZyg: Downloading m3u8 information\n",
      "[info] G7xm-5aDZyg: Downloading 1 format(s): 251\n",
      "[download] Destination: /Users/akanshagautam/Documents/MTech/Speech Understanding/Project/dataset/avspeech/train/G7xm-5aDZyg/G7xm-5aDZyg_audio.webm\n",
      "[download] 100% of   15.64MiB in 00:02:19 at 114.43KiB/s \n",
      "[ExtractAudio] Destination: /Users/akanshagautam/Documents/MTech/Speech Understanding/Project/dataset/avspeech/train/G7xm-5aDZyg/G7xm-5aDZyg_audio.wav\n",
      "Deleting original file /Users/akanshagautam/Documents/MTech/Speech Understanding/Project/dataset/avspeech/train/G7xm-5aDZyg/G7xm-5aDZyg_audio.webm (pass -k to keep)\n"
     ]
    },
    {
     "name": "stderr",
     "output_type": "stream",
     "text": [
      "/Users/akanshagautam/Documents/MTech/ml_env/lib/python3.9/site-packages/whisper/transcribe.py:126: UserWarning: FP16 is not supported on CPU; using FP32 instead\n",
      "  warnings.warn(\"FP16 is not supported on CPU; using FP32 instead\")\n"
     ]
    },
    {
     "name": "stdout",
     "output_type": "stream",
     "text": [
      "Skipping non-English audio: G7xm-5aDZyg\n"
     ]
    },
    {
     "name": "stderr",
     "output_type": "stream",
     "text": [
      "/Users/akanshagautam/Documents/MTech/ml_env/lib/python3.9/site-packages/urllib3/__init__.py:35: NotOpenSSLWarning: urllib3 v2 only supports OpenSSL 1.1.1+, currently the 'ssl' module is compiled with 'LibreSSL 2.8.3'. See: https://github.com/urllib3/urllib3/issues/3020\n",
      "  warnings.warn(\n"
     ]
    },
    {
     "name": "stdout",
     "output_type": "stream",
     "text": [
      "[youtube] Extracting URL: https://www.youtube.com/watch?v=jdshBkVfjrA\n",
      "[youtube] jdshBkVfjrA: Downloading webpage\n",
      "[youtube] jdshBkVfjrA: Downloading tv client config\n",
      "[youtube] jdshBkVfjrA: Downloading player 64be519f\n",
      "[youtube] jdshBkVfjrA: Downloading tv player API JSON\n",
      "[youtube] jdshBkVfjrA: Downloading ios player API JSON\n",
      "[youtube] jdshBkVfjrA: Downloading m3u8 information\n",
      "[info] jdshBkVfjrA: Downloading 1 format(s): 251\n",
      "[download] Destination: /Users/akanshagautam/Documents/MTech/Speech Understanding/Project/dataset/avspeech/train/jdshBkVfjrA/jdshBkVfjrA_audio.webm\n",
      "[download] 100% of    3.90MiB in 00:01:02 at 64.31KiB/s  \n",
      "[ExtractAudio] Destination: /Users/akanshagautam/Documents/MTech/Speech Understanding/Project/dataset/avspeech/train/jdshBkVfjrA/jdshBkVfjrA_audio.wav\n",
      "Deleting original file /Users/akanshagautam/Documents/MTech/Speech Understanding/Project/dataset/avspeech/train/jdshBkVfjrA/jdshBkVfjrA_audio.webm (pass -k to keep)\n"
     ]
    },
    {
     "name": "stderr",
     "output_type": "stream",
     "text": [
      "/Users/akanshagautam/Documents/MTech/ml_env/lib/python3.9/site-packages/whisper/transcribe.py:126: UserWarning: FP16 is not supported on CPU; using FP32 instead\n",
      "  warnings.warn(\"FP16 is not supported on CPU; using FP32 instead\")\n"
     ]
    },
    {
     "name": "stdout",
     "output_type": "stream",
     "text": [
      "Skipping non-English audio: jdshBkVfjrA\n"
     ]
    },
    {
     "name": "stderr",
     "output_type": "stream",
     "text": [
      "/Users/akanshagautam/Documents/MTech/ml_env/lib/python3.9/site-packages/urllib3/__init__.py:35: NotOpenSSLWarning: urllib3 v2 only supports OpenSSL 1.1.1+, currently the 'ssl' module is compiled with 'LibreSSL 2.8.3'. See: https://github.com/urllib3/urllib3/issues/3020\n",
      "  warnings.warn(\n"
     ]
    },
    {
     "name": "stdout",
     "output_type": "stream",
     "text": [
      "[youtube] Extracting URL: https://www.youtube.com/watch?v=3gcWAZSNi2E\n",
      "[youtube] 3gcWAZSNi2E: Downloading webpage\n",
      "[youtube] 3gcWAZSNi2E: Downloading tv client config\n",
      "[youtube] 3gcWAZSNi2E: Downloading player 64be519f\n",
      "[youtube] 3gcWAZSNi2E: Downloading tv player API JSON\n",
      "[youtube] 3gcWAZSNi2E: Downloading ios player API JSON\n",
      "[youtube] 3gcWAZSNi2E: Downloading m3u8 information\n",
      "[info] 3gcWAZSNi2E: Downloading 1 format(s): 251\n",
      "[download] Destination: /Users/akanshagautam/Documents/MTech/Speech Understanding/Project/dataset/avspeech/train/3gcWAZSNi2E/3gcWAZSNi2E_audio.webm\n",
      "[download] 100% of    5.92MiB in 00:01:01 at 98.42KiB/s  \n",
      "[ExtractAudio] Destination: /Users/akanshagautam/Documents/MTech/Speech Understanding/Project/dataset/avspeech/train/3gcWAZSNi2E/3gcWAZSNi2E_audio.wav\n",
      "Deleting original file /Users/akanshagautam/Documents/MTech/Speech Understanding/Project/dataset/avspeech/train/3gcWAZSNi2E/3gcWAZSNi2E_audio.webm (pass -k to keep)\n"
     ]
    },
    {
     "name": "stderr",
     "output_type": "stream",
     "text": [
      "/Users/akanshagautam/Documents/MTech/ml_env/lib/python3.9/site-packages/whisper/transcribe.py:126: UserWarning: FP16 is not supported on CPU; using FP32 instead\n",
      "  warnings.warn(\"FP16 is not supported on CPU; using FP32 instead\")\n",
      "/Users/akanshagautam/Documents/MTech/ml_env/lib/python3.9/site-packages/urllib3/__init__.py:35: NotOpenSSLWarning: urllib3 v2 only supports OpenSSL 1.1.1+, currently the 'ssl' module is compiled with 'LibreSSL 2.8.3'. See: https://github.com/urllib3/urllib3/issues/3020\n",
      "  warnings.warn(\n"
     ]
    },
    {
     "name": "stdout",
     "output_type": "stream",
     "text": [
      "[youtube] Extracting URL: https://www.youtube.com/watch?v=3gcWAZSNi2E\n",
      "[youtube] 3gcWAZSNi2E: Downloading webpage\n",
      "[youtube] 3gcWAZSNi2E: Downloading tv client config\n",
      "[youtube] 3gcWAZSNi2E: Downloading player 64be519f\n",
      "[youtube] 3gcWAZSNi2E: Downloading tv player API JSON\n",
      "[youtube] 3gcWAZSNi2E: Downloading ios player API JSON\n",
      "[youtube] 3gcWAZSNi2E: Downloading m3u8 information\n",
      "[info] 3gcWAZSNi2E: Downloading 1 format(s): 137+140\n",
      "[info] There are no subtitles for the requested languages\n",
      "[SubtitlesConvertor] There aren't any subtitles to convert\n",
      "[download] Destination: /Users/akanshagautam/Documents/MTech/Speech Understanding/Project/dataset/avspeech/train/3gcWAZSNi2E/3gcWAZSNi2E.f137.mp4\n",
      "[download] 100% of  112.61MiB in 00:08:29 at 226.13KiB/s   \n",
      "[download] Destination: /Users/akanshagautam/Documents/MTech/Speech Understanding/Project/dataset/avspeech/train/3gcWAZSNi2E/3gcWAZSNi2E.f140.m4a\n",
      "[download] 100% of    6.21MiB in 00:00:40 at 156.53KiB/s   \n",
      "[Merger] Merging formats into \"/Users/akanshagautam/Documents/MTech/Speech Understanding/Project/dataset/avspeech/train/3gcWAZSNi2E/3gcWAZSNi2E.mp4\"\n",
      "Deleting original file /Users/akanshagautam/Documents/MTech/Speech Understanding/Project/dataset/avspeech/train/3gcWAZSNi2E/3gcWAZSNi2E.f140.m4a (pass -k to keep)\n",
      "Deleting original file /Users/akanshagautam/Documents/MTech/Speech Understanding/Project/dataset/avspeech/train/3gcWAZSNi2E/3gcWAZSNi2E.f137.mp4 (pass -k to keep)\n",
      "Missing file(s) for 3gcWAZSNi2E, cleaning up.\n"
     ]
    },
    {
     "name": "stderr",
     "output_type": "stream",
     "text": [
      "/Users/akanshagautam/Documents/MTech/ml_env/lib/python3.9/site-packages/urllib3/__init__.py:35: NotOpenSSLWarning: urllib3 v2 only supports OpenSSL 1.1.1+, currently the 'ssl' module is compiled with 'LibreSSL 2.8.3'. See: https://github.com/urllib3/urllib3/issues/3020\n",
      "  warnings.warn(\n"
     ]
    },
    {
     "name": "stdout",
     "output_type": "stream",
     "text": [
      "[youtube] Extracting URL: https://www.youtube.com/watch?v=Wl3HSpsiIb4\n",
      "[youtube] Wl3HSpsiIb4: Downloading webpage\n",
      "[youtube] Wl3HSpsiIb4: Downloading tv client config\n",
      "[youtube] Wl3HSpsiIb4: Downloading player 64be519f\n",
      "[youtube] Wl3HSpsiIb4: Downloading tv player API JSON\n",
      "[youtube] Wl3HSpsiIb4: Downloading ios player API JSON\n",
      "[youtube] Wl3HSpsiIb4: Downloading m3u8 information\n",
      "[info] Wl3HSpsiIb4: Downloading 1 format(s): 140\n",
      "[download] Destination: /Users/akanshagautam/Documents/MTech/Speech Understanding/Project/dataset/avspeech/train/Wl3HSpsiIb4/Wl3HSpsiIb4_audio.m4a\n",
      "[download] 100% of    7.93MiB in 00:01:02 at 129.48KiB/s \n",
      "[FixupM4a] Correcting container of \"/Users/akanshagautam/Documents/MTech/Speech Understanding/Project/dataset/avspeech/train/Wl3HSpsiIb4/Wl3HSpsiIb4_audio.m4a\"\n",
      "[ExtractAudio] Destination: /Users/akanshagautam/Documents/MTech/Speech Understanding/Project/dataset/avspeech/train/Wl3HSpsiIb4/Wl3HSpsiIb4_audio.wav\n",
      "Deleting original file /Users/akanshagautam/Documents/MTech/Speech Understanding/Project/dataset/avspeech/train/Wl3HSpsiIb4/Wl3HSpsiIb4_audio.m4a (pass -k to keep)\n"
     ]
    },
    {
     "name": "stderr",
     "output_type": "stream",
     "text": [
      "/Users/akanshagautam/Documents/MTech/ml_env/lib/python3.9/site-packages/whisper/transcribe.py:126: UserWarning: FP16 is not supported on CPU; using FP32 instead\n",
      "  warnings.warn(\"FP16 is not supported on CPU; using FP32 instead\")\n"
     ]
    },
    {
     "name": "stdout",
     "output_type": "stream",
     "text": [
      "Skipping non-English audio: Wl3HSpsiIb4\n"
     ]
    },
    {
     "name": "stderr",
     "output_type": "stream",
     "text": [
      "/Users/akanshagautam/Documents/MTech/ml_env/lib/python3.9/site-packages/urllib3/__init__.py:35: NotOpenSSLWarning: urllib3 v2 only supports OpenSSL 1.1.1+, currently the 'ssl' module is compiled with 'LibreSSL 2.8.3'. See: https://github.com/urllib3/urllib3/issues/3020\n",
      "  warnings.warn(\n"
     ]
    },
    {
     "name": "stdout",
     "output_type": "stream",
     "text": [
      "[youtube] Extracting URL: https://www.youtube.com/watch?v=yeqK6kqoIYk\n",
      "[youtube] yeqK6kqoIYk: Downloading webpage\n",
      "[youtube] yeqK6kqoIYk: Downloading tv client config\n",
      "[youtube] yeqK6kqoIYk: Downloading player 64be519f\n",
      "[youtube] yeqK6kqoIYk: Downloading tv player API JSON\n",
      "[youtube] yeqK6kqoIYk: Downloading ios player API JSON\n",
      "[youtube] yeqK6kqoIYk: Downloading m3u8 information\n",
      "[info] yeqK6kqoIYk: Downloading 1 format(s): 251\n",
      "[download] Destination: /Users/akanshagautam/Documents/MTech/Speech Understanding/Project/dataset/avspeech/train/yeqK6kqoIYk/yeqK6kqoIYk_audio.webm\n",
      "[download] 100% of    4.35MiB in 00:00:41 at 107.48KiB/s \n",
      "[ExtractAudio] Destination: /Users/akanshagautam/Documents/MTech/Speech Understanding/Project/dataset/avspeech/train/yeqK6kqoIYk/yeqK6kqoIYk_audio.wav\n",
      "Deleting original file /Users/akanshagautam/Documents/MTech/Speech Understanding/Project/dataset/avspeech/train/yeqK6kqoIYk/yeqK6kqoIYk_audio.webm (pass -k to keep)\n"
     ]
    },
    {
     "name": "stderr",
     "output_type": "stream",
     "text": [
      "/Users/akanshagautam/Documents/MTech/ml_env/lib/python3.9/site-packages/whisper/transcribe.py:126: UserWarning: FP16 is not supported on CPU; using FP32 instead\n",
      "  warnings.warn(\"FP16 is not supported on CPU; using FP32 instead\")\n"
     ]
    },
    {
     "name": "stdout",
     "output_type": "stream",
     "text": [
      "Skipping non-English audio: yeqK6kqoIYk\n"
     ]
    },
    {
     "name": "stderr",
     "output_type": "stream",
     "text": [
      "/Users/akanshagautam/Documents/MTech/ml_env/lib/python3.9/site-packages/urllib3/__init__.py:35: NotOpenSSLWarning: urllib3 v2 only supports OpenSSL 1.1.1+, currently the 'ssl' module is compiled with 'LibreSSL 2.8.3'. See: https://github.com/urllib3/urllib3/issues/3020\n",
      "  warnings.warn(\n"
     ]
    },
    {
     "name": "stdout",
     "output_type": "stream",
     "text": [
      "[youtube] Extracting URL: https://www.youtube.com/watch?v=YWgXhe7JYp4\n",
      "[youtube] YWgXhe7JYp4: Downloading webpage\n",
      "[youtube] YWgXhe7JYp4: Downloading tv client config\n",
      "[youtube] YWgXhe7JYp4: Downloading player 64be519f\n",
      "[youtube] YWgXhe7JYp4: Downloading tv player API JSON\n",
      "[youtube] YWgXhe7JYp4: Downloading ios player API JSON\n",
      "Error downloading YWgXhe7JYp4: Command 'yt-dlp --extract-audio --audio-format wav --output \"/Users/akanshagautam/Documents/MTech/Speech Understanding/Project/dataset/avspeech/train/YWgXhe7JYp4/YWgXhe7JYp4_audio.%(ext)s\" https://www.youtube.com/watch?v=YWgXhe7JYp4' returned non-zero exit status 1.\n"
     ]
    },
    {
     "name": "stderr",
     "output_type": "stream",
     "text": [
      "ERROR: [youtube] YWgXhe7JYp4: Video unavailable\n",
      "/Users/akanshagautam/Documents/MTech/ml_env/lib/python3.9/site-packages/urllib3/__init__.py:35: NotOpenSSLWarning: urllib3 v2 only supports OpenSSL 1.1.1+, currently the 'ssl' module is compiled with 'LibreSSL 2.8.3'. See: https://github.com/urllib3/urllib3/issues/3020\n",
      "  warnings.warn(\n"
     ]
    },
    {
     "name": "stdout",
     "output_type": "stream",
     "text": [
      "[youtube] Extracting URL: https://www.youtube.com/watch?v=ReXQGb2k3fo\n",
      "[youtube] ReXQGb2k3fo: Downloading webpage\n",
      "[youtube] ReXQGb2k3fo: Downloading tv client config\n",
      "[youtube] ReXQGb2k3fo: Downloading player 64be519f\n",
      "[youtube] ReXQGb2k3fo: Downloading tv player API JSON\n",
      "[youtube] ReXQGb2k3fo: Downloading ios player API JSON\n"
     ]
    },
    {
     "name": "stderr",
     "output_type": "stream",
     "text": [
      "ERROR: [youtube] ReXQGb2k3fo: Private video. Sign in if you've been granted access to this video. Use --cookies-from-browser or --cookies for the authentication. See  https://github.com/yt-dlp/yt-dlp/wiki/FAQ#how-do-i-pass-cookies-to-yt-dlp  for how to manually pass cookies. Also see  https://github.com/yt-dlp/yt-dlp/wiki/Extractors#exporting-youtube-cookies  for tips on effectively exporting YouTube cookies\n",
      "/Users/akanshagautam/Documents/MTech/ml_env/lib/python3.9/site-packages/urllib3/__init__.py:35: NotOpenSSLWarning: urllib3 v2 only supports OpenSSL 1.1.1+, currently the 'ssl' module is compiled with 'LibreSSL 2.8.3'. See: https://github.com/urllib3/urllib3/issues/3020\n",
      "  warnings.warn(\n"
     ]
    },
    {
     "name": "stdout",
     "output_type": "stream",
     "text": [
      "Error downloading ReXQGb2k3fo: Command 'yt-dlp --extract-audio --audio-format wav --output \"/Users/akanshagautam/Documents/MTech/Speech Understanding/Project/dataset/avspeech/train/ReXQGb2k3fo/ReXQGb2k3fo_audio.%(ext)s\" https://www.youtube.com/watch?v=ReXQGb2k3fo' returned non-zero exit status 1.\n",
      "[youtube] Extracting URL: https://www.youtube.com/watch?v=2RvWHWhyx1w\n",
      "[youtube] 2RvWHWhyx1w: Downloading webpage\n",
      "[youtube] 2RvWHWhyx1w: Downloading tv client config\n",
      "[youtube] 2RvWHWhyx1w: Downloading player 64be519f\n",
      "[youtube] 2RvWHWhyx1w: Downloading tv player API JSON\n",
      "[youtube] 2RvWHWhyx1w: Downloading ios player API JSON\n",
      "[youtube] 2RvWHWhyx1w: Downloading m3u8 information\n",
      "[info] 2RvWHWhyx1w: Downloading 1 format(s): 251\n",
      "[download] Destination: /Users/akanshagautam/Documents/MTech/Speech Understanding/Project/dataset/avspeech/train/2RvWHWhyx1w/2RvWHWhyx1w_audio.webm\n",
      "[download] 100% of   11.08MiB in 00:01:48 at 105.05KiB/s   \n",
      "[ExtractAudio] Destination: /Users/akanshagautam/Documents/MTech/Speech Understanding/Project/dataset/avspeech/train/2RvWHWhyx1w/2RvWHWhyx1w_audio.wav\n",
      "Deleting original file /Users/akanshagautam/Documents/MTech/Speech Understanding/Project/dataset/avspeech/train/2RvWHWhyx1w/2RvWHWhyx1w_audio.webm (pass -k to keep)\n"
     ]
    },
    {
     "name": "stderr",
     "output_type": "stream",
     "text": [
      "/Users/akanshagautam/Documents/MTech/ml_env/lib/python3.9/site-packages/whisper/transcribe.py:126: UserWarning: FP16 is not supported on CPU; using FP32 instead\n",
      "  warnings.warn(\"FP16 is not supported on CPU; using FP32 instead\")\n"
     ]
    },
    {
     "name": "stdout",
     "output_type": "stream",
     "text": [
      "Skipping non-English audio: 2RvWHWhyx1w\n"
     ]
    },
    {
     "name": "stderr",
     "output_type": "stream",
     "text": [
      "/Users/akanshagautam/Documents/MTech/ml_env/lib/python3.9/site-packages/urllib3/__init__.py:35: NotOpenSSLWarning: urllib3 v2 only supports OpenSSL 1.1.1+, currently the 'ssl' module is compiled with 'LibreSSL 2.8.3'. See: https://github.com/urllib3/urllib3/issues/3020\n",
      "  warnings.warn(\n"
     ]
    },
    {
     "name": "stdout",
     "output_type": "stream",
     "text": [
      "[youtube] Extracting URL: https://www.youtube.com/watch?v=AOoqrXx5BNU\n",
      "[youtube] AOoqrXx5BNU: Downloading webpage\n",
      "[youtube] AOoqrXx5BNU: Downloading tv client config\n",
      "[youtube] AOoqrXx5BNU: Downloading player 64be519f\n",
      "[youtube] AOoqrXx5BNU: Downloading tv player API JSON\n",
      "[youtube] AOoqrXx5BNU: Downloading ios player API JSON\n",
      "Error downloading AOoqrXx5BNU: Command 'yt-dlp --extract-audio --audio-format wav --output \"/Users/akanshagautam/Documents/MTech/Speech Understanding/Project/dataset/avspeech/train/AOoqrXx5BNU/AOoqrXx5BNU_audio.%(ext)s\" https://www.youtube.com/watch?v=AOoqrXx5BNU' returned non-zero exit status 1.\n"
     ]
    },
    {
     "name": "stderr",
     "output_type": "stream",
     "text": [
      "ERROR: [youtube] AOoqrXx5BNU: Private video. Sign in if you've been granted access to this video. Use --cookies-from-browser or --cookies for the authentication. See  https://github.com/yt-dlp/yt-dlp/wiki/FAQ#how-do-i-pass-cookies-to-yt-dlp  for how to manually pass cookies. Also see  https://github.com/yt-dlp/yt-dlp/wiki/Extractors#exporting-youtube-cookies  for tips on effectively exporting YouTube cookies\n",
      "/Users/akanshagautam/Documents/MTech/ml_env/lib/python3.9/site-packages/urllib3/__init__.py:35: NotOpenSSLWarning: urllib3 v2 only supports OpenSSL 1.1.1+, currently the 'ssl' module is compiled with 'LibreSSL 2.8.3'. See: https://github.com/urllib3/urllib3/issues/3020\n",
      "  warnings.warn(\n"
     ]
    },
    {
     "name": "stdout",
     "output_type": "stream",
     "text": [
      "[youtube] Extracting URL: https://www.youtube.com/watch?v=_8K1hWkirLo\n",
      "[youtube] _8K1hWkirLo: Downloading webpage\n",
      "[youtube] _8K1hWkirLo: Downloading tv client config\n",
      "[youtube] _8K1hWkirLo: Downloading player 64be519f\n",
      "[youtube] _8K1hWkirLo: Downloading tv player API JSON\n",
      "[youtube] _8K1hWkirLo: Downloading ios player API JSON\n",
      "[youtube] _8K1hWkirLo: Downloading m3u8 information\n",
      "[info] _8K1hWkirLo: Downloading 1 format(s): 251\n",
      "[download] Destination: /Users/akanshagautam/Documents/MTech/Speech Understanding/Project/dataset/avspeech/train/_8K1hWkirLo/_8K1hWkirLo_audio.webm\n",
      "[download] 100% of    4.80MiB in 00:00:40 at 121.24KiB/s   \n",
      "[ExtractAudio] Destination: /Users/akanshagautam/Documents/MTech/Speech Understanding/Project/dataset/avspeech/train/_8K1hWkirLo/_8K1hWkirLo_audio.wav\n",
      "Deleting original file /Users/akanshagautam/Documents/MTech/Speech Understanding/Project/dataset/avspeech/train/_8K1hWkirLo/_8K1hWkirLo_audio.webm (pass -k to keep)\n"
     ]
    },
    {
     "name": "stderr",
     "output_type": "stream",
     "text": [
      "/Users/akanshagautam/Documents/MTech/ml_env/lib/python3.9/site-packages/whisper/transcribe.py:126: UserWarning: FP16 is not supported on CPU; using FP32 instead\n",
      "  warnings.warn(\"FP16 is not supported on CPU; using FP32 instead\")\n"
     ]
    },
    {
     "name": "stdout",
     "output_type": "stream",
     "text": [
      "Skipping non-English audio: _8K1hWkirLo\n"
     ]
    },
    {
     "name": "stderr",
     "output_type": "stream",
     "text": [
      "/Users/akanshagautam/Documents/MTech/ml_env/lib/python3.9/site-packages/urllib3/__init__.py:35: NotOpenSSLWarning: urllib3 v2 only supports OpenSSL 1.1.1+, currently the 'ssl' module is compiled with 'LibreSSL 2.8.3'. See: https://github.com/urllib3/urllib3/issues/3020\n",
      "  warnings.warn(\n"
     ]
    },
    {
     "name": "stdout",
     "output_type": "stream",
     "text": [
      "[youtube] Extracting URL: https://www.youtube.com/watch?v=cPUBnjqIaXI\n",
      "[youtube] cPUBnjqIaXI: Downloading webpage\n",
      "[youtube] cPUBnjqIaXI: Downloading tv client config\n",
      "[youtube] cPUBnjqIaXI: Downloading player 64be519f\n",
      "[youtube] cPUBnjqIaXI: Downloading tv player API JSON\n",
      "[youtube] cPUBnjqIaXI: Downloading ios player API JSON\n",
      "[youtube] cPUBnjqIaXI: Downloading m3u8 information\n",
      "[info] cPUBnjqIaXI: Downloading 1 format(s): 251\n",
      "[download] Destination: /Users/akanshagautam/Documents/MTech/Speech Understanding/Project/dataset/avspeech/train/cPUBnjqIaXI/cPUBnjqIaXI_audio.webm\n",
      "[download] 100% of    4.27MiB in 00:00:21 at 201.96KiB/s   \n",
      "[ExtractAudio] Destination: /Users/akanshagautam/Documents/MTech/Speech Understanding/Project/dataset/avspeech/train/cPUBnjqIaXI/cPUBnjqIaXI_audio.wav\n",
      "Deleting original file /Users/akanshagautam/Documents/MTech/Speech Understanding/Project/dataset/avspeech/train/cPUBnjqIaXI/cPUBnjqIaXI_audio.webm (pass -k to keep)\n"
     ]
    },
    {
     "name": "stderr",
     "output_type": "stream",
     "text": [
      "/Users/akanshagautam/Documents/MTech/ml_env/lib/python3.9/site-packages/whisper/transcribe.py:126: UserWarning: FP16 is not supported on CPU; using FP32 instead\n",
      "  warnings.warn(\"FP16 is not supported on CPU; using FP32 instead\")\n"
     ]
    },
    {
     "name": "stdout",
     "output_type": "stream",
     "text": [
      "Skipping non-English audio: cPUBnjqIaXI\n"
     ]
    },
    {
     "name": "stderr",
     "output_type": "stream",
     "text": [
      "/Users/akanshagautam/Documents/MTech/ml_env/lib/python3.9/site-packages/urllib3/__init__.py:35: NotOpenSSLWarning: urllib3 v2 only supports OpenSSL 1.1.1+, currently the 'ssl' module is compiled with 'LibreSSL 2.8.3'. See: https://github.com/urllib3/urllib3/issues/3020\n",
      "  warnings.warn(\n"
     ]
    },
    {
     "name": "stdout",
     "output_type": "stream",
     "text": [
      "[youtube] Extracting URL: https://www.youtube.com/watch?v=342Pxxa7n8Q\n",
      "[youtube] 342Pxxa7n8Q: Downloading webpage\n",
      "[youtube] 342Pxxa7n8Q: Downloading tv client config\n",
      "[youtube] 342Pxxa7n8Q: Downloading player 64be519f\n",
      "[youtube] 342Pxxa7n8Q: Downloading tv player API JSON\n",
      "[youtube] 342Pxxa7n8Q: Downloading ios player API JSON\n",
      "[youtube] 342Pxxa7n8Q: Downloading MPD manifest\n",
      "[youtube] 342Pxxa7n8Q: Downloading m3u8 information\n",
      "[youtube] 342Pxxa7n8Q: Downloading MPD manifest\n",
      "[info] 342Pxxa7n8Q: Downloading 1 format(s): 140\n",
      "[download] Destination: /Users/akanshagautam/Documents/MTech/Speech Understanding/Project/dataset/avspeech/train/342Pxxa7n8Q/342Pxxa7n8Q_audio.m4a\n",
      "[download] 100% of    5.35MiB in 00:01:00 at 89.94KiB/s  \n",
      "[FixupM4a] Correcting container of \"/Users/akanshagautam/Documents/MTech/Speech Understanding/Project/dataset/avspeech/train/342Pxxa7n8Q/342Pxxa7n8Q_audio.m4a\"\n",
      "[ExtractAudio] Destination: /Users/akanshagautam/Documents/MTech/Speech Understanding/Project/dataset/avspeech/train/342Pxxa7n8Q/342Pxxa7n8Q_audio.wav\n",
      "Deleting original file /Users/akanshagautam/Documents/MTech/Speech Understanding/Project/dataset/avspeech/train/342Pxxa7n8Q/342Pxxa7n8Q_audio.m4a (pass -k to keep)\n"
     ]
    },
    {
     "name": "stderr",
     "output_type": "stream",
     "text": [
      "/Users/akanshagautam/Documents/MTech/ml_env/lib/python3.9/site-packages/whisper/transcribe.py:126: UserWarning: FP16 is not supported on CPU; using FP32 instead\n",
      "  warnings.warn(\"FP16 is not supported on CPU; using FP32 instead\")\n"
     ]
    },
    {
     "name": "stdout",
     "output_type": "stream",
     "text": [
      "Skipping non-English audio: 342Pxxa7n8Q\n"
     ]
    },
    {
     "name": "stderr",
     "output_type": "stream",
     "text": [
      "/Users/akanshagautam/Documents/MTech/ml_env/lib/python3.9/site-packages/urllib3/__init__.py:35: NotOpenSSLWarning: urllib3 v2 only supports OpenSSL 1.1.1+, currently the 'ssl' module is compiled with 'LibreSSL 2.8.3'. See: https://github.com/urllib3/urllib3/issues/3020\n",
      "  warnings.warn(\n"
     ]
    },
    {
     "name": "stdout",
     "output_type": "stream",
     "text": [
      "[youtube] Extracting URL: https://www.youtube.com/watch?v=umcJyBaatBs\n",
      "[youtube] umcJyBaatBs: Downloading webpage\n",
      "[youtube] umcJyBaatBs: Downloading tv client config\n",
      "[youtube] umcJyBaatBs: Downloading player 64be519f\n",
      "[youtube] umcJyBaatBs: Downloading tv player API JSON\n",
      "[youtube] umcJyBaatBs: Downloading ios player API JSON\n",
      "[youtube] umcJyBaatBs: Downloading m3u8 information\n",
      "[info] umcJyBaatBs: Downloading 1 format(s): 251\n",
      "[download] Destination: /Users/akanshagautam/Documents/MTech/Speech Understanding/Project/dataset/avspeech/train/umcJyBaatBs/umcJyBaatBs_audio.webm\n",
      "[download] 100% of    5.53MiB in 00:01:00 at 93.05KiB/s  \n",
      "[ExtractAudio] Destination: /Users/akanshagautam/Documents/MTech/Speech Understanding/Project/dataset/avspeech/train/umcJyBaatBs/umcJyBaatBs_audio.wav\n",
      "Deleting original file /Users/akanshagautam/Documents/MTech/Speech Understanding/Project/dataset/avspeech/train/umcJyBaatBs/umcJyBaatBs_audio.webm (pass -k to keep)\n"
     ]
    },
    {
     "name": "stderr",
     "output_type": "stream",
     "text": [
      "/Users/akanshagautam/Documents/MTech/ml_env/lib/python3.9/site-packages/whisper/transcribe.py:126: UserWarning: FP16 is not supported on CPU; using FP32 instead\n",
      "  warnings.warn(\"FP16 is not supported on CPU; using FP32 instead\")\n",
      "/Users/akanshagautam/Documents/MTech/ml_env/lib/python3.9/site-packages/urllib3/__init__.py:35: NotOpenSSLWarning: urllib3 v2 only supports OpenSSL 1.1.1+, currently the 'ssl' module is compiled with 'LibreSSL 2.8.3'. See: https://github.com/urllib3/urllib3/issues/3020\n",
      "  warnings.warn(\n"
     ]
    },
    {
     "name": "stdout",
     "output_type": "stream",
     "text": [
      "[youtube] Extracting URL: https://www.youtube.com/watch?v=umcJyBaatBs\n",
      "[youtube] umcJyBaatBs: Downloading webpage\n",
      "[youtube] umcJyBaatBs: Downloading tv client config\n",
      "[youtube] umcJyBaatBs: Downloading player 64be519f\n",
      "[youtube] umcJyBaatBs: Downloading tv player API JSON\n",
      "[youtube] umcJyBaatBs: Downloading ios player API JSON\n",
      "[youtube] umcJyBaatBs: Downloading m3u8 information\n",
      "[info] umcJyBaatBs: Downloading subtitles: en\n",
      "[info] umcJyBaatBs: Downloading 1 format(s): 136+140\n",
      "[info] Writing video subtitles to: /Users/akanshagautam/Documents/MTech/Speech Understanding/Project/dataset/avspeech/train/umcJyBaatBs/umcJyBaatBs.en.vtt\n",
      "[download] Destination: /Users/akanshagautam/Documents/MTech/Speech Understanding/Project/dataset/avspeech/train/umcJyBaatBs/umcJyBaatBs.en.vtt\n",
      "[download] 100% of   62.49KiB in 00:00:00 at 477.35KiB/s\n",
      "[SubtitlesConvertor] Converting subtitles\n",
      "Deleting original file /Users/akanshagautam/Documents/MTech/Speech Understanding/Project/dataset/avspeech/train/umcJyBaatBs/umcJyBaatBs.en.vtt (pass -k to keep)\n",
      "[download] Destination: /Users/akanshagautam/Documents/MTech/Speech Understanding/Project/dataset/avspeech/train/umcJyBaatBs/umcJyBaatBs.f136.mp4\n",
      "[download] 100% of   75.32MiB in 00:05:45 at 223.54KiB/s   \n",
      "[download] Destination: /Users/akanshagautam/Documents/MTech/Speech Understanding/Project/dataset/avspeech/train/umcJyBaatBs/umcJyBaatBs.f140.m4a\n",
      "[download] 100% of    6.54MiB in 00:00:42 at 158.66KiB/s   \n",
      "[Merger] Merging formats into \"/Users/akanshagautam/Documents/MTech/Speech Understanding/Project/dataset/avspeech/train/umcJyBaatBs/umcJyBaatBs.mp4\"\n",
      "Deleting original file /Users/akanshagautam/Documents/MTech/Speech Understanding/Project/dataset/avspeech/train/umcJyBaatBs/umcJyBaatBs.f136.mp4 (pass -k to keep)\n",
      "Deleting original file /Users/akanshagautam/Documents/MTech/Speech Understanding/Project/dataset/avspeech/train/umcJyBaatBs/umcJyBaatBs.f140.m4a (pass -k to keep)\n",
      "✅ Downloaded: umcJyBaatBs\n"
     ]
    },
    {
     "name": "stderr",
     "output_type": "stream",
     "text": [
      "/Users/akanshagautam/Documents/MTech/ml_env/lib/python3.9/site-packages/urllib3/__init__.py:35: NotOpenSSLWarning: urllib3 v2 only supports OpenSSL 1.1.1+, currently the 'ssl' module is compiled with 'LibreSSL 2.8.3'. See: https://github.com/urllib3/urllib3/issues/3020\n",
      "  warnings.warn(\n"
     ]
    },
    {
     "name": "stdout",
     "output_type": "stream",
     "text": [
      "[youtube] Extracting URL: https://www.youtube.com/watch?v=QYnLgIsR3bc\n",
      "[youtube] QYnLgIsR3bc: Downloading webpage\n",
      "[youtube] QYnLgIsR3bc: Downloading tv client config\n",
      "[youtube] QYnLgIsR3bc: Downloading player 64be519f\n",
      "[youtube] QYnLgIsR3bc: Downloading tv player API JSON\n",
      "[youtube] QYnLgIsR3bc: Downloading ios player API JSON\n",
      "Error downloading QYnLgIsR3bc: Command 'yt-dlp --extract-audio --audio-format wav --output \"/Users/akanshagautam/Documents/MTech/Speech Understanding/Project/dataset/avspeech/train/QYnLgIsR3bc/QYnLgIsR3bc_audio.%(ext)s\" https://www.youtube.com/watch?v=QYnLgIsR3bc' returned non-zero exit status 1.\n"
     ]
    },
    {
     "name": "stderr",
     "output_type": "stream",
     "text": [
      "ERROR: [youtube] QYnLgIsR3bc: Video unavailable\n",
      "/Users/akanshagautam/Documents/MTech/ml_env/lib/python3.9/site-packages/urllib3/__init__.py:35: NotOpenSSLWarning: urllib3 v2 only supports OpenSSL 1.1.1+, currently the 'ssl' module is compiled with 'LibreSSL 2.8.3'. See: https://github.com/urllib3/urllib3/issues/3020\n",
      "  warnings.warn(\n"
     ]
    },
    {
     "name": "stdout",
     "output_type": "stream",
     "text": [
      "[youtube] Extracting URL: https://www.youtube.com/watch?v=ohd_xOV6zW4\n",
      "[youtube] ohd_xOV6zW4: Downloading webpage\n",
      "[youtube] ohd_xOV6zW4: Downloading tv client config\n",
      "[youtube] ohd_xOV6zW4: Downloading player 64be519f\n",
      "[youtube] ohd_xOV6zW4: Downloading tv player API JSON\n",
      "[youtube] ohd_xOV6zW4: Downloading ios player API JSON\n",
      "[youtube] ohd_xOV6zW4: Downloading MPD manifest\n",
      "[youtube] ohd_xOV6zW4: Downloading m3u8 information\n",
      "[youtube] ohd_xOV6zW4: Downloading MPD manifest\n",
      "[info] ohd_xOV6zW4: Downloading 1 format(s): 251\n",
      "[download] Destination: /Users/akanshagautam/Documents/MTech/Speech Understanding/Project/dataset/avspeech/train/ohd_xOV6zW4/ohd_xOV6zW4_audio.webm\n",
      "[download] 100% of   14.61MiB in 00:01:46 at 140.78KiB/s   \n",
      "[ExtractAudio] Destination: /Users/akanshagautam/Documents/MTech/Speech Understanding/Project/dataset/avspeech/train/ohd_xOV6zW4/ohd_xOV6zW4_audio.wav\n",
      "Deleting original file /Users/akanshagautam/Documents/MTech/Speech Understanding/Project/dataset/avspeech/train/ohd_xOV6zW4/ohd_xOV6zW4_audio.webm (pass -k to keep)\n"
     ]
    },
    {
     "name": "stderr",
     "output_type": "stream",
     "text": [
      "/Users/akanshagautam/Documents/MTech/ml_env/lib/python3.9/site-packages/whisper/transcribe.py:126: UserWarning: FP16 is not supported on CPU; using FP32 instead\n",
      "  warnings.warn(\"FP16 is not supported on CPU; using FP32 instead\")\n"
     ]
    },
    {
     "name": "stdout",
     "output_type": "stream",
     "text": [
      "Skipping non-English audio: ohd_xOV6zW4\n"
     ]
    },
    {
     "name": "stderr",
     "output_type": "stream",
     "text": [
      "/Users/akanshagautam/Documents/MTech/ml_env/lib/python3.9/site-packages/urllib3/__init__.py:35: NotOpenSSLWarning: urllib3 v2 only supports OpenSSL 1.1.1+, currently the 'ssl' module is compiled with 'LibreSSL 2.8.3'. See: https://github.com/urllib3/urllib3/issues/3020\n",
      "  warnings.warn(\n"
     ]
    },
    {
     "name": "stdout",
     "output_type": "stream",
     "text": [
      "[youtube] Extracting URL: https://www.youtube.com/watch?v=DxpQmBfA6vM\n",
      "[youtube] DxpQmBfA6vM: Downloading webpage\n",
      "[youtube] DxpQmBfA6vM: Downloading tv client config\n",
      "[youtube] DxpQmBfA6vM: Downloading player 64be519f\n",
      "[youtube] DxpQmBfA6vM: Downloading tv player API JSON\n",
      "[youtube] DxpQmBfA6vM: Downloading ios player API JSON\n",
      "[youtube] DxpQmBfA6vM: Downloading m3u8 information\n",
      "[info] DxpQmBfA6vM: Downloading 1 format(s): 251\n",
      "[download] Destination: /Users/akanshagautam/Documents/MTech/Speech Understanding/Project/dataset/avspeech/train/DxpQmBfA6vM/DxpQmBfA6vM_audio.webm\n",
      "[download] 100% of    6.69MiB in 00:01:00 at 112.66KiB/s \n",
      "[ExtractAudio] Destination: /Users/akanshagautam/Documents/MTech/Speech Understanding/Project/dataset/avspeech/train/DxpQmBfA6vM/DxpQmBfA6vM_audio.wav\n",
      "Deleting original file /Users/akanshagautam/Documents/MTech/Speech Understanding/Project/dataset/avspeech/train/DxpQmBfA6vM/DxpQmBfA6vM_audio.webm (pass -k to keep)\n"
     ]
    },
    {
     "name": "stderr",
     "output_type": "stream",
     "text": [
      "/Users/akanshagautam/Documents/MTech/ml_env/lib/python3.9/site-packages/whisper/transcribe.py:126: UserWarning: FP16 is not supported on CPU; using FP32 instead\n",
      "  warnings.warn(\"FP16 is not supported on CPU; using FP32 instead\")\n"
     ]
    },
    {
     "name": "stdout",
     "output_type": "stream",
     "text": [
      "Skipping non-English audio: DxpQmBfA6vM\n"
     ]
    },
    {
     "name": "stderr",
     "output_type": "stream",
     "text": [
      "/Users/akanshagautam/Documents/MTech/ml_env/lib/python3.9/site-packages/urllib3/__init__.py:35: NotOpenSSLWarning: urllib3 v2 only supports OpenSSL 1.1.1+, currently the 'ssl' module is compiled with 'LibreSSL 2.8.3'. See: https://github.com/urllib3/urllib3/issues/3020\n",
      "  warnings.warn(\n"
     ]
    },
    {
     "name": "stdout",
     "output_type": "stream",
     "text": [
      "[youtube] Extracting URL: https://www.youtube.com/watch?v=xwxbJkXRJHw\n",
      "[youtube] xwxbJkXRJHw: Downloading webpage\n",
      "[youtube] xwxbJkXRJHw: Downloading tv client config\n",
      "[youtube] xwxbJkXRJHw: Downloading player 64be519f\n",
      "[youtube] xwxbJkXRJHw: Downloading tv player API JSON\n",
      "[youtube] xwxbJkXRJHw: Downloading ios player API JSON\n",
      "[youtube] xwxbJkXRJHw: Downloading m3u8 information\n",
      "[info] xwxbJkXRJHw: Downloading 1 format(s): 140\n",
      "[download] Destination: /Users/akanshagautam/Documents/MTech/Speech Understanding/Project/dataset/avspeech/train/xwxbJkXRJHw/xwxbJkXRJHw_audio.m4a\n",
      "[download] 100% of   23.51MiB in 00:02:22 at 168.44KiB/s   \n",
      "[FixupM4a] Correcting container of \"/Users/akanshagautam/Documents/MTech/Speech Understanding/Project/dataset/avspeech/train/xwxbJkXRJHw/xwxbJkXRJHw_audio.m4a\"\n",
      "[ExtractAudio] Destination: /Users/akanshagautam/Documents/MTech/Speech Understanding/Project/dataset/avspeech/train/xwxbJkXRJHw/xwxbJkXRJHw_audio.wav\n",
      "Deleting original file /Users/akanshagautam/Documents/MTech/Speech Understanding/Project/dataset/avspeech/train/xwxbJkXRJHw/xwxbJkXRJHw_audio.m4a (pass -k to keep)\n"
     ]
    },
    {
     "name": "stderr",
     "output_type": "stream",
     "text": [
      "/Users/akanshagautam/Documents/MTech/ml_env/lib/python3.9/site-packages/whisper/transcribe.py:126: UserWarning: FP16 is not supported on CPU; using FP32 instead\n",
      "  warnings.warn(\"FP16 is not supported on CPU; using FP32 instead\")\n"
     ]
    },
    {
     "name": "stdout",
     "output_type": "stream",
     "text": [
      "Skipping non-English audio: xwxbJkXRJHw\n"
     ]
    },
    {
     "name": "stderr",
     "output_type": "stream",
     "text": [
      "/Users/akanshagautam/Documents/MTech/ml_env/lib/python3.9/site-packages/urllib3/__init__.py:35: NotOpenSSLWarning: urllib3 v2 only supports OpenSSL 1.1.1+, currently the 'ssl' module is compiled with 'LibreSSL 2.8.3'. See: https://github.com/urllib3/urllib3/issues/3020\n",
      "  warnings.warn(\n"
     ]
    },
    {
     "name": "stdout",
     "output_type": "stream",
     "text": [
      "[youtube] Extracting URL: https://www.youtube.com/watch?v=Gqt1A6O6UTk\n",
      "[youtube] Gqt1A6O6UTk: Downloading webpage\n",
      "[youtube] Gqt1A6O6UTk: Downloading tv client config\n",
      "[youtube] Gqt1A6O6UTk: Downloading player 64be519f\n",
      "[youtube] Gqt1A6O6UTk: Downloading tv player API JSON\n",
      "[youtube] Gqt1A6O6UTk: Downloading ios player API JSON\n",
      "Error downloading Gqt1A6O6UTk: Command 'yt-dlp --extract-audio --audio-format wav --output \"/Users/akanshagautam/Documents/MTech/Speech Understanding/Project/dataset/avspeech/train/Gqt1A6O6UTk/Gqt1A6O6UTk_audio.%(ext)s\" https://www.youtube.com/watch?v=Gqt1A6O6UTk' returned non-zero exit status 1.\n"
     ]
    },
    {
     "name": "stderr",
     "output_type": "stream",
     "text": [
      "ERROR: [youtube] Gqt1A6O6UTk: Private video. Sign in if you've been granted access to this video. Use --cookies-from-browser or --cookies for the authentication. See  https://github.com/yt-dlp/yt-dlp/wiki/FAQ#how-do-i-pass-cookies-to-yt-dlp  for how to manually pass cookies. Also see  https://github.com/yt-dlp/yt-dlp/wiki/Extractors#exporting-youtube-cookies  for tips on effectively exporting YouTube cookies\n",
      "/Users/akanshagautam/Documents/MTech/ml_env/lib/python3.9/site-packages/urllib3/__init__.py:35: NotOpenSSLWarning: urllib3 v2 only supports OpenSSL 1.1.1+, currently the 'ssl' module is compiled with 'LibreSSL 2.8.3'. See: https://github.com/urllib3/urllib3/issues/3020\n",
      "  warnings.warn(\n"
     ]
    },
    {
     "name": "stdout",
     "output_type": "stream",
     "text": [
      "[youtube] Extracting URL: https://www.youtube.com/watch?v=YOySUCOJUtQ\n",
      "[youtube] YOySUCOJUtQ: Downloading webpage\n",
      "[youtube] YOySUCOJUtQ: Downloading tv client config\n",
      "[youtube] YOySUCOJUtQ: Downloading player 64be519f\n",
      "[youtube] YOySUCOJUtQ: Downloading tv player API JSON\n",
      "[youtube] YOySUCOJUtQ: Downloading ios player API JSON\n",
      "[youtube] YOySUCOJUtQ: Downloading m3u8 information\n",
      "[info] YOySUCOJUtQ: Downloading 1 format(s): 140\n",
      "[download] Destination: /Users/akanshagautam/Documents/MTech/Speech Understanding/Project/dataset/avspeech/train/YOySUCOJUtQ/YOySUCOJUtQ_audio.m4a\n",
      "[download] 100% of   17.61MiB in 00:01:02 at 288.95KiB/s   \n",
      "[FixupM4a] Correcting container of \"/Users/akanshagautam/Documents/MTech/Speech Understanding/Project/dataset/avspeech/train/YOySUCOJUtQ/YOySUCOJUtQ_audio.m4a\"\n",
      "[ExtractAudio] Destination: /Users/akanshagautam/Documents/MTech/Speech Understanding/Project/dataset/avspeech/train/YOySUCOJUtQ/YOySUCOJUtQ_audio.wav\n",
      "Deleting original file /Users/akanshagautam/Documents/MTech/Speech Understanding/Project/dataset/avspeech/train/YOySUCOJUtQ/YOySUCOJUtQ_audio.m4a (pass -k to keep)\n"
     ]
    },
    {
     "name": "stderr",
     "output_type": "stream",
     "text": [
      "/Users/akanshagautam/Documents/MTech/ml_env/lib/python3.9/site-packages/whisper/transcribe.py:126: UserWarning: FP16 is not supported on CPU; using FP32 instead\n",
      "  warnings.warn(\"FP16 is not supported on CPU; using FP32 instead\")\n",
      "/Users/akanshagautam/Documents/MTech/ml_env/lib/python3.9/site-packages/urllib3/__init__.py:35: NotOpenSSLWarning: urllib3 v2 only supports OpenSSL 1.1.1+, currently the 'ssl' module is compiled with 'LibreSSL 2.8.3'. See: https://github.com/urllib3/urllib3/issues/3020\n",
      "  warnings.warn(\n"
     ]
    },
    {
     "name": "stdout",
     "output_type": "stream",
     "text": [
      "[youtube] Extracting URL: https://www.youtube.com/watch?v=YOySUCOJUtQ\n",
      "[youtube] YOySUCOJUtQ: Downloading webpage\n",
      "[youtube] YOySUCOJUtQ: Downloading tv client config\n",
      "[youtube] YOySUCOJUtQ: Downloading player 64be519f\n",
      "[youtube] YOySUCOJUtQ: Downloading tv player API JSON\n",
      "[youtube] YOySUCOJUtQ: Downloading ios player API JSON\n",
      "[youtube] YOySUCOJUtQ: Downloading m3u8 information\n",
      "[info] YOySUCOJUtQ: Downloading subtitles: en\n",
      "[info] YOySUCOJUtQ: Downloading 1 format(s): 136+140\n",
      "[info] Writing video subtitles to: /Users/akanshagautam/Documents/MTech/Speech Understanding/Project/dataset/avspeech/train/YOySUCOJUtQ/YOySUCOJUtQ.en.vtt\n",
      "[download] Destination: /Users/akanshagautam/Documents/MTech/Speech Understanding/Project/dataset/avspeech/train/YOySUCOJUtQ/YOySUCOJUtQ.en.vtt\n",
      "[download] 100% of  154.69KiB in 00:00:00 at 1.12MiB/s\n",
      "[SubtitlesConvertor] Converting subtitles\n",
      "Deleting original file /Users/akanshagautam/Documents/MTech/Speech Understanding/Project/dataset/avspeech/train/YOySUCOJUtQ/YOySUCOJUtQ.en.vtt (pass -k to keep)\n",
      "[download] Destination: /Users/akanshagautam/Documents/MTech/Speech Understanding/Project/dataset/avspeech/train/YOySUCOJUtQ/YOySUCOJUtQ.f136.mp4\n",
      "[download] 100% of   37.33MiB in 00:03:04 at 207.33KiB/s   \n",
      "[download] Destination: /Users/akanshagautam/Documents/MTech/Speech Understanding/Project/dataset/avspeech/train/YOySUCOJUtQ/YOySUCOJUtQ.f140.m4a\n",
      "[download] 100% of   17.61MiB in 00:00:22 at 800.43KiB/s   \n",
      "[Merger] Merging formats into \"/Users/akanshagautam/Documents/MTech/Speech Understanding/Project/dataset/avspeech/train/YOySUCOJUtQ/YOySUCOJUtQ.mp4\"\n",
      "Deleting original file /Users/akanshagautam/Documents/MTech/Speech Understanding/Project/dataset/avspeech/train/YOySUCOJUtQ/YOySUCOJUtQ.f140.m4a (pass -k to keep)\n",
      "Deleting original file /Users/akanshagautam/Documents/MTech/Speech Understanding/Project/dataset/avspeech/train/YOySUCOJUtQ/YOySUCOJUtQ.f136.mp4 (pass -k to keep)\n",
      "✅ Downloaded: YOySUCOJUtQ\n"
     ]
    },
    {
     "name": "stderr",
     "output_type": "stream",
     "text": [
      "/Users/akanshagautam/Documents/MTech/ml_env/lib/python3.9/site-packages/urllib3/__init__.py:35: NotOpenSSLWarning: urllib3 v2 only supports OpenSSL 1.1.1+, currently the 'ssl' module is compiled with 'LibreSSL 2.8.3'. See: https://github.com/urllib3/urllib3/issues/3020\n",
      "  warnings.warn(\n"
     ]
    },
    {
     "name": "stdout",
     "output_type": "stream",
     "text": [
      "[youtube] Extracting URL: https://www.youtube.com/watch?v=ft3fl0x3gFo\n",
      "[youtube] ft3fl0x3gFo: Downloading webpage\n",
      "[youtube] ft3fl0x3gFo: Downloading tv client config\n",
      "[youtube] ft3fl0x3gFo: Downloading player 64be519f\n",
      "[youtube] ft3fl0x3gFo: Downloading tv player API JSON\n",
      "[youtube] ft3fl0x3gFo: Downloading ios player API JSON\n",
      "[youtube] ft3fl0x3gFo: Downloading m3u8 information\n",
      "[info] ft3fl0x3gFo: Downloading 1 format(s): 140\n",
      "[download] Destination: /Users/akanshagautam/Documents/MTech/Speech Understanding/Project/dataset/avspeech/train/ft3fl0x3gFo/ft3fl0x3gFo_audio.m4a\n",
      "[download] 100% of   15.18MiB in 00:00:25 at 615.72KiB/s   \n",
      "[FixupM4a] Correcting container of \"/Users/akanshagautam/Documents/MTech/Speech Understanding/Project/dataset/avspeech/train/ft3fl0x3gFo/ft3fl0x3gFo_audio.m4a\"\n",
      "[ExtractAudio] Destination: /Users/akanshagautam/Documents/MTech/Speech Understanding/Project/dataset/avspeech/train/ft3fl0x3gFo/ft3fl0x3gFo_audio.wav\n",
      "Deleting original file /Users/akanshagautam/Documents/MTech/Speech Understanding/Project/dataset/avspeech/train/ft3fl0x3gFo/ft3fl0x3gFo_audio.m4a (pass -k to keep)\n"
     ]
    },
    {
     "name": "stderr",
     "output_type": "stream",
     "text": [
      "/Users/akanshagautam/Documents/MTech/ml_env/lib/python3.9/site-packages/whisper/transcribe.py:126: UserWarning: FP16 is not supported on CPU; using FP32 instead\n",
      "  warnings.warn(\"FP16 is not supported on CPU; using FP32 instead\")\n"
     ]
    },
    {
     "name": "stdout",
     "output_type": "stream",
     "text": [
      "Skipping non-English audio: ft3fl0x3gFo\n"
     ]
    },
    {
     "name": "stderr",
     "output_type": "stream",
     "text": [
      "/Users/akanshagautam/Documents/MTech/ml_env/lib/python3.9/site-packages/urllib3/__init__.py:35: NotOpenSSLWarning: urllib3 v2 only supports OpenSSL 1.1.1+, currently the 'ssl' module is compiled with 'LibreSSL 2.8.3'. See: https://github.com/urllib3/urllib3/issues/3020\n",
      "  warnings.warn(\n"
     ]
    },
    {
     "name": "stdout",
     "output_type": "stream",
     "text": [
      "[youtube] Extracting URL: https://www.youtube.com/watch?v=7DBdAnTuw5c\n",
      "[youtube] 7DBdAnTuw5c: Downloading webpage\n",
      "[youtube] 7DBdAnTuw5c: Downloading tv client config\n",
      "[youtube] 7DBdAnTuw5c: Downloading player 64be519f\n",
      "[youtube] 7DBdAnTuw5c: Downloading tv player API JSON\n",
      "[youtube] 7DBdAnTuw5c: Downloading ios player API JSON\n"
     ]
    },
    {
     "name": "stderr",
     "output_type": "stream",
     "text": [
      "ERROR: [youtube] 7DBdAnTuw5c: Video unavailable\n",
      "/Users/akanshagautam/Documents/MTech/ml_env/lib/python3.9/site-packages/urllib3/__init__.py:35: NotOpenSSLWarning: urllib3 v2 only supports OpenSSL 1.1.1+, currently the 'ssl' module is compiled with 'LibreSSL 2.8.3'. See: https://github.com/urllib3/urllib3/issues/3020\n",
      "  warnings.warn(\n"
     ]
    },
    {
     "name": "stdout",
     "output_type": "stream",
     "text": [
      "Error downloading 7DBdAnTuw5c: Command 'yt-dlp --extract-audio --audio-format wav --output \"/Users/akanshagautam/Documents/MTech/Speech Understanding/Project/dataset/avspeech/train/7DBdAnTuw5c/7DBdAnTuw5c_audio.%(ext)s\" https://www.youtube.com/watch?v=7DBdAnTuw5c' returned non-zero exit status 1.\n",
      "[youtube] Extracting URL: https://www.youtube.com/watch?v=ibPOxQ7XYPk\n",
      "[youtube] ibPOxQ7XYPk: Downloading webpage\n",
      "[youtube] ibPOxQ7XYPk: Downloading tv client config\n",
      "[youtube] ibPOxQ7XYPk: Downloading player 64be519f\n",
      "[youtube] ibPOxQ7XYPk: Downloading tv player API JSON\n",
      "[youtube] ibPOxQ7XYPk: Downloading ios player API JSON\n",
      "[youtube] ibPOxQ7XYPk: Downloading m3u8 information\n",
      "[info] ibPOxQ7XYPk: Downloading 1 format(s): 251\n",
      "[download] Destination: /Users/akanshagautam/Documents/MTech/Speech Understanding/Project/dataset/avspeech/train/ibPOxQ7XYPk/ibPOxQ7XYPk_audio.webm\n",
      "[download] 100% of    9.54MiB in 00:01:05 at 148.61KiB/s \n",
      "[ExtractAudio] Destination: /Users/akanshagautam/Documents/MTech/Speech Understanding/Project/dataset/avspeech/train/ibPOxQ7XYPk/ibPOxQ7XYPk_audio.wav\n",
      "Deleting original file /Users/akanshagautam/Documents/MTech/Speech Understanding/Project/dataset/avspeech/train/ibPOxQ7XYPk/ibPOxQ7XYPk_audio.webm (pass -k to keep)\n"
     ]
    },
    {
     "name": "stderr",
     "output_type": "stream",
     "text": [
      "/Users/akanshagautam/Documents/MTech/ml_env/lib/python3.9/site-packages/whisper/transcribe.py:126: UserWarning: FP16 is not supported on CPU; using FP32 instead\n",
      "  warnings.warn(\"FP16 is not supported on CPU; using FP32 instead\")\n"
     ]
    },
    {
     "name": "stdout",
     "output_type": "stream",
     "text": [
      "Skipping non-English audio: ibPOxQ7XYPk\n"
     ]
    },
    {
     "name": "stderr",
     "output_type": "stream",
     "text": [
      "/Users/akanshagautam/Documents/MTech/ml_env/lib/python3.9/site-packages/urllib3/__init__.py:35: NotOpenSSLWarning: urllib3 v2 only supports OpenSSL 1.1.1+, currently the 'ssl' module is compiled with 'LibreSSL 2.8.3'. See: https://github.com/urllib3/urllib3/issues/3020\n",
      "  warnings.warn(\n"
     ]
    },
    {
     "name": "stdout",
     "output_type": "stream",
     "text": [
      "[youtube] Extracting URL: https://www.youtube.com/watch?v=ausPEm5ZWQE\n",
      "[youtube] ausPEm5ZWQE: Downloading webpage\n",
      "[youtube] ausPEm5ZWQE: Downloading tv client config\n",
      "[youtube] ausPEm5ZWQE: Downloading player 64be519f\n",
      "[youtube] ausPEm5ZWQE: Downloading tv player API JSON\n",
      "[youtube] ausPEm5ZWQE: Downloading ios player API JSON\n",
      "Error downloading ausPEm5ZWQE: Command 'yt-dlp --extract-audio --audio-format wav --output \"/Users/akanshagautam/Documents/MTech/Speech Understanding/Project/dataset/avspeech/train/ausPEm5ZWQE/ausPEm5ZWQE_audio.%(ext)s\" https://www.youtube.com/watch?v=ausPEm5ZWQE' returned non-zero exit status 1.\n"
     ]
    },
    {
     "name": "stderr",
     "output_type": "stream",
     "text": [
      "ERROR: [youtube] ausPEm5ZWQE: Video unavailable. This video is no longer available because the YouTube account associated with this video has been terminated.\n",
      "/Users/akanshagautam/Documents/MTech/ml_env/lib/python3.9/site-packages/urllib3/__init__.py:35: NotOpenSSLWarning: urllib3 v2 only supports OpenSSL 1.1.1+, currently the 'ssl' module is compiled with 'LibreSSL 2.8.3'. See: https://github.com/urllib3/urllib3/issues/3020\n",
      "  warnings.warn(\n"
     ]
    },
    {
     "name": "stdout",
     "output_type": "stream",
     "text": [
      "[youtube] Extracting URL: https://www.youtube.com/watch?v=a2iQ7kB5b6s\n",
      "[youtube] a2iQ7kB5b6s: Downloading webpage\n",
      "[youtube] a2iQ7kB5b6s: Downloading tv client config\n",
      "[youtube] a2iQ7kB5b6s: Downloading player 64be519f\n",
      "[youtube] a2iQ7kB5b6s: Downloading tv player API JSON\n",
      "[youtube] a2iQ7kB5b6s: Downloading ios player API JSON\n",
      "[youtube] a2iQ7kB5b6s: Downloading m3u8 information\n",
      "[info] a2iQ7kB5b6s: Downloading 1 format(s): 251\n",
      "[download] Destination: /Users/akanshagautam/Documents/MTech/Speech Understanding/Project/dataset/avspeech/train/a2iQ7kB5b6s/a2iQ7kB5b6s_audio.webm\n",
      "[download] 100% of   10.08MiB in 00:01:43 at 99.37KiB/s  \n",
      "[ExtractAudio] Destination: /Users/akanshagautam/Documents/MTech/Speech Understanding/Project/dataset/avspeech/train/a2iQ7kB5b6s/a2iQ7kB5b6s_audio.wav\n",
      "Deleting original file /Users/akanshagautam/Documents/MTech/Speech Understanding/Project/dataset/avspeech/train/a2iQ7kB5b6s/a2iQ7kB5b6s_audio.webm (pass -k to keep)\n"
     ]
    },
    {
     "name": "stderr",
     "output_type": "stream",
     "text": [
      "/Users/akanshagautam/Documents/MTech/ml_env/lib/python3.9/site-packages/whisper/transcribe.py:126: UserWarning: FP16 is not supported on CPU; using FP32 instead\n",
      "  warnings.warn(\"FP16 is not supported on CPU; using FP32 instead\")\n"
     ]
    },
    {
     "name": "stdout",
     "output_type": "stream",
     "text": [
      "Skipping non-English audio: a2iQ7kB5b6s\n"
     ]
    },
    {
     "name": "stderr",
     "output_type": "stream",
     "text": [
      "/Users/akanshagautam/Documents/MTech/ml_env/lib/python3.9/site-packages/urllib3/__init__.py:35: NotOpenSSLWarning: urllib3 v2 only supports OpenSSL 1.1.1+, currently the 'ssl' module is compiled with 'LibreSSL 2.8.3'. See: https://github.com/urllib3/urllib3/issues/3020\n",
      "  warnings.warn(\n"
     ]
    },
    {
     "name": "stdout",
     "output_type": "stream",
     "text": [
      "[youtube] Extracting URL: https://www.youtube.com/watch?v=WddCvVatDlo\n",
      "[youtube] WddCvVatDlo: Downloading webpage\n",
      "[youtube] WddCvVatDlo: Downloading tv client config\n",
      "[youtube] WddCvVatDlo: Downloading player 64be519f\n",
      "[youtube] WddCvVatDlo: Downloading tv player API JSON\n",
      "[youtube] WddCvVatDlo: Downloading ios player API JSON\n",
      "Error downloading WddCvVatDlo: Command 'yt-dlp --extract-audio --audio-format wav --output \"/Users/akanshagautam/Documents/MTech/Speech Understanding/Project/dataset/avspeech/train/WddCvVatDlo/WddCvVatDlo_audio.%(ext)s\" https://www.youtube.com/watch?v=WddCvVatDlo' returned non-zero exit status 1.\n"
     ]
    },
    {
     "name": "stderr",
     "output_type": "stream",
     "text": [
      "ERROR: [youtube] WddCvVatDlo: Video unavailable. This video is no longer available because the YouTube account associated with this video has been terminated.\n",
      "/Users/akanshagautam/Documents/MTech/ml_env/lib/python3.9/site-packages/urllib3/__init__.py:35: NotOpenSSLWarning: urllib3 v2 only supports OpenSSL 1.1.1+, currently the 'ssl' module is compiled with 'LibreSSL 2.8.3'. See: https://github.com/urllib3/urllib3/issues/3020\n",
      "  warnings.warn(\n"
     ]
    },
    {
     "name": "stdout",
     "output_type": "stream",
     "text": [
      "[youtube] Extracting URL: https://www.youtube.com/watch?v=04BgTYq4Ckk\n",
      "[youtube] 04BgTYq4Ckk: Downloading webpage\n",
      "[youtube] 04BgTYq4Ckk: Downloading tv client config\n",
      "[youtube] 04BgTYq4Ckk: Downloading player 64be519f\n",
      "[youtube] 04BgTYq4Ckk: Downloading tv player API JSON\n",
      "[youtube] 04BgTYq4Ckk: Downloading ios player API JSON\n",
      "Error downloading 04BgTYq4Ckk: Command 'yt-dlp --extract-audio --audio-format wav --output \"/Users/akanshagautam/Documents/MTech/Speech Understanding/Project/dataset/avspeech/train/04BgTYq4Ckk/04BgTYq4Ckk_audio.%(ext)s\" https://www.youtube.com/watch?v=04BgTYq4Ckk' returned non-zero exit status 1.\n"
     ]
    },
    {
     "name": "stderr",
     "output_type": "stream",
     "text": [
      "ERROR: [youtube] 04BgTYq4Ckk: Video unavailable\n",
      "/Users/akanshagautam/Documents/MTech/ml_env/lib/python3.9/site-packages/urllib3/__init__.py:35: NotOpenSSLWarning: urllib3 v2 only supports OpenSSL 1.1.1+, currently the 'ssl' module is compiled with 'LibreSSL 2.8.3'. See: https://github.com/urllib3/urllib3/issues/3020\n",
      "  warnings.warn(\n"
     ]
    },
    {
     "name": "stdout",
     "output_type": "stream",
     "text": [
      "[youtube] Extracting URL: https://www.youtube.com/watch?v=wBDD5wTG7P0\n",
      "[youtube] wBDD5wTG7P0: Downloading webpage\n",
      "[youtube] wBDD5wTG7P0: Downloading tv client config\n",
      "[youtube] wBDD5wTG7P0: Downloading player 64be519f\n",
      "[youtube] wBDD5wTG7P0: Downloading tv player API JSON\n",
      "[youtube] wBDD5wTG7P0: Downloading ios player API JSON\n",
      "[youtube] wBDD5wTG7P0: Downloading m3u8 information\n",
      "[info] wBDD5wTG7P0: Downloading 1 format(s): 140\n",
      "[download] Destination: /Users/akanshagautam/Documents/MTech/Speech Understanding/Project/dataset/avspeech/train/wBDD5wTG7P0/wBDD5wTG7P0_audio.m4a\n",
      "[download] 100% of    9.19MiB in 00:01:01 at 153.96KiB/s \n",
      "[FixupM4a] Correcting container of \"/Users/akanshagautam/Documents/MTech/Speech Understanding/Project/dataset/avspeech/train/wBDD5wTG7P0/wBDD5wTG7P0_audio.m4a\"\n",
      "[ExtractAudio] Destination: /Users/akanshagautam/Documents/MTech/Speech Understanding/Project/dataset/avspeech/train/wBDD5wTG7P0/wBDD5wTG7P0_audio.wav\n",
      "Deleting original file /Users/akanshagautam/Documents/MTech/Speech Understanding/Project/dataset/avspeech/train/wBDD5wTG7P0/wBDD5wTG7P0_audio.m4a (pass -k to keep)\n"
     ]
    },
    {
     "name": "stderr",
     "output_type": "stream",
     "text": [
      "/Users/akanshagautam/Documents/MTech/ml_env/lib/python3.9/site-packages/whisper/transcribe.py:126: UserWarning: FP16 is not supported on CPU; using FP32 instead\n",
      "  warnings.warn(\"FP16 is not supported on CPU; using FP32 instead\")\n",
      "/Users/akanshagautam/Documents/MTech/ml_env/lib/python3.9/site-packages/urllib3/__init__.py:35: NotOpenSSLWarning: urllib3 v2 only supports OpenSSL 1.1.1+, currently the 'ssl' module is compiled with 'LibreSSL 2.8.3'. See: https://github.com/urllib3/urllib3/issues/3020\n",
      "  warnings.warn(\n"
     ]
    },
    {
     "name": "stdout",
     "output_type": "stream",
     "text": [
      "[youtube] Extracting URL: https://www.youtube.com/watch?v=wBDD5wTG7P0\n",
      "[youtube] wBDD5wTG7P0: Downloading webpage\n",
      "[youtube] wBDD5wTG7P0: Downloading tv client config\n",
      "[youtube] wBDD5wTG7P0: Downloading player 236fc64d\n",
      "[youtube] wBDD5wTG7P0: Downloading tv player API JSON\n",
      "[youtube] wBDD5wTG7P0: Downloading ios player API JSON\n",
      "[youtube] wBDD5wTG7P0: Downloading m3u8 information\n",
      "[info] wBDD5wTG7P0: Downloading subtitles: en\n",
      "[info] wBDD5wTG7P0: Downloading 1 format(s): 136+140\n",
      "[info] Writing video subtitles to: /Users/akanshagautam/Documents/MTech/Speech Understanding/Project/dataset/avspeech/train/wBDD5wTG7P0/wBDD5wTG7P0.en.vtt\n",
      "[download] Destination: /Users/akanshagautam/Documents/MTech/Speech Understanding/Project/dataset/avspeech/train/wBDD5wTG7P0/wBDD5wTG7P0.en.vtt\n",
      "[download] 100% of   62.84KiB in 00:00:00 at 467.68KiB/s\n",
      "[SubtitlesConvertor] Converting subtitles\n",
      "Deleting original file /Users/akanshagautam/Documents/MTech/Speech Understanding/Project/dataset/avspeech/train/wBDD5wTG7P0/wBDD5wTG7P0.en.vtt (pass -k to keep)\n",
      "[download] Destination: /Users/akanshagautam/Documents/MTech/Speech Understanding/Project/dataset/avspeech/train/wBDD5wTG7P0/wBDD5wTG7P0.f136.mp4\n",
      "[download] 100% of   62.96MiB in 00:05:08 at 209.03KiB/s   \n",
      "[download] Destination: /Users/akanshagautam/Documents/MTech/Speech Understanding/Project/dataset/avspeech/train/wBDD5wTG7P0/wBDD5wTG7P0.f140.m4a\n",
      "[download] 100% of    9.19MiB in 00:00:41 at 229.11KiB/s \n",
      "[Merger] Merging formats into \"/Users/akanshagautam/Documents/MTech/Speech Understanding/Project/dataset/avspeech/train/wBDD5wTG7P0/wBDD5wTG7P0.mp4\"\n",
      "Deleting original file /Users/akanshagautam/Documents/MTech/Speech Understanding/Project/dataset/avspeech/train/wBDD5wTG7P0/wBDD5wTG7P0.f140.m4a (pass -k to keep)\n",
      "Deleting original file /Users/akanshagautam/Documents/MTech/Speech Understanding/Project/dataset/avspeech/train/wBDD5wTG7P0/wBDD5wTG7P0.f136.mp4 (pass -k to keep)\n",
      "✅ Downloaded: wBDD5wTG7P0\n"
     ]
    },
    {
     "name": "stderr",
     "output_type": "stream",
     "text": [
      "/Users/akanshagautam/Documents/MTech/ml_env/lib/python3.9/site-packages/urllib3/__init__.py:35: NotOpenSSLWarning: urllib3 v2 only supports OpenSSL 1.1.1+, currently the 'ssl' module is compiled with 'LibreSSL 2.8.3'. See: https://github.com/urllib3/urllib3/issues/3020\n",
      "  warnings.warn(\n"
     ]
    },
    {
     "name": "stdout",
     "output_type": "stream",
     "text": [
      "[youtube] Extracting URL: https://www.youtube.com/watch?v=6LapKTptu8w\n",
      "[youtube] 6LapKTptu8w: Downloading webpage\n",
      "[youtube] 6LapKTptu8w: Downloading tv client config\n",
      "[youtube] 6LapKTptu8w: Downloading player 64be519f\n",
      "[youtube] 6LapKTptu8w: Downloading tv player API JSON\n",
      "[youtube] 6LapKTptu8w: Downloading ios player API JSON\n",
      "Error downloading 6LapKTptu8w: Command 'yt-dlp --extract-audio --audio-format wav --output \"/Users/akanshagautam/Documents/MTech/Speech Understanding/Project/dataset/avspeech/train/6LapKTptu8w/6LapKTptu8w_audio.%(ext)s\" https://www.youtube.com/watch?v=6LapKTptu8w' returned non-zero exit status 1.\n"
     ]
    },
    {
     "name": "stderr",
     "output_type": "stream",
     "text": [
      "ERROR: [youtube] 6LapKTptu8w: Video unavailable. This video is no longer available because the YouTube account associated with this video has been terminated.\n",
      "/Users/akanshagautam/Documents/MTech/ml_env/lib/python3.9/site-packages/urllib3/__init__.py:35: NotOpenSSLWarning: urllib3 v2 only supports OpenSSL 1.1.1+, currently the 'ssl' module is compiled with 'LibreSSL 2.8.3'. See: https://github.com/urllib3/urllib3/issues/3020\n",
      "  warnings.warn(\n"
     ]
    },
    {
     "name": "stdout",
     "output_type": "stream",
     "text": [
      "[youtube] Extracting URL: https://www.youtube.com/watch?v=gX8qtrFaLs4\n",
      "[youtube] gX8qtrFaLs4: Downloading webpage\n",
      "[youtube] gX8qtrFaLs4: Downloading tv client config\n",
      "[youtube] gX8qtrFaLs4: Downloading player 64be519f\n",
      "[youtube] gX8qtrFaLs4: Downloading tv player API JSON\n",
      "[youtube] gX8qtrFaLs4: Downloading ios player API JSON\n",
      "[youtube] gX8qtrFaLs4: Downloading m3u8 information\n",
      "[info] gX8qtrFaLs4: Downloading 1 format(s): 140\n",
      "[download] Destination: /Users/akanshagautam/Documents/MTech/Speech Understanding/Project/dataset/avspeech/train/gX8qtrFaLs4/gX8qtrFaLs4_audio.m4a\n",
      "[download] 100% of   12.41MiB in 00:00:22 at 565.03KiB/s   \n",
      "[FixupM4a] Correcting container of \"/Users/akanshagautam/Documents/MTech/Speech Understanding/Project/dataset/avspeech/train/gX8qtrFaLs4/gX8qtrFaLs4_audio.m4a\"\n",
      "[ExtractAudio] Destination: /Users/akanshagautam/Documents/MTech/Speech Understanding/Project/dataset/avspeech/train/gX8qtrFaLs4/gX8qtrFaLs4_audio.wav\n",
      "Deleting original file /Users/akanshagautam/Documents/MTech/Speech Understanding/Project/dataset/avspeech/train/gX8qtrFaLs4/gX8qtrFaLs4_audio.m4a (pass -k to keep)\n"
     ]
    },
    {
     "name": "stderr",
     "output_type": "stream",
     "text": [
      "/Users/akanshagautam/Documents/MTech/ml_env/lib/python3.9/site-packages/whisper/transcribe.py:126: UserWarning: FP16 is not supported on CPU; using FP32 instead\n",
      "  warnings.warn(\"FP16 is not supported on CPU; using FP32 instead\")\n"
     ]
    },
    {
     "name": "stdout",
     "output_type": "stream",
     "text": [
      "Skipping non-English audio: gX8qtrFaLs4\n"
     ]
    },
    {
     "name": "stderr",
     "output_type": "stream",
     "text": [
      "/Users/akanshagautam/Documents/MTech/ml_env/lib/python3.9/site-packages/urllib3/__init__.py:35: NotOpenSSLWarning: urllib3 v2 only supports OpenSSL 1.1.1+, currently the 'ssl' module is compiled with 'LibreSSL 2.8.3'. See: https://github.com/urllib3/urllib3/issues/3020\n",
      "  warnings.warn(\n"
     ]
    },
    {
     "name": "stdout",
     "output_type": "stream",
     "text": [
      "[youtube] Extracting URL: https://www.youtube.com/watch?v=XXtkzCkzA64\n",
      "[youtube] XXtkzCkzA64: Downloading webpage\n",
      "[youtube] XXtkzCkzA64: Downloading tv client config\n",
      "[youtube] XXtkzCkzA64: Downloading player 64be519f\n",
      "[youtube] XXtkzCkzA64: Downloading tv player API JSON\n",
      "[youtube] XXtkzCkzA64: Downloading ios player API JSON\n",
      "[youtube] XXtkzCkzA64: Downloading m3u8 information\n",
      "[info] XXtkzCkzA64: Downloading 1 format(s): 251\n",
      "[download] Destination: /Users/akanshagautam/Documents/MTech/Speech Understanding/Project/dataset/avspeech/train/XXtkzCkzA64/XXtkzCkzA64_audio.webm\n",
      "[download] 100% of    5.06MiB in 00:00:41 at 124.78KiB/s \n",
      "[ExtractAudio] Destination: /Users/akanshagautam/Documents/MTech/Speech Understanding/Project/dataset/avspeech/train/XXtkzCkzA64/XXtkzCkzA64_audio.wav\n",
      "Deleting original file /Users/akanshagautam/Documents/MTech/Speech Understanding/Project/dataset/avspeech/train/XXtkzCkzA64/XXtkzCkzA64_audio.webm (pass -k to keep)\n"
     ]
    },
    {
     "name": "stderr",
     "output_type": "stream",
     "text": [
      "/Users/akanshagautam/Documents/MTech/ml_env/lib/python3.9/site-packages/whisper/transcribe.py:126: UserWarning: FP16 is not supported on CPU; using FP32 instead\n",
      "  warnings.warn(\"FP16 is not supported on CPU; using FP32 instead\")\n"
     ]
    },
    {
     "name": "stdout",
     "output_type": "stream",
     "text": [
      "Skipping non-English audio: XXtkzCkzA64\n"
     ]
    },
    {
     "name": "stderr",
     "output_type": "stream",
     "text": [
      "/Users/akanshagautam/Documents/MTech/ml_env/lib/python3.9/site-packages/urllib3/__init__.py:35: NotOpenSSLWarning: urllib3 v2 only supports OpenSSL 1.1.1+, currently the 'ssl' module is compiled with 'LibreSSL 2.8.3'. See: https://github.com/urllib3/urllib3/issues/3020\n",
      "  warnings.warn(\n"
     ]
    },
    {
     "name": "stdout",
     "output_type": "stream",
     "text": [
      "[youtube] Extracting URL: https://www.youtube.com/watch?v=TH0xt8XIvVs\n",
      "[youtube] TH0xt8XIvVs: Downloading webpage\n",
      "[youtube] TH0xt8XIvVs: Downloading tv client config\n",
      "[youtube] TH0xt8XIvVs: Downloading player 64be519f\n",
      "[youtube] TH0xt8XIvVs: Downloading tv player API JSON\n",
      "[youtube] TH0xt8XIvVs: Downloading ios player API JSON\n",
      "Error downloading TH0xt8XIvVs: Command 'yt-dlp --extract-audio --audio-format wav --output \"/Users/akanshagautam/Documents/MTech/Speech Understanding/Project/dataset/avspeech/train/TH0xt8XIvVs/TH0xt8XIvVs_audio.%(ext)s\" https://www.youtube.com/watch?v=TH0xt8XIvVs' returned non-zero exit status 1.\n"
     ]
    },
    {
     "name": "stderr",
     "output_type": "stream",
     "text": [
      "ERROR: [youtube] TH0xt8XIvVs: Private video. Sign in if you've been granted access to this video. Use --cookies-from-browser or --cookies for the authentication. See  https://github.com/yt-dlp/yt-dlp/wiki/FAQ#how-do-i-pass-cookies-to-yt-dlp  for how to manually pass cookies. Also see  https://github.com/yt-dlp/yt-dlp/wiki/Extractors#exporting-youtube-cookies  for tips on effectively exporting YouTube cookies\n",
      "/Users/akanshagautam/Documents/MTech/ml_env/lib/python3.9/site-packages/urllib3/__init__.py:35: NotOpenSSLWarning: urllib3 v2 only supports OpenSSL 1.1.1+, currently the 'ssl' module is compiled with 'LibreSSL 2.8.3'. See: https://github.com/urllib3/urllib3/issues/3020\n",
      "  warnings.warn(\n"
     ]
    },
    {
     "name": "stdout",
     "output_type": "stream",
     "text": [
      "[youtube] Extracting URL: https://www.youtube.com/watch?v=H2VCPO0isFQ\n",
      "[youtube] H2VCPO0isFQ: Downloading webpage\n",
      "[youtube] H2VCPO0isFQ: Downloading tv client config\n",
      "[youtube] H2VCPO0isFQ: Downloading player 64be519f\n",
      "[youtube] H2VCPO0isFQ: Downloading tv player API JSON\n",
      "[youtube] H2VCPO0isFQ: Downloading ios player API JSON\n",
      "[youtube] H2VCPO0isFQ: Downloading m3u8 information\n",
      "[info] H2VCPO0isFQ: Downloading 1 format(s): 251\n",
      "[download] Destination: /Users/akanshagautam/Documents/MTech/Speech Understanding/Project/dataset/avspeech/train/H2VCPO0isFQ/H2VCPO0isFQ_audio.webm\n",
      "[download] 100% of   12.53MiB in 00:01:04 at 198.49KiB/s   \n",
      "[ExtractAudio] Destination: /Users/akanshagautam/Documents/MTech/Speech Understanding/Project/dataset/avspeech/train/H2VCPO0isFQ/H2VCPO0isFQ_audio.wav\n",
      "Deleting original file /Users/akanshagautam/Documents/MTech/Speech Understanding/Project/dataset/avspeech/train/H2VCPO0isFQ/H2VCPO0isFQ_audio.webm (pass -k to keep)\n"
     ]
    },
    {
     "name": "stderr",
     "output_type": "stream",
     "text": [
      "/Users/akanshagautam/Documents/MTech/ml_env/lib/python3.9/site-packages/whisper/transcribe.py:126: UserWarning: FP16 is not supported on CPU; using FP32 instead\n",
      "  warnings.warn(\"FP16 is not supported on CPU; using FP32 instead\")\n"
     ]
    },
    {
     "name": "stdout",
     "output_type": "stream",
     "text": [
      "Skipping non-English audio: H2VCPO0isFQ\n"
     ]
    },
    {
     "name": "stderr",
     "output_type": "stream",
     "text": [
      "/Users/akanshagautam/Documents/MTech/ml_env/lib/python3.9/site-packages/urllib3/__init__.py:35: NotOpenSSLWarning: urllib3 v2 only supports OpenSSL 1.1.1+, currently the 'ssl' module is compiled with 'LibreSSL 2.8.3'. See: https://github.com/urllib3/urllib3/issues/3020\n",
      "  warnings.warn(\n"
     ]
    },
    {
     "name": "stdout",
     "output_type": "stream",
     "text": [
      "[youtube] Extracting URL: https://www.youtube.com/watch?v=aVP0dc3dvtA\n",
      "[youtube] aVP0dc3dvtA: Downloading webpage\n",
      "[youtube] aVP0dc3dvtA: Downloading tv client config\n",
      "[youtube] aVP0dc3dvtA: Downloading player 236fc64d\n",
      "[youtube] aVP0dc3dvtA: Downloading tv player API JSON\n",
      "[youtube] aVP0dc3dvtA: Downloading ios player API JSON\n",
      "[youtube] aVP0dc3dvtA: Downloading m3u8 information\n",
      "[info] aVP0dc3dvtA: Downloading 1 format(s): 251\n",
      "[download] Destination: /Users/akanshagautam/Documents/MTech/Speech Understanding/Project/dataset/avspeech/train/aVP0dc3dvtA/aVP0dc3dvtA_audio.webm\n",
      "[download] 100% of    6.33MiB in 00:00:23 at 277.38KiB/s \n",
      "[ExtractAudio] Destination: /Users/akanshagautam/Documents/MTech/Speech Understanding/Project/dataset/avspeech/train/aVP0dc3dvtA/aVP0dc3dvtA_audio.wav\n",
      "Deleting original file /Users/akanshagautam/Documents/MTech/Speech Understanding/Project/dataset/avspeech/train/aVP0dc3dvtA/aVP0dc3dvtA_audio.webm (pass -k to keep)\n"
     ]
    },
    {
     "name": "stderr",
     "output_type": "stream",
     "text": [
      "/Users/akanshagautam/Documents/MTech/ml_env/lib/python3.9/site-packages/whisper/transcribe.py:126: UserWarning: FP16 is not supported on CPU; using FP32 instead\n",
      "  warnings.warn(\"FP16 is not supported on CPU; using FP32 instead\")\n"
     ]
    },
    {
     "name": "stdout",
     "output_type": "stream",
     "text": [
      "Skipping non-English audio: aVP0dc3dvtA\n"
     ]
    },
    {
     "name": "stderr",
     "output_type": "stream",
     "text": [
      "/Users/akanshagautam/Documents/MTech/ml_env/lib/python3.9/site-packages/urllib3/__init__.py:35: NotOpenSSLWarning: urllib3 v2 only supports OpenSSL 1.1.1+, currently the 'ssl' module is compiled with 'LibreSSL 2.8.3'. See: https://github.com/urllib3/urllib3/issues/3020\n",
      "  warnings.warn(\n"
     ]
    },
    {
     "name": "stdout",
     "output_type": "stream",
     "text": [
      "[youtube] Extracting URL: https://www.youtube.com/watch?v=5fnzANZN-O4\n",
      "[youtube] 5fnzANZN-O4: Downloading webpage\n",
      "[youtube] 5fnzANZN-O4: Downloading tv client config\n",
      "[youtube] 5fnzANZN-O4: Downloading player 64be519f\n",
      "[youtube] 5fnzANZN-O4: Downloading tv player API JSON\n",
      "[youtube] 5fnzANZN-O4: Downloading ios player API JSON\n",
      "Error downloading 5fnzANZN-O4: Command 'yt-dlp --extract-audio --audio-format wav --output \"/Users/akanshagautam/Documents/MTech/Speech Understanding/Project/dataset/avspeech/train/5fnzANZN-O4/5fnzANZN-O4_audio.%(ext)s\" https://www.youtube.com/watch?v=5fnzANZN-O4' returned non-zero exit status 1.\n"
     ]
    },
    {
     "name": "stderr",
     "output_type": "stream",
     "text": [
      "ERROR: [youtube] 5fnzANZN-O4: Private video. Sign in if you've been granted access to this video. Use --cookies-from-browser or --cookies for the authentication. See  https://github.com/yt-dlp/yt-dlp/wiki/FAQ#how-do-i-pass-cookies-to-yt-dlp  for how to manually pass cookies. Also see  https://github.com/yt-dlp/yt-dlp/wiki/Extractors#exporting-youtube-cookies  for tips on effectively exporting YouTube cookies\n",
      "/Users/akanshagautam/Documents/MTech/ml_env/lib/python3.9/site-packages/urllib3/__init__.py:35: NotOpenSSLWarning: urllib3 v2 only supports OpenSSL 1.1.1+, currently the 'ssl' module is compiled with 'LibreSSL 2.8.3'. See: https://github.com/urllib3/urllib3/issues/3020\n",
      "  warnings.warn(\n"
     ]
    },
    {
     "name": "stdout",
     "output_type": "stream",
     "text": [
      "[youtube] Extracting URL: https://www.youtube.com/watch?v=alHB2f34oRI\n",
      "[youtube] alHB2f34oRI: Downloading webpage\n",
      "[youtube] alHB2f34oRI: Downloading tv client config\n",
      "[youtube] alHB2f34oRI: Downloading player 64be519f\n",
      "[youtube] alHB2f34oRI: Downloading tv player API JSON\n",
      "[youtube] alHB2f34oRI: Downloading ios player API JSON\n",
      "[youtube] alHB2f34oRI: Downloading m3u8 information\n",
      "[info] alHB2f34oRI: Downloading 1 format(s): 251\n",
      "[download] Destination: /Users/akanshagautam/Documents/MTech/Speech Understanding/Project/dataset/avspeech/train/alHB2f34oRI/alHB2f34oRI_audio.webm\n",
      "[download] 100% of    6.75MiB in 00:00:22 at 306.12KiB/s \n",
      "[ExtractAudio] Destination: /Users/akanshagautam/Documents/MTech/Speech Understanding/Project/dataset/avspeech/train/alHB2f34oRI/alHB2f34oRI_audio.wav\n",
      "Deleting original file /Users/akanshagautam/Documents/MTech/Speech Understanding/Project/dataset/avspeech/train/alHB2f34oRI/alHB2f34oRI_audio.webm (pass -k to keep)\n"
     ]
    },
    {
     "name": "stderr",
     "output_type": "stream",
     "text": [
      "/Users/akanshagautam/Documents/MTech/ml_env/lib/python3.9/site-packages/whisper/transcribe.py:126: UserWarning: FP16 is not supported on CPU; using FP32 instead\n",
      "  warnings.warn(\"FP16 is not supported on CPU; using FP32 instead\")\n",
      "/Users/akanshagautam/Documents/MTech/ml_env/lib/python3.9/site-packages/urllib3/__init__.py:35: NotOpenSSLWarning: urllib3 v2 only supports OpenSSL 1.1.1+, currently the 'ssl' module is compiled with 'LibreSSL 2.8.3'. See: https://github.com/urllib3/urllib3/issues/3020\n",
      "  warnings.warn(\n"
     ]
    },
    {
     "name": "stdout",
     "output_type": "stream",
     "text": [
      "[youtube] Extracting URL: https://www.youtube.com/watch?v=alHB2f34oRI\n",
      "[youtube] alHB2f34oRI: Downloading webpage\n",
      "[youtube] alHB2f34oRI: Downloading tv client config\n",
      "[youtube] alHB2f34oRI: Downloading player 64be519f\n",
      "[youtube] alHB2f34oRI: Downloading tv player API JSON\n",
      "[youtube] alHB2f34oRI: Downloading ios player API JSON\n",
      "[youtube] alHB2f34oRI: Downloading m3u8 information\n",
      "[info] alHB2f34oRI: Downloading subtitles: en\n",
      "[info] alHB2f34oRI: Downloading 1 format(s): 137+140\n",
      "[info] Writing video subtitles to: /Users/akanshagautam/Documents/MTech/Speech Understanding/Project/dataset/avspeech/train/alHB2f34oRI/alHB2f34oRI.en.vtt\n",
      "[download] Destination: /Users/akanshagautam/Documents/MTech/Speech Understanding/Project/dataset/avspeech/train/alHB2f34oRI/alHB2f34oRI.en.vtt\n",
      "[download] 100% of   64.72KiB in 00:00:00 at 477.10KiB/s\n",
      "[SubtitlesConvertor] Converting subtitles\n",
      "Deleting original file /Users/akanshagautam/Documents/MTech/Speech Understanding/Project/dataset/avspeech/train/alHB2f34oRI/alHB2f34oRI.en.vtt (pass -k to keep)\n",
      "[download] Destination: /Users/akanshagautam/Documents/MTech/Speech Understanding/Project/dataset/avspeech/train/alHB2f34oRI/alHB2f34oRI.f137.mp4\n",
      "[download]  24.5% of  201.71MiB at   14.62MiB/s ETA 00:10   "
     ]
    }
   ],
   "source": [
    "download_dataset(avspeech_train_df)"
   ]
  }
 ],
 "metadata": {
  "kernelspec": {
   "display_name": "ml_env",
   "language": "python",
   "name": "python3"
  },
  "language_info": {
   "codemirror_mode": {
    "name": "ipython",
    "version": 3
   },
   "file_extension": ".py",
   "mimetype": "text/x-python",
   "name": "python",
   "nbconvert_exporter": "python",
   "pygments_lexer": "ipython3",
   "version": "3.9.6"
  }
 },
 "nbformat": 4,
 "nbformat_minor": 2
}
